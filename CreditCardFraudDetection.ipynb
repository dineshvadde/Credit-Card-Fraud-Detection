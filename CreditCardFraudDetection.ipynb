{
  "nbformat": 4,
  "nbformat_minor": 0,
  "metadata": {
    "colab": {
      "name": "CreditCardFraudDetectionFinal.ipynb",
      "provenance": [],
      "collapsed_sections": []
    },
    "kernelspec": {
      "name": "python3",
      "display_name": "Python 3"
    }
  },
  "cells": [
    {
      "cell_type": "markdown",
      "metadata": {
        "id": "vHi3Gm714gX-",
        "colab_type": "text"
      },
      "source": [
        "# **Credit Card Fraud Detection**"
      ]
    },
    {
      "cell_type": "code",
      "metadata": {
        "id": "RpEKCQIHOF6s",
        "colab_type": "code",
        "outputId": "5fe76d77-96c4-4e76-9dd7-587b20be101e",
        "colab": {
          "base_uri": "https://localhost:8080/",
          "height": 72
        }
      },
      "source": [
        "import numpy as np\n",
        "import pandas as pd\n",
        "\n",
        "import matplotlib.pyplot as plt\n",
        "%matplotlib inline\n",
        "import seaborn as sns\n",
        "\n",
        "from sklearn import metrics\n",
        "from sklearn import preprocessing"
      ],
      "execution_count": 1,
      "outputs": [
        {
          "output_type": "stream",
          "text": [
            "/usr/local/lib/python3.6/dist-packages/statsmodels/tools/_testing.py:19: FutureWarning: pandas.util.testing is deprecated. Use the functions in the public API at pandas.testing instead.\n",
            "  import pandas.util.testing as tm\n"
          ],
          "name": "stderr"
        }
      ]
    },
    {
      "cell_type": "markdown",
      "metadata": {
        "id": "M-4eIqqH5Bk8",
        "colab_type": "text"
      },
      "source": [
        "## Load Data from Google Drive"
      ]
    },
    {
      "cell_type": "code",
      "metadata": {
        "id": "j65bPJvGEXN4",
        "colab_type": "code",
        "outputId": "73bc3e70-bd24-445a-a120-27594ebc8cdc",
        "colab": {
          "base_uri": "https://localhost:8080/",
          "height": 35
        }
      },
      "source": [
        "# mount drive to colab\n",
        "from google.colab import drive\n",
        "drive.mount('/content/drive')"
      ],
      "execution_count": 2,
      "outputs": [
        {
          "output_type": "stream",
          "text": [
            "Drive already mounted at /content/drive; to attempt to forcibly remount, call drive.mount(\"/content/drive\", force_remount=True).\n"
          ],
          "name": "stdout"
        }
      ]
    },
    {
      "cell_type": "code",
      "metadata": {
        "id": "wC7iOV7yEtdp",
        "colab_type": "code",
        "colab": {}
      },
      "source": [
        "# load data from drive\n",
        "df=pd.read_csv('drive/My Drive/creditcard.csv')"
      ],
      "execution_count": 0,
      "outputs": []
    },
    {
      "cell_type": "code",
      "metadata": {
        "id": "zI__U7vEN9D1",
        "colab_type": "code",
        "outputId": "3c698643-7349-4353-9a8b-7db501c443ac",
        "colab": {
          "base_uri": "https://localhost:8080/",
          "height": 222
        }
      },
      "source": [
        "df.head()"
      ],
      "execution_count": 4,
      "outputs": [
        {
          "output_type": "execute_result",
          "data": {
            "text/html": [
              "<div>\n",
              "<style scoped>\n",
              "    .dataframe tbody tr th:only-of-type {\n",
              "        vertical-align: middle;\n",
              "    }\n",
              "\n",
              "    .dataframe tbody tr th {\n",
              "        vertical-align: top;\n",
              "    }\n",
              "\n",
              "    .dataframe thead th {\n",
              "        text-align: right;\n",
              "    }\n",
              "</style>\n",
              "<table border=\"1\" class=\"dataframe\">\n",
              "  <thead>\n",
              "    <tr style=\"text-align: right;\">\n",
              "      <th></th>\n",
              "      <th>Time</th>\n",
              "      <th>V1</th>\n",
              "      <th>V2</th>\n",
              "      <th>V3</th>\n",
              "      <th>V4</th>\n",
              "      <th>V5</th>\n",
              "      <th>V6</th>\n",
              "      <th>V7</th>\n",
              "      <th>V8</th>\n",
              "      <th>V9</th>\n",
              "      <th>V10</th>\n",
              "      <th>V11</th>\n",
              "      <th>V12</th>\n",
              "      <th>V13</th>\n",
              "      <th>V14</th>\n",
              "      <th>V15</th>\n",
              "      <th>V16</th>\n",
              "      <th>V17</th>\n",
              "      <th>V18</th>\n",
              "      <th>V19</th>\n",
              "      <th>V20</th>\n",
              "      <th>V21</th>\n",
              "      <th>V22</th>\n",
              "      <th>V23</th>\n",
              "      <th>V24</th>\n",
              "      <th>V25</th>\n",
              "      <th>V26</th>\n",
              "      <th>V27</th>\n",
              "      <th>V28</th>\n",
              "      <th>Amount</th>\n",
              "      <th>Class</th>\n",
              "    </tr>\n",
              "  </thead>\n",
              "  <tbody>\n",
              "    <tr>\n",
              "      <th>0</th>\n",
              "      <td>0.0</td>\n",
              "      <td>-1.359807</td>\n",
              "      <td>-0.072781</td>\n",
              "      <td>2.536347</td>\n",
              "      <td>1.378155</td>\n",
              "      <td>-0.338321</td>\n",
              "      <td>0.462388</td>\n",
              "      <td>0.239599</td>\n",
              "      <td>0.098698</td>\n",
              "      <td>0.363787</td>\n",
              "      <td>0.090794</td>\n",
              "      <td>-0.551600</td>\n",
              "      <td>-0.617801</td>\n",
              "      <td>-0.991390</td>\n",
              "      <td>-0.311169</td>\n",
              "      <td>1.468177</td>\n",
              "      <td>-0.470401</td>\n",
              "      <td>0.207971</td>\n",
              "      <td>0.025791</td>\n",
              "      <td>0.403993</td>\n",
              "      <td>0.251412</td>\n",
              "      <td>-0.018307</td>\n",
              "      <td>0.277838</td>\n",
              "      <td>-0.110474</td>\n",
              "      <td>0.066928</td>\n",
              "      <td>0.128539</td>\n",
              "      <td>-0.189115</td>\n",
              "      <td>0.133558</td>\n",
              "      <td>-0.021053</td>\n",
              "      <td>149.62</td>\n",
              "      <td>0</td>\n",
              "    </tr>\n",
              "    <tr>\n",
              "      <th>1</th>\n",
              "      <td>0.0</td>\n",
              "      <td>1.191857</td>\n",
              "      <td>0.266151</td>\n",
              "      <td>0.166480</td>\n",
              "      <td>0.448154</td>\n",
              "      <td>0.060018</td>\n",
              "      <td>-0.082361</td>\n",
              "      <td>-0.078803</td>\n",
              "      <td>0.085102</td>\n",
              "      <td>-0.255425</td>\n",
              "      <td>-0.166974</td>\n",
              "      <td>1.612727</td>\n",
              "      <td>1.065235</td>\n",
              "      <td>0.489095</td>\n",
              "      <td>-0.143772</td>\n",
              "      <td>0.635558</td>\n",
              "      <td>0.463917</td>\n",
              "      <td>-0.114805</td>\n",
              "      <td>-0.183361</td>\n",
              "      <td>-0.145783</td>\n",
              "      <td>-0.069083</td>\n",
              "      <td>-0.225775</td>\n",
              "      <td>-0.638672</td>\n",
              "      <td>0.101288</td>\n",
              "      <td>-0.339846</td>\n",
              "      <td>0.167170</td>\n",
              "      <td>0.125895</td>\n",
              "      <td>-0.008983</td>\n",
              "      <td>0.014724</td>\n",
              "      <td>2.69</td>\n",
              "      <td>0</td>\n",
              "    </tr>\n",
              "    <tr>\n",
              "      <th>2</th>\n",
              "      <td>1.0</td>\n",
              "      <td>-1.358354</td>\n",
              "      <td>-1.340163</td>\n",
              "      <td>1.773209</td>\n",
              "      <td>0.379780</td>\n",
              "      <td>-0.503198</td>\n",
              "      <td>1.800499</td>\n",
              "      <td>0.791461</td>\n",
              "      <td>0.247676</td>\n",
              "      <td>-1.514654</td>\n",
              "      <td>0.207643</td>\n",
              "      <td>0.624501</td>\n",
              "      <td>0.066084</td>\n",
              "      <td>0.717293</td>\n",
              "      <td>-0.165946</td>\n",
              "      <td>2.345865</td>\n",
              "      <td>-2.890083</td>\n",
              "      <td>1.109969</td>\n",
              "      <td>-0.121359</td>\n",
              "      <td>-2.261857</td>\n",
              "      <td>0.524980</td>\n",
              "      <td>0.247998</td>\n",
              "      <td>0.771679</td>\n",
              "      <td>0.909412</td>\n",
              "      <td>-0.689281</td>\n",
              "      <td>-0.327642</td>\n",
              "      <td>-0.139097</td>\n",
              "      <td>-0.055353</td>\n",
              "      <td>-0.059752</td>\n",
              "      <td>378.66</td>\n",
              "      <td>0</td>\n",
              "    </tr>\n",
              "    <tr>\n",
              "      <th>3</th>\n",
              "      <td>1.0</td>\n",
              "      <td>-0.966272</td>\n",
              "      <td>-0.185226</td>\n",
              "      <td>1.792993</td>\n",
              "      <td>-0.863291</td>\n",
              "      <td>-0.010309</td>\n",
              "      <td>1.247203</td>\n",
              "      <td>0.237609</td>\n",
              "      <td>0.377436</td>\n",
              "      <td>-1.387024</td>\n",
              "      <td>-0.054952</td>\n",
              "      <td>-0.226487</td>\n",
              "      <td>0.178228</td>\n",
              "      <td>0.507757</td>\n",
              "      <td>-0.287924</td>\n",
              "      <td>-0.631418</td>\n",
              "      <td>-1.059647</td>\n",
              "      <td>-0.684093</td>\n",
              "      <td>1.965775</td>\n",
              "      <td>-1.232622</td>\n",
              "      <td>-0.208038</td>\n",
              "      <td>-0.108300</td>\n",
              "      <td>0.005274</td>\n",
              "      <td>-0.190321</td>\n",
              "      <td>-1.175575</td>\n",
              "      <td>0.647376</td>\n",
              "      <td>-0.221929</td>\n",
              "      <td>0.062723</td>\n",
              "      <td>0.061458</td>\n",
              "      <td>123.50</td>\n",
              "      <td>0</td>\n",
              "    </tr>\n",
              "    <tr>\n",
              "      <th>4</th>\n",
              "      <td>2.0</td>\n",
              "      <td>-1.158233</td>\n",
              "      <td>0.877737</td>\n",
              "      <td>1.548718</td>\n",
              "      <td>0.403034</td>\n",
              "      <td>-0.407193</td>\n",
              "      <td>0.095921</td>\n",
              "      <td>0.592941</td>\n",
              "      <td>-0.270533</td>\n",
              "      <td>0.817739</td>\n",
              "      <td>0.753074</td>\n",
              "      <td>-0.822843</td>\n",
              "      <td>0.538196</td>\n",
              "      <td>1.345852</td>\n",
              "      <td>-1.119670</td>\n",
              "      <td>0.175121</td>\n",
              "      <td>-0.451449</td>\n",
              "      <td>-0.237033</td>\n",
              "      <td>-0.038195</td>\n",
              "      <td>0.803487</td>\n",
              "      <td>0.408542</td>\n",
              "      <td>-0.009431</td>\n",
              "      <td>0.798278</td>\n",
              "      <td>-0.137458</td>\n",
              "      <td>0.141267</td>\n",
              "      <td>-0.206010</td>\n",
              "      <td>0.502292</td>\n",
              "      <td>0.219422</td>\n",
              "      <td>0.215153</td>\n",
              "      <td>69.99</td>\n",
              "      <td>0</td>\n",
              "    </tr>\n",
              "  </tbody>\n",
              "</table>\n",
              "</div>"
            ],
            "text/plain": [
              "   Time        V1        V2        V3  ...       V27       V28  Amount  Class\n",
              "0   0.0 -1.359807 -0.072781  2.536347  ...  0.133558 -0.021053  149.62      0\n",
              "1   0.0  1.191857  0.266151  0.166480  ... -0.008983  0.014724    2.69      0\n",
              "2   1.0 -1.358354 -1.340163  1.773209  ... -0.055353 -0.059752  378.66      0\n",
              "3   1.0 -0.966272 -0.185226  1.792993  ...  0.062723  0.061458  123.50      0\n",
              "4   2.0 -1.158233  0.877737  1.548718  ...  0.219422  0.215153   69.99      0\n",
              "\n",
              "[5 rows x 31 columns]"
            ]
          },
          "metadata": {
            "tags": []
          },
          "execution_count": 4
        }
      ]
    },
    {
      "cell_type": "code",
      "metadata": {
        "id": "vA0TDBUDUxY2",
        "colab_type": "code",
        "outputId": "64678017-af2f-4414-c4cf-263fb182d8aa",
        "colab": {
          "base_uri": "https://localhost:8080/",
          "height": 676
        }
      },
      "source": [
        "df.info()"
      ],
      "execution_count": 5,
      "outputs": [
        {
          "output_type": "stream",
          "text": [
            "<class 'pandas.core.frame.DataFrame'>\n",
            "RangeIndex: 284807 entries, 0 to 284806\n",
            "Data columns (total 31 columns):\n",
            " #   Column  Non-Null Count   Dtype  \n",
            "---  ------  --------------   -----  \n",
            " 0   Time    284807 non-null  float64\n",
            " 1   V1      284807 non-null  float64\n",
            " 2   V2      284807 non-null  float64\n",
            " 3   V3      284807 non-null  float64\n",
            " 4   V4      284807 non-null  float64\n",
            " 5   V5      284807 non-null  float64\n",
            " 6   V6      284807 non-null  float64\n",
            " 7   V7      284807 non-null  float64\n",
            " 8   V8      284807 non-null  float64\n",
            " 9   V9      284807 non-null  float64\n",
            " 10  V10     284807 non-null  float64\n",
            " 11  V11     284807 non-null  float64\n",
            " 12  V12     284807 non-null  float64\n",
            " 13  V13     284807 non-null  float64\n",
            " 14  V14     284807 non-null  float64\n",
            " 15  V15     284807 non-null  float64\n",
            " 16  V16     284807 non-null  float64\n",
            " 17  V17     284807 non-null  float64\n",
            " 18  V18     284807 non-null  float64\n",
            " 19  V19     284807 non-null  float64\n",
            " 20  V20     284807 non-null  float64\n",
            " 21  V21     284807 non-null  float64\n",
            " 22  V22     284807 non-null  float64\n",
            " 23  V23     284807 non-null  float64\n",
            " 24  V24     284807 non-null  float64\n",
            " 25  V25     284807 non-null  float64\n",
            " 26  V26     284807 non-null  float64\n",
            " 27  V27     284807 non-null  float64\n",
            " 28  V28     284807 non-null  float64\n",
            " 29  Amount  284807 non-null  float64\n",
            " 30  Class   284807 non-null  int64  \n",
            "dtypes: float64(30), int64(1)\n",
            "memory usage: 67.4 MB\n"
          ],
          "name": "stdout"
        }
      ]
    },
    {
      "cell_type": "markdown",
      "metadata": {
        "id": "JcE-jwSs5d_V",
        "colab_type": "text"
      },
      "source": [
        "## Exploratory Data Analysis"
      ]
    },
    {
      "cell_type": "code",
      "metadata": {
        "id": "dORiU7UqVTBQ",
        "colab_type": "code",
        "outputId": "16ec03c3-5185-483c-ed6d-fbd8563a1f03",
        "colab": {
          "base_uri": "https://localhost:8080/",
          "height": 314
        }
      },
      "source": [
        "# distribution of variables\n",
        "df.describe()"
      ],
      "execution_count": 6,
      "outputs": [
        {
          "output_type": "execute_result",
          "data": {
            "text/html": [
              "<div>\n",
              "<style scoped>\n",
              "    .dataframe tbody tr th:only-of-type {\n",
              "        vertical-align: middle;\n",
              "    }\n",
              "\n",
              "    .dataframe tbody tr th {\n",
              "        vertical-align: top;\n",
              "    }\n",
              "\n",
              "    .dataframe thead th {\n",
              "        text-align: right;\n",
              "    }\n",
              "</style>\n",
              "<table border=\"1\" class=\"dataframe\">\n",
              "  <thead>\n",
              "    <tr style=\"text-align: right;\">\n",
              "      <th></th>\n",
              "      <th>Time</th>\n",
              "      <th>V1</th>\n",
              "      <th>V2</th>\n",
              "      <th>V3</th>\n",
              "      <th>V4</th>\n",
              "      <th>V5</th>\n",
              "      <th>V6</th>\n",
              "      <th>V7</th>\n",
              "      <th>V8</th>\n",
              "      <th>V9</th>\n",
              "      <th>V10</th>\n",
              "      <th>V11</th>\n",
              "      <th>V12</th>\n",
              "      <th>V13</th>\n",
              "      <th>V14</th>\n",
              "      <th>V15</th>\n",
              "      <th>V16</th>\n",
              "      <th>V17</th>\n",
              "      <th>V18</th>\n",
              "      <th>V19</th>\n",
              "      <th>V20</th>\n",
              "      <th>V21</th>\n",
              "      <th>V22</th>\n",
              "      <th>V23</th>\n",
              "      <th>V24</th>\n",
              "      <th>V25</th>\n",
              "      <th>V26</th>\n",
              "      <th>V27</th>\n",
              "      <th>V28</th>\n",
              "      <th>Amount</th>\n",
              "      <th>Class</th>\n",
              "    </tr>\n",
              "  </thead>\n",
              "  <tbody>\n",
              "    <tr>\n",
              "      <th>count</th>\n",
              "      <td>284807.000000</td>\n",
              "      <td>2.848070e+05</td>\n",
              "      <td>2.848070e+05</td>\n",
              "      <td>2.848070e+05</td>\n",
              "      <td>2.848070e+05</td>\n",
              "      <td>2.848070e+05</td>\n",
              "      <td>2.848070e+05</td>\n",
              "      <td>2.848070e+05</td>\n",
              "      <td>2.848070e+05</td>\n",
              "      <td>2.848070e+05</td>\n",
              "      <td>2.848070e+05</td>\n",
              "      <td>2.848070e+05</td>\n",
              "      <td>2.848070e+05</td>\n",
              "      <td>2.848070e+05</td>\n",
              "      <td>2.848070e+05</td>\n",
              "      <td>2.848070e+05</td>\n",
              "      <td>2.848070e+05</td>\n",
              "      <td>2.848070e+05</td>\n",
              "      <td>2.848070e+05</td>\n",
              "      <td>2.848070e+05</td>\n",
              "      <td>2.848070e+05</td>\n",
              "      <td>2.848070e+05</td>\n",
              "      <td>2.848070e+05</td>\n",
              "      <td>2.848070e+05</td>\n",
              "      <td>2.848070e+05</td>\n",
              "      <td>2.848070e+05</td>\n",
              "      <td>2.848070e+05</td>\n",
              "      <td>2.848070e+05</td>\n",
              "      <td>2.848070e+05</td>\n",
              "      <td>284807.000000</td>\n",
              "      <td>284807.000000</td>\n",
              "    </tr>\n",
              "    <tr>\n",
              "      <th>mean</th>\n",
              "      <td>94813.859575</td>\n",
              "      <td>3.919560e-15</td>\n",
              "      <td>5.688174e-16</td>\n",
              "      <td>-8.769071e-15</td>\n",
              "      <td>2.782312e-15</td>\n",
              "      <td>-1.552563e-15</td>\n",
              "      <td>2.010663e-15</td>\n",
              "      <td>-1.694249e-15</td>\n",
              "      <td>-1.927028e-16</td>\n",
              "      <td>-3.137024e-15</td>\n",
              "      <td>1.768627e-15</td>\n",
              "      <td>9.170318e-16</td>\n",
              "      <td>-1.810658e-15</td>\n",
              "      <td>1.693438e-15</td>\n",
              "      <td>1.479045e-15</td>\n",
              "      <td>3.482336e-15</td>\n",
              "      <td>1.392007e-15</td>\n",
              "      <td>-7.528491e-16</td>\n",
              "      <td>4.328772e-16</td>\n",
              "      <td>9.049732e-16</td>\n",
              "      <td>5.085503e-16</td>\n",
              "      <td>1.537294e-16</td>\n",
              "      <td>7.959909e-16</td>\n",
              "      <td>5.367590e-16</td>\n",
              "      <td>4.458112e-15</td>\n",
              "      <td>1.453003e-15</td>\n",
              "      <td>1.699104e-15</td>\n",
              "      <td>-3.660161e-16</td>\n",
              "      <td>-1.206049e-16</td>\n",
              "      <td>88.349619</td>\n",
              "      <td>0.001727</td>\n",
              "    </tr>\n",
              "    <tr>\n",
              "      <th>std</th>\n",
              "      <td>47488.145955</td>\n",
              "      <td>1.958696e+00</td>\n",
              "      <td>1.651309e+00</td>\n",
              "      <td>1.516255e+00</td>\n",
              "      <td>1.415869e+00</td>\n",
              "      <td>1.380247e+00</td>\n",
              "      <td>1.332271e+00</td>\n",
              "      <td>1.237094e+00</td>\n",
              "      <td>1.194353e+00</td>\n",
              "      <td>1.098632e+00</td>\n",
              "      <td>1.088850e+00</td>\n",
              "      <td>1.020713e+00</td>\n",
              "      <td>9.992014e-01</td>\n",
              "      <td>9.952742e-01</td>\n",
              "      <td>9.585956e-01</td>\n",
              "      <td>9.153160e-01</td>\n",
              "      <td>8.762529e-01</td>\n",
              "      <td>8.493371e-01</td>\n",
              "      <td>8.381762e-01</td>\n",
              "      <td>8.140405e-01</td>\n",
              "      <td>7.709250e-01</td>\n",
              "      <td>7.345240e-01</td>\n",
              "      <td>7.257016e-01</td>\n",
              "      <td>6.244603e-01</td>\n",
              "      <td>6.056471e-01</td>\n",
              "      <td>5.212781e-01</td>\n",
              "      <td>4.822270e-01</td>\n",
              "      <td>4.036325e-01</td>\n",
              "      <td>3.300833e-01</td>\n",
              "      <td>250.120109</td>\n",
              "      <td>0.041527</td>\n",
              "    </tr>\n",
              "    <tr>\n",
              "      <th>min</th>\n",
              "      <td>0.000000</td>\n",
              "      <td>-5.640751e+01</td>\n",
              "      <td>-7.271573e+01</td>\n",
              "      <td>-4.832559e+01</td>\n",
              "      <td>-5.683171e+00</td>\n",
              "      <td>-1.137433e+02</td>\n",
              "      <td>-2.616051e+01</td>\n",
              "      <td>-4.355724e+01</td>\n",
              "      <td>-7.321672e+01</td>\n",
              "      <td>-1.343407e+01</td>\n",
              "      <td>-2.458826e+01</td>\n",
              "      <td>-4.797473e+00</td>\n",
              "      <td>-1.868371e+01</td>\n",
              "      <td>-5.791881e+00</td>\n",
              "      <td>-1.921433e+01</td>\n",
              "      <td>-4.498945e+00</td>\n",
              "      <td>-1.412985e+01</td>\n",
              "      <td>-2.516280e+01</td>\n",
              "      <td>-9.498746e+00</td>\n",
              "      <td>-7.213527e+00</td>\n",
              "      <td>-5.449772e+01</td>\n",
              "      <td>-3.483038e+01</td>\n",
              "      <td>-1.093314e+01</td>\n",
              "      <td>-4.480774e+01</td>\n",
              "      <td>-2.836627e+00</td>\n",
              "      <td>-1.029540e+01</td>\n",
              "      <td>-2.604551e+00</td>\n",
              "      <td>-2.256568e+01</td>\n",
              "      <td>-1.543008e+01</td>\n",
              "      <td>0.000000</td>\n",
              "      <td>0.000000</td>\n",
              "    </tr>\n",
              "    <tr>\n",
              "      <th>25%</th>\n",
              "      <td>54201.500000</td>\n",
              "      <td>-9.203734e-01</td>\n",
              "      <td>-5.985499e-01</td>\n",
              "      <td>-8.903648e-01</td>\n",
              "      <td>-8.486401e-01</td>\n",
              "      <td>-6.915971e-01</td>\n",
              "      <td>-7.682956e-01</td>\n",
              "      <td>-5.540759e-01</td>\n",
              "      <td>-2.086297e-01</td>\n",
              "      <td>-6.430976e-01</td>\n",
              "      <td>-5.354257e-01</td>\n",
              "      <td>-7.624942e-01</td>\n",
              "      <td>-4.055715e-01</td>\n",
              "      <td>-6.485393e-01</td>\n",
              "      <td>-4.255740e-01</td>\n",
              "      <td>-5.828843e-01</td>\n",
              "      <td>-4.680368e-01</td>\n",
              "      <td>-4.837483e-01</td>\n",
              "      <td>-4.988498e-01</td>\n",
              "      <td>-4.562989e-01</td>\n",
              "      <td>-2.117214e-01</td>\n",
              "      <td>-2.283949e-01</td>\n",
              "      <td>-5.423504e-01</td>\n",
              "      <td>-1.618463e-01</td>\n",
              "      <td>-3.545861e-01</td>\n",
              "      <td>-3.171451e-01</td>\n",
              "      <td>-3.269839e-01</td>\n",
              "      <td>-7.083953e-02</td>\n",
              "      <td>-5.295979e-02</td>\n",
              "      <td>5.600000</td>\n",
              "      <td>0.000000</td>\n",
              "    </tr>\n",
              "    <tr>\n",
              "      <th>50%</th>\n",
              "      <td>84692.000000</td>\n",
              "      <td>1.810880e-02</td>\n",
              "      <td>6.548556e-02</td>\n",
              "      <td>1.798463e-01</td>\n",
              "      <td>-1.984653e-02</td>\n",
              "      <td>-5.433583e-02</td>\n",
              "      <td>-2.741871e-01</td>\n",
              "      <td>4.010308e-02</td>\n",
              "      <td>2.235804e-02</td>\n",
              "      <td>-5.142873e-02</td>\n",
              "      <td>-9.291738e-02</td>\n",
              "      <td>-3.275735e-02</td>\n",
              "      <td>1.400326e-01</td>\n",
              "      <td>-1.356806e-02</td>\n",
              "      <td>5.060132e-02</td>\n",
              "      <td>4.807155e-02</td>\n",
              "      <td>6.641332e-02</td>\n",
              "      <td>-6.567575e-02</td>\n",
              "      <td>-3.636312e-03</td>\n",
              "      <td>3.734823e-03</td>\n",
              "      <td>-6.248109e-02</td>\n",
              "      <td>-2.945017e-02</td>\n",
              "      <td>6.781943e-03</td>\n",
              "      <td>-1.119293e-02</td>\n",
              "      <td>4.097606e-02</td>\n",
              "      <td>1.659350e-02</td>\n",
              "      <td>-5.213911e-02</td>\n",
              "      <td>1.342146e-03</td>\n",
              "      <td>1.124383e-02</td>\n",
              "      <td>22.000000</td>\n",
              "      <td>0.000000</td>\n",
              "    </tr>\n",
              "    <tr>\n",
              "      <th>75%</th>\n",
              "      <td>139320.500000</td>\n",
              "      <td>1.315642e+00</td>\n",
              "      <td>8.037239e-01</td>\n",
              "      <td>1.027196e+00</td>\n",
              "      <td>7.433413e-01</td>\n",
              "      <td>6.119264e-01</td>\n",
              "      <td>3.985649e-01</td>\n",
              "      <td>5.704361e-01</td>\n",
              "      <td>3.273459e-01</td>\n",
              "      <td>5.971390e-01</td>\n",
              "      <td>4.539234e-01</td>\n",
              "      <td>7.395934e-01</td>\n",
              "      <td>6.182380e-01</td>\n",
              "      <td>6.625050e-01</td>\n",
              "      <td>4.931498e-01</td>\n",
              "      <td>6.488208e-01</td>\n",
              "      <td>5.232963e-01</td>\n",
              "      <td>3.996750e-01</td>\n",
              "      <td>5.008067e-01</td>\n",
              "      <td>4.589494e-01</td>\n",
              "      <td>1.330408e-01</td>\n",
              "      <td>1.863772e-01</td>\n",
              "      <td>5.285536e-01</td>\n",
              "      <td>1.476421e-01</td>\n",
              "      <td>4.395266e-01</td>\n",
              "      <td>3.507156e-01</td>\n",
              "      <td>2.409522e-01</td>\n",
              "      <td>9.104512e-02</td>\n",
              "      <td>7.827995e-02</td>\n",
              "      <td>77.165000</td>\n",
              "      <td>0.000000</td>\n",
              "    </tr>\n",
              "    <tr>\n",
              "      <th>max</th>\n",
              "      <td>172792.000000</td>\n",
              "      <td>2.454930e+00</td>\n",
              "      <td>2.205773e+01</td>\n",
              "      <td>9.382558e+00</td>\n",
              "      <td>1.687534e+01</td>\n",
              "      <td>3.480167e+01</td>\n",
              "      <td>7.330163e+01</td>\n",
              "      <td>1.205895e+02</td>\n",
              "      <td>2.000721e+01</td>\n",
              "      <td>1.559499e+01</td>\n",
              "      <td>2.374514e+01</td>\n",
              "      <td>1.201891e+01</td>\n",
              "      <td>7.848392e+00</td>\n",
              "      <td>7.126883e+00</td>\n",
              "      <td>1.052677e+01</td>\n",
              "      <td>8.877742e+00</td>\n",
              "      <td>1.731511e+01</td>\n",
              "      <td>9.253526e+00</td>\n",
              "      <td>5.041069e+00</td>\n",
              "      <td>5.591971e+00</td>\n",
              "      <td>3.942090e+01</td>\n",
              "      <td>2.720284e+01</td>\n",
              "      <td>1.050309e+01</td>\n",
              "      <td>2.252841e+01</td>\n",
              "      <td>4.584549e+00</td>\n",
              "      <td>7.519589e+00</td>\n",
              "      <td>3.517346e+00</td>\n",
              "      <td>3.161220e+01</td>\n",
              "      <td>3.384781e+01</td>\n",
              "      <td>25691.160000</td>\n",
              "      <td>1.000000</td>\n",
              "    </tr>\n",
              "  </tbody>\n",
              "</table>\n",
              "</div>"
            ],
            "text/plain": [
              "                Time            V1  ...         Amount          Class\n",
              "count  284807.000000  2.848070e+05  ...  284807.000000  284807.000000\n",
              "mean    94813.859575  3.919560e-15  ...      88.349619       0.001727\n",
              "std     47488.145955  1.958696e+00  ...     250.120109       0.041527\n",
              "min         0.000000 -5.640751e+01  ...       0.000000       0.000000\n",
              "25%     54201.500000 -9.203734e-01  ...       5.600000       0.000000\n",
              "50%     84692.000000  1.810880e-02  ...      22.000000       0.000000\n",
              "75%    139320.500000  1.315642e+00  ...      77.165000       0.000000\n",
              "max    172792.000000  2.454930e+00  ...   25691.160000       1.000000\n",
              "\n",
              "[8 rows x 31 columns]"
            ]
          },
          "metadata": {
            "tags": []
          },
          "execution_count": 6
        }
      ]
    },
    {
      "cell_type": "code",
      "metadata": {
        "id": "CQnqoJtlVbwO",
        "colab_type": "code",
        "colab": {
          "base_uri": "https://localhost:8080/",
          "height": 52
        },
        "outputId": "dacae065-fd5f-4ef1-d778-44c8546d57d5"
      },
      "source": [
        "# distribution of fraud and non-fraud transaction in the data\n",
        "classes=df['Class'].value_counts()\n",
        "normal_share=classes[0]/df['Class'].count()*100\n",
        "fraud_share=classes[1]/df['Class'].count()*100\n",
        "print(normal_share)\n",
        "print(fraud_share)"
      ],
      "execution_count": 7,
      "outputs": [
        {
          "output_type": "stream",
          "text": [
            "99.82725143693798\n",
            "0.1727485630620034\n"
          ],
          "name": "stdout"
        }
      ]
    },
    {
      "cell_type": "code",
      "metadata": {
        "id": "w1wcPppFY3um",
        "colab_type": "code",
        "outputId": "a1ffd538-fe57-41e8-8acf-9b584468d9fb",
        "colab": {
          "base_uri": "https://localhost:8080/",
          "height": 69
        }
      },
      "source": [
        "# number of values in each class\n",
        "df['Class'].value_counts()"
      ],
      "execution_count": 8,
      "outputs": [
        {
          "output_type": "execute_result",
          "data": {
            "text/plain": [
              "0    284315\n",
              "1       492\n",
              "Name: Class, dtype: int64"
            ]
          },
          "metadata": {
            "tags": []
          },
          "execution_count": 8
        }
      ]
    },
    {
      "cell_type": "code",
      "metadata": {
        "id": "2R0r_UgnVweU",
        "colab_type": "code",
        "outputId": "7a7b42b6-f36e-4da8-b271-ffdeb949ba81",
        "colab": {
          "base_uri": "https://localhost:8080/",
          "height": 279
        }
      },
      "source": [
        "# plot shoing the distribution\n",
        "df['Class'].value_counts().plot(kind='bar')"
      ],
      "execution_count": 9,
      "outputs": [
        {
          "output_type": "execute_result",
          "data": {
            "text/plain": [
              "<matplotlib.axes._subplots.AxesSubplot at 0x7f7df33ff2e8>"
            ]
          },
          "metadata": {
            "tags": []
          },
          "execution_count": 9
        },
        {
          "output_type": "display_data",
          "data": {
            "image/png": "[encoded data removed]",
            "text/plain": [
              "<Figure size 432x288 with 1 Axes>"
            ]
          },
          "metadata": {
            "tags": [],
            "needs_background": "light"
          }
        }
      ]
    },
    {
      "cell_type": "code",
      "metadata": {
        "id": "43PxFuTaX-sL",
        "colab_type": "code",
        "outputId": "f9305a3f-4029-43ad-ca9e-0a85caae882f",
        "colab": {
          "base_uri": "https://localhost:8080/",
          "height": 265
        }
      },
      "source": [
        "# scatter plot of time and class\n",
        "plt.scatter(df['Time'], df['Class'])\n",
        "plt.show()"
      ],
      "execution_count": 10,
      "outputs": [
        {
          "output_type": "display_data",
          "data": {
            "image/png": "[encoded data removed]",
            "text/plain": [
              "<Figure size 432x288 with 1 Axes>"
            ]
          },
          "metadata": {
            "tags": [],
            "needs_background": "light"
          }
        }
      ]
    },
    {
      "cell_type": "code",
      "metadata": {
        "id": "7oUfFLaeZ7An",
        "colab_type": "code",
        "outputId": "d3e9a1e5-e62b-46ff-ee17-663d61de6f3c",
        "colab": {
          "base_uri": "https://localhost:8080/",
          "height": 265
        }
      },
      "source": [
        "# scatter plot of amount and class\n",
        "plt.scatter(df['Amount'], df['Class'])\n",
        "plt.show()"
      ],
      "execution_count": 11,
      "outputs": [
        {
          "output_type": "display_data",
          "data": {
            "image/png": "[encoded data removed]",
            "text/plain": [
              "<Figure size 432x288 with 1 Axes>"
            ]
          },
          "metadata": {
            "tags": [],
            "needs_background": "light"
          }
        }
      ]
    },
    {
      "cell_type": "code",
      "metadata": {
        "id": "3OOwr5lNaJpX",
        "colab_type": "code",
        "outputId": "7c8a85b9-6c7d-499b-b128-0ab2484d403f",
        "colab": {
          "base_uri": "https://localhost:8080/",
          "height": 643
        }
      },
      "source": [
        "# heatmap showing correlation between variables\n",
        "plt.rcParams[\"figure.figsize\"] =(10,10)\n",
        "mycmap = sns.diverging_palette(199, 359, s=99, center=\"light\", as_cmap=True)\n",
        "sns.heatmap(data=df.corr(), center=0.0, cmap=mycmap)"
      ],
      "execution_count": 12,
      "outputs": [
        {
          "output_type": "execute_result",
          "data": {
            "text/plain": [
              "<matplotlib.axes._subplots.AxesSubplot at 0x7f7df05da940>"
            ]
          },
          "metadata": {
            "tags": []
          },
          "execution_count": 12
        },
        {
          "output_type": "display_data",
          "data": {
            "image/png": "[encoded data removed]",
            "text/plain": [
              "<Figure size 720x720 with 2 Axes>"
            ]
          },
          "metadata": {
            "tags": [],
            "needs_background": "light"
          }
        }
      ]
    },
    {
      "cell_type": "code",
      "metadata": {
        "id": "7VKNoWlMe2rA",
        "colab_type": "code",
        "outputId": "cafd0677-5ae7-445d-bc3a-e4f2c342a7b0",
        "colab": {
          "base_uri": "https://localhost:8080/",
          "height": 222
        }
      },
      "source": [
        "# drop time as it does not have a specific meaning in the analysis and also from the scatter plot and heatmap it does not affect the class\n",
        "df.drop(columns='Time',inplace=True)\n",
        "df.head()"
      ],
      "execution_count": 13,
      "outputs": [
        {
          "output_type": "execute_result",
          "data": {
            "text/html": [
              "<div>\n",
              "<style scoped>\n",
              "    .dataframe tbody tr th:only-of-type {\n",
              "        vertical-align: middle;\n",
              "    }\n",
              "\n",
              "    .dataframe tbody tr th {\n",
              "        vertical-align: top;\n",
              "    }\n",
              "\n",
              "    .dataframe thead th {\n",
              "        text-align: right;\n",
              "    }\n",
              "</style>\n",
              "<table border=\"1\" class=\"dataframe\">\n",
              "  <thead>\n",
              "    <tr style=\"text-align: right;\">\n",
              "      <th></th>\n",
              "      <th>V1</th>\n",
              "      <th>V2</th>\n",
              "      <th>V3</th>\n",
              "      <th>V4</th>\n",
              "      <th>V5</th>\n",
              "      <th>V6</th>\n",
              "      <th>V7</th>\n",
              "      <th>V8</th>\n",
              "      <th>V9</th>\n",
              "      <th>V10</th>\n",
              "      <th>V11</th>\n",
              "      <th>V12</th>\n",
              "      <th>V13</th>\n",
              "      <th>V14</th>\n",
              "      <th>V15</th>\n",
              "      <th>V16</th>\n",
              "      <th>V17</th>\n",
              "      <th>V18</th>\n",
              "      <th>V19</th>\n",
              "      <th>V20</th>\n",
              "      <th>V21</th>\n",
              "      <th>V22</th>\n",
              "      <th>V23</th>\n",
              "      <th>V24</th>\n",
              "      <th>V25</th>\n",
              "      <th>V26</th>\n",
              "      <th>V27</th>\n",
              "      <th>V28</th>\n",
              "      <th>Amount</th>\n",
              "      <th>Class</th>\n",
              "    </tr>\n",
              "  </thead>\n",
              "  <tbody>\n",
              "    <tr>\n",
              "      <th>0</th>\n",
              "      <td>-1.359807</td>\n",
              "      <td>-0.072781</td>\n",
              "      <td>2.536347</td>\n",
              "      <td>1.378155</td>\n",
              "      <td>-0.338321</td>\n",
              "      <td>0.462388</td>\n",
              "      <td>0.239599</td>\n",
              "      <td>0.098698</td>\n",
              "      <td>0.363787</td>\n",
              "      <td>0.090794</td>\n",
              "      <td>-0.551600</td>\n",
              "      <td>-0.617801</td>\n",
              "      <td>-0.991390</td>\n",
              "      <td>-0.311169</td>\n",
              "      <td>1.468177</td>\n",
              "      <td>-0.470401</td>\n",
              "      <td>0.207971</td>\n",
              "      <td>0.025791</td>\n",
              "      <td>0.403993</td>\n",
              "      <td>0.251412</td>\n",
              "      <td>-0.018307</td>\n",
              "      <td>0.277838</td>\n",
              "      <td>-0.110474</td>\n",
              "      <td>0.066928</td>\n",
              "      <td>0.128539</td>\n",
              "      <td>-0.189115</td>\n",
              "      <td>0.133558</td>\n",
              "      <td>-0.021053</td>\n",
              "      <td>149.62</td>\n",
              "      <td>0</td>\n",
              "    </tr>\n",
              "    <tr>\n",
              "      <th>1</th>\n",
              "      <td>1.191857</td>\n",
              "      <td>0.266151</td>\n",
              "      <td>0.166480</td>\n",
              "      <td>0.448154</td>\n",
              "      <td>0.060018</td>\n",
              "      <td>-0.082361</td>\n",
              "      <td>-0.078803</td>\n",
              "      <td>0.085102</td>\n",
              "      <td>-0.255425</td>\n",
              "      <td>-0.166974</td>\n",
              "      <td>1.612727</td>\n",
              "      <td>1.065235</td>\n",
              "      <td>0.489095</td>\n",
              "      <td>-0.143772</td>\n",
              "      <td>0.635558</td>\n",
              "      <td>0.463917</td>\n",
              "      <td>-0.114805</td>\n",
              "      <td>-0.183361</td>\n",
              "      <td>-0.145783</td>\n",
              "      <td>-0.069083</td>\n",
              "      <td>-0.225775</td>\n",
              "      <td>-0.638672</td>\n",
              "      <td>0.101288</td>\n",
              "      <td>-0.339846</td>\n",
              "      <td>0.167170</td>\n",
              "      <td>0.125895</td>\n",
              "      <td>-0.008983</td>\n",
              "      <td>0.014724</td>\n",
              "      <td>2.69</td>\n",
              "      <td>0</td>\n",
              "    </tr>\n",
              "    <tr>\n",
              "      <th>2</th>\n",
              "      <td>-1.358354</td>\n",
              "      <td>-1.340163</td>\n",
              "      <td>1.773209</td>\n",
              "      <td>0.379780</td>\n",
              "      <td>-0.503198</td>\n",
              "      <td>1.800499</td>\n",
              "      <td>0.791461</td>\n",
              "      <td>0.247676</td>\n",
              "      <td>-1.514654</td>\n",
              "      <td>0.207643</td>\n",
              "      <td>0.624501</td>\n",
              "      <td>0.066084</td>\n",
              "      <td>0.717293</td>\n",
              "      <td>-0.165946</td>\n",
              "      <td>2.345865</td>\n",
              "      <td>-2.890083</td>\n",
              "      <td>1.109969</td>\n",
              "      <td>-0.121359</td>\n",
              "      <td>-2.261857</td>\n",
              "      <td>0.524980</td>\n",
              "      <td>0.247998</td>\n",
              "      <td>0.771679</td>\n",
              "      <td>0.909412</td>\n",
              "      <td>-0.689281</td>\n",
              "      <td>-0.327642</td>\n",
              "      <td>-0.139097</td>\n",
              "      <td>-0.055353</td>\n",
              "      <td>-0.059752</td>\n",
              "      <td>378.66</td>\n",
              "      <td>0</td>\n",
              "    </tr>\n",
              "    <tr>\n",
              "      <th>3</th>\n",
              "      <td>-0.966272</td>\n",
              "      <td>-0.185226</td>\n",
              "      <td>1.792993</td>\n",
              "      <td>-0.863291</td>\n",
              "      <td>-0.010309</td>\n",
              "      <td>1.247203</td>\n",
              "      <td>0.237609</td>\n",
              "      <td>0.377436</td>\n",
              "      <td>-1.387024</td>\n",
              "      <td>-0.054952</td>\n",
              "      <td>-0.226487</td>\n",
              "      <td>0.178228</td>\n",
              "      <td>0.507757</td>\n",
              "      <td>-0.287924</td>\n",
              "      <td>-0.631418</td>\n",
              "      <td>-1.059647</td>\n",
              "      <td>-0.684093</td>\n",
              "      <td>1.965775</td>\n",
              "      <td>-1.232622</td>\n",
              "      <td>-0.208038</td>\n",
              "      <td>-0.108300</td>\n",
              "      <td>0.005274</td>\n",
              "      <td>-0.190321</td>\n",
              "      <td>-1.175575</td>\n",
              "      <td>0.647376</td>\n",
              "      <td>-0.221929</td>\n",
              "      <td>0.062723</td>\n",
              "      <td>0.061458</td>\n",
              "      <td>123.50</td>\n",
              "      <td>0</td>\n",
              "    </tr>\n",
              "    <tr>\n",
              "      <th>4</th>\n",
              "      <td>-1.158233</td>\n",
              "      <td>0.877737</td>\n",
              "      <td>1.548718</td>\n",
              "      <td>0.403034</td>\n",
              "      <td>-0.407193</td>\n",
              "      <td>0.095921</td>\n",
              "      <td>0.592941</td>\n",
              "      <td>-0.270533</td>\n",
              "      <td>0.817739</td>\n",
              "      <td>0.753074</td>\n",
              "      <td>-0.822843</td>\n",
              "      <td>0.538196</td>\n",
              "      <td>1.345852</td>\n",
              "      <td>-1.119670</td>\n",
              "      <td>0.175121</td>\n",
              "      <td>-0.451449</td>\n",
              "      <td>-0.237033</td>\n",
              "      <td>-0.038195</td>\n",
              "      <td>0.803487</td>\n",
              "      <td>0.408542</td>\n",
              "      <td>-0.009431</td>\n",
              "      <td>0.798278</td>\n",
              "      <td>-0.137458</td>\n",
              "      <td>0.141267</td>\n",
              "      <td>-0.206010</td>\n",
              "      <td>0.502292</td>\n",
              "      <td>0.219422</td>\n",
              "      <td>0.215153</td>\n",
              "      <td>69.99</td>\n",
              "      <td>0</td>\n",
              "    </tr>\n",
              "  </tbody>\n",
              "</table>\n",
              "</div>"
            ],
            "text/plain": [
              "         V1        V2        V3        V4  ...       V27       V28  Amount  Class\n",
              "0 -1.359807 -0.072781  2.536347  1.378155  ...  0.133558 -0.021053  149.62      0\n",
              "1  1.191857  0.266151  0.166480  0.448154  ... -0.008983  0.014724    2.69      0\n",
              "2 -1.358354 -1.340163  1.773209  0.379780  ... -0.055353 -0.059752  378.66      0\n",
              "3 -0.966272 -0.185226  1.792993 -0.863291  ...  0.062723  0.061458  123.50      0\n",
              "4 -1.158233  0.877737  1.548718  0.403034  ...  0.219422  0.215153   69.99      0\n",
              "\n",
              "[5 rows x 30 columns]"
            ]
          },
          "metadata": {
            "tags": []
          },
          "execution_count": 13
        }
      ]
    },
    {
      "cell_type": "markdown",
      "metadata": {
        "id": "dyYmiBH26-PC",
        "colab_type": "text"
      },
      "source": [
        "## Splitting Data to Test and Train"
      ]
    },
    {
      "cell_type": "code",
      "metadata": {
        "id": "pqfhBoUzKH4R",
        "colab_type": "code",
        "colab": {}
      },
      "source": [
        "from sklearn import model_selection\n",
        "from sklearn.model_selection import train_test_split\n",
        "\n",
        "# divide data into train and test maintaing the class distribution\n",
        "X = df.drop(['Class'], axis = 1)\n",
        "y = df.Class\n",
        "X_train, X_test, y_train, y_test = train_test_split(X, y, test_size = 0.25, random_state = 42, stratify = y)"
      ],
      "execution_count": 0,
      "outputs": []
    },
    {
      "cell_type": "code",
      "metadata": {
        "id": "3qmfq0IxP_cM",
        "colab_type": "code",
        "outputId": "7a9b85e9-bae8-477b-bc61-3fee6278f1cd",
        "colab": {
          "base_uri": "https://localhost:8080/",
          "height": 69
        }
      },
      "source": [
        "# check if the distribution is uniform\n",
        "print(np.sum(y))\n",
        "print(np.sum(y_train))\n",
        "print(np.sum(y_test))"
      ],
      "execution_count": 15,
      "outputs": [
        {
          "output_type": "stream",
          "text": [
            "492\n",
            "369\n",
            "123\n"
          ],
          "name": "stdout"
        }
      ]
    },
    {
      "cell_type": "markdown",
      "metadata": {
        "id": "G0xy2KBz7LXg",
        "colab_type": "text"
      },
      "source": [
        "## Handling Skewness in the data"
      ]
    },
    {
      "cell_type": "code",
      "metadata": {
        "id": "l5XjpnjuQVyy",
        "colab_type": "code",
        "outputId": "6b77cfae-7e47-4502-bea1-fe0d095994bf",
        "colab": {
          "base_uri": "https://localhost:8080/",
          "height": 537
        }
      },
      "source": [
        "# Skewness in each variable\n",
        "X_train.skew(axis = 0)"
      ],
      "execution_count": 16,
      "outputs": [
        {
          "output_type": "execute_result",
          "data": {
            "text/plain": [
              "V1        -3.314956\n",
              "V2        -4.744037\n",
              "V3        -2.285924\n",
              "V4         0.691400\n",
              "V5        -2.877451\n",
              "V6         1.962813\n",
              "V7         3.325252\n",
              "V8        -8.689869\n",
              "V9         0.545185\n",
              "V10        1.107482\n",
              "V11        0.363473\n",
              "V12       -2.328630\n",
              "V13        0.064537\n",
              "V14       -1.991184\n",
              "V15       -0.310135\n",
              "V16       -1.103301\n",
              "V17       -3.864212\n",
              "V18       -0.263168\n",
              "V19        0.113890\n",
              "V20       -2.178296\n",
              "V21        3.558761\n",
              "V22       -0.224830\n",
              "V23       -6.405003\n",
              "V24       -0.550344\n",
              "V25       -0.419461\n",
              "V26        0.578140\n",
              "V27       -0.743545\n",
              "V28        9.934962\n",
              "Amount    18.464339\n",
              "dtype: float64"
            ]
          },
          "metadata": {
            "tags": []
          },
          "execution_count": 16
        }
      ]
    },
    {
      "cell_type": "code",
      "metadata": {
        "id": "AP8Djgi_RPrF",
        "colab_type": "code",
        "colab": {}
      },
      "source": [
        "# list of columns\n",
        "cols = X_train.columns"
      ],
      "execution_count": 0,
      "outputs": []
    },
    {
      "cell_type": "code",
      "metadata": {
        "id": "IZbDvvreQjUx",
        "colab_type": "code",
        "outputId": "e83825d8-13aa-4bfd-de4d-a1b73efeb2f1",
        "colab": {
          "base_uri": "https://localhost:8080/",
          "height": 222
        }
      },
      "source": [
        "from sklearn.preprocessing import PowerTransformer\n",
        "\n",
        "# power transform the variables to eliminate skewness from the train data\n",
        "pt = PowerTransformer(copy=False)\n",
        "X_train = pt.fit_transform(X_train)\n",
        "X_train = pd.DataFrame(data=X_train,columns=cols)\n",
        "X_train.head()"
      ],
      "execution_count": 18,
      "outputs": [
        {
          "output_type": "execute_result",
          "data": {
            "text/html": [
              "<div>\n",
              "<style scoped>\n",
              "    .dataframe tbody tr th:only-of-type {\n",
              "        vertical-align: middle;\n",
              "    }\n",
              "\n",
              "    .dataframe tbody tr th {\n",
              "        vertical-align: top;\n",
              "    }\n",
              "\n",
              "    .dataframe thead th {\n",
              "        text-align: right;\n",
              "    }\n",
              "</style>\n",
              "<table border=\"1\" class=\"dataframe\">\n",
              "  <thead>\n",
              "    <tr style=\"text-align: right;\">\n",
              "      <th></th>\n",
              "      <th>V1</th>\n",
              "      <th>V2</th>\n",
              "      <th>V3</th>\n",
              "      <th>V4</th>\n",
              "      <th>V5</th>\n",
              "      <th>V6</th>\n",
              "      <th>V7</th>\n",
              "      <th>V8</th>\n",
              "      <th>V9</th>\n",
              "      <th>V10</th>\n",
              "      <th>V11</th>\n",
              "      <th>V12</th>\n",
              "      <th>V13</th>\n",
              "      <th>V14</th>\n",
              "      <th>V15</th>\n",
              "      <th>V16</th>\n",
              "      <th>V17</th>\n",
              "      <th>V18</th>\n",
              "      <th>V19</th>\n",
              "      <th>V20</th>\n",
              "      <th>V21</th>\n",
              "      <th>V22</th>\n",
              "      <th>V23</th>\n",
              "      <th>V24</th>\n",
              "      <th>V25</th>\n",
              "      <th>V26</th>\n",
              "      <th>V27</th>\n",
              "      <th>V28</th>\n",
              "      <th>Amount</th>\n",
              "    </tr>\n",
              "  </thead>\n",
              "  <tbody>\n",
              "    <tr>\n",
              "      <th>0</th>\n",
              "      <td>-0.687702</td>\n",
              "      <td>-0.410906</td>\n",
              "      <td>1.340853</td>\n",
              "      <td>-0.535376</td>\n",
              "      <td>-0.158568</td>\n",
              "      <td>0.047998</td>\n",
              "      <td>0.046655</td>\n",
              "      <td>0.194627</td>\n",
              "      <td>0.519610</td>\n",
              "      <td>-0.844992</td>\n",
              "      <td>0.365821</td>\n",
              "      <td>1.253679</td>\n",
              "      <td>0.093466</td>\n",
              "      <td>-0.605382</td>\n",
              "      <td>-1.798904</td>\n",
              "      <td>0.328792</td>\n",
              "      <td>-0.677411</td>\n",
              "      <td>0.091354</td>\n",
              "      <td>0.302364</td>\n",
              "      <td>0.307821</td>\n",
              "      <td>0.084485</td>\n",
              "      <td>-0.003745</td>\n",
              "      <td>0.566883</td>\n",
              "      <td>0.007716</td>\n",
              "      <td>-1.615275</td>\n",
              "      <td>1.317653</td>\n",
              "      <td>0.171370</td>\n",
              "      <td>0.583799</td>\n",
              "      <td>0.947209</td>\n",
              "    </tr>\n",
              "    <tr>\n",
              "      <th>1</th>\n",
              "      <td>-1.689222</td>\n",
              "      <td>-0.601552</td>\n",
              "      <td>-0.451193</td>\n",
              "      <td>-1.909394</td>\n",
              "      <td>-0.305639</td>\n",
              "      <td>0.023485</td>\n",
              "      <td>0.100674</td>\n",
              "      <td>0.514401</td>\n",
              "      <td>0.889301</td>\n",
              "      <td>-1.047354</td>\n",
              "      <td>0.025000</td>\n",
              "      <td>0.452034</td>\n",
              "      <td>-0.349679</td>\n",
              "      <td>0.286859</td>\n",
              "      <td>-0.256908</td>\n",
              "      <td>1.823284</td>\n",
              "      <td>-1.448387</td>\n",
              "      <td>1.037600</td>\n",
              "      <td>-0.550023</td>\n",
              "      <td>-2.009915</td>\n",
              "      <td>0.054733</td>\n",
              "      <td>0.857166</td>\n",
              "      <td>-0.078661</td>\n",
              "      <td>0.440860</td>\n",
              "      <td>0.277125</td>\n",
              "      <td>0.824740</td>\n",
              "      <td>-2.090911</td>\n",
              "      <td>0.510031</td>\n",
              "      <td>1.077585</td>\n",
              "    </tr>\n",
              "    <tr>\n",
              "      <th>2</th>\n",
              "      <td>-1.149351</td>\n",
              "      <td>1.081675</td>\n",
              "      <td>-0.506056</td>\n",
              "      <td>-1.148611</td>\n",
              "      <td>1.444199</td>\n",
              "      <td>-0.217205</td>\n",
              "      <td>-0.888387</td>\n",
              "      <td>-3.091323</td>\n",
              "      <td>0.685837</td>\n",
              "      <td>-1.409289</td>\n",
              "      <td>-1.656431</td>\n",
              "      <td>0.340880</td>\n",
              "      <td>0.330040</td>\n",
              "      <td>-1.578367</td>\n",
              "      <td>-1.255450</td>\n",
              "      <td>0.745791</td>\n",
              "      <td>0.686069</td>\n",
              "      <td>0.132242</td>\n",
              "      <td>-1.152599</td>\n",
              "      <td>-1.729068</td>\n",
              "      <td>4.437504</td>\n",
              "      <td>-2.826511</td>\n",
              "      <td>-3.449780</td>\n",
              "      <td>-1.665558</td>\n",
              "      <td>-0.479489</td>\n",
              "      <td>-0.436747</td>\n",
              "      <td>1.369812</td>\n",
              "      <td>0.582531</td>\n",
              "      <td>1.044909</td>\n",
              "    </tr>\n",
              "    <tr>\n",
              "      <th>3</th>\n",
              "      <td>0.791358</td>\n",
              "      <td>-0.358179</td>\n",
              "      <td>0.342831</td>\n",
              "      <td>-0.099205</td>\n",
              "      <td>-0.731132</td>\n",
              "      <td>-0.550441</td>\n",
              "      <td>-0.482563</td>\n",
              "      <td>-0.339151</td>\n",
              "      <td>0.733062</td>\n",
              "      <td>0.136986</td>\n",
              "      <td>0.455729</td>\n",
              "      <td>-2.117097</td>\n",
              "      <td>2.096262</td>\n",
              "      <td>0.970812</td>\n",
              "      <td>-1.349902</td>\n",
              "      <td>0.579259</td>\n",
              "      <td>1.763422</td>\n",
              "      <td>-1.796201</td>\n",
              "      <td>0.900026</td>\n",
              "      <td>0.062924</td>\n",
              "      <td>-0.207341</td>\n",
              "      <td>-0.192957</td>\n",
              "      <td>-0.070985</td>\n",
              "      <td>0.548574</td>\n",
              "      <td>1.063177</td>\n",
              "      <td>-0.548631</td>\n",
              "      <td>-0.040711</td>\n",
              "      <td>0.038545</td>\n",
              "      <td>-0.029545</td>\n",
              "    </tr>\n",
              "    <tr>\n",
              "      <th>4</th>\n",
              "      <td>-0.461845</td>\n",
              "      <td>0.686866</td>\n",
              "      <td>0.862753</td>\n",
              "      <td>0.664698</td>\n",
              "      <td>0.090544</td>\n",
              "      <td>-0.621574</td>\n",
              "      <td>0.602844</td>\n",
              "      <td>-0.175412</td>\n",
              "      <td>-0.415029</td>\n",
              "      <td>0.033079</td>\n",
              "      <td>-0.526362</td>\n",
              "      <td>-0.456287</td>\n",
              "      <td>-0.247631</td>\n",
              "      <td>0.338916</td>\n",
              "      <td>1.184020</td>\n",
              "      <td>-0.438487</td>\n",
              "      <td>-0.247423</td>\n",
              "      <td>0.148182</td>\n",
              "      <td>0.502918</td>\n",
              "      <td>0.182442</td>\n",
              "      <td>0.172998</td>\n",
              "      <td>0.625350</td>\n",
              "      <td>-0.237534</td>\n",
              "      <td>0.602729</td>\n",
              "      <td>-0.415921</td>\n",
              "      <td>-0.623910</td>\n",
              "      <td>1.031131</td>\n",
              "      <td>0.706450</td>\n",
              "      <td>-0.482898</td>\n",
              "    </tr>\n",
              "  </tbody>\n",
              "</table>\n",
              "</div>"
            ],
            "text/plain": [
              "         V1        V2        V3  ...       V27       V28    Amount\n",
              "0 -0.687702 -0.410906  1.340853  ...  0.171370  0.583799  0.947209\n",
              "1 -1.689222 -0.601552 -0.451193  ... -2.090911  0.510031  1.077585\n",
              "2 -1.149351  1.081675 -0.506056  ...  1.369812  0.582531  1.044909\n",
              "3  0.791358 -0.358179  0.342831  ... -0.040711  0.038545 -0.029545\n",
              "4 -0.461845  0.686866  0.862753  ...  1.031131  0.706450 -0.482898\n",
              "\n",
              "[5 rows x 29 columns]"
            ]
          },
          "metadata": {
            "tags": []
          },
          "execution_count": 18
        }
      ]
    },
    {
      "cell_type": "code",
      "metadata": {
        "id": "WH2-qEe6REbR",
        "colab_type": "code",
        "outputId": "9d473e03-fcaf-483a-d169-9a681fc3a800",
        "colab": {
          "base_uri": "https://localhost:8080/",
          "height": 537
        }
      },
      "source": [
        "X_train.skew(axis=0)"
      ],
      "execution_count": 19,
      "outputs": [
        {
          "output_type": "execute_result",
          "data": {
            "text/plain": [
              "V1       -0.217939\n",
              "V2        0.339373\n",
              "V3       -0.079501\n",
              "V4        0.020596\n",
              "V5       -1.415987\n",
              "V6       -2.015624\n",
              "V7        3.059857\n",
              "V8        2.372059\n",
              "V9       -0.049578\n",
              "V10      -1.323086\n",
              "V11       0.063151\n",
              "V12       0.164560\n",
              "V13       0.006450\n",
              "V14       0.101325\n",
              "V15       0.014312\n",
              "V16       0.165071\n",
              "V17      -0.789553\n",
              "V18      -0.060091\n",
              "V19       0.015258\n",
              "V20      -0.827071\n",
              "V21      -2.151135\n",
              "V22      -0.027414\n",
              "V23      -0.277897\n",
              "V24       0.111055\n",
              "V25       0.079449\n",
              "V26      -0.024530\n",
              "V27       3.769495\n",
              "V28       1.281518\n",
              "Amount    0.018107\n",
              "dtype: float64"
            ]
          },
          "metadata": {
            "tags": []
          },
          "execution_count": 19
        }
      ]
    },
    {
      "cell_type": "code",
      "metadata": {
        "id": "guMkdA7TRlxY",
        "colab_type": "code",
        "outputId": "8eb045c8-502b-420e-eb78-7273b197b913",
        "colab": {
          "base_uri": "https://localhost:8080/",
          "height": 537
        }
      },
      "source": [
        "X_test.skew(axis=0)"
      ],
      "execution_count": 20,
      "outputs": [
        {
          "output_type": "execute_result",
          "data": {
            "text/plain": [
              "V1        -3.175769\n",
              "V2        -4.267418\n",
              "V3        -2.101681\n",
              "V4         0.630847\n",
              "V5        -1.023943\n",
              "V6         1.410118\n",
              "V7         0.127390\n",
              "V8        -8.021022\n",
              "V9         0.583047\n",
              "V10        1.424861\n",
              "V11        0.335691\n",
              "V12       -2.127814\n",
              "V13        0.067211\n",
              "V14       -2.007104\n",
              "V15       -0.303293\n",
              "V16       -1.094117\n",
              "V17       -3.788236\n",
              "V18       -0.249760\n",
              "V19        0.095160\n",
              "V20       -1.620495\n",
              "V21        3.698370\n",
              "V22       -0.178454\n",
              "V23       -4.292683\n",
              "V24       -0.558956\n",
              "V25       -0.404896\n",
              "V26        0.572367\n",
              "V27       -2.509384\n",
              "V28       14.492561\n",
              "Amount    12.430316\n",
              "dtype: float64"
            ]
          },
          "metadata": {
            "tags": []
          },
          "execution_count": 20
        }
      ]
    },
    {
      "cell_type": "code",
      "metadata": {
        "id": "YDhKzSqyRfw9",
        "colab_type": "code",
        "outputId": "406f4184-d401-4a85-8d56-c86c431de369",
        "colab": {
          "base_uri": "https://localhost:8080/",
          "height": 222
        }
      },
      "source": [
        "# transform the test data\n",
        "X_test = pt.transform(X_test)\n",
        "X_test = pd.DataFrame(data=X_test,columns=cols)\n",
        "X_test.head()"
      ],
      "execution_count": 21,
      "outputs": [
        {
          "output_type": "execute_result",
          "data": {
            "text/html": [
              "<div>\n",
              "<style scoped>\n",
              "    .dataframe tbody tr th:only-of-type {\n",
              "        vertical-align: middle;\n",
              "    }\n",
              "\n",
              "    .dataframe tbody tr th {\n",
              "        vertical-align: top;\n",
              "    }\n",
              "\n",
              "    .dataframe thead th {\n",
              "        text-align: right;\n",
              "    }\n",
              "</style>\n",
              "<table border=\"1\" class=\"dataframe\">\n",
              "  <thead>\n",
              "    <tr style=\"text-align: right;\">\n",
              "      <th></th>\n",
              "      <th>V1</th>\n",
              "      <th>V2</th>\n",
              "      <th>V3</th>\n",
              "      <th>V4</th>\n",
              "      <th>V5</th>\n",
              "      <th>V6</th>\n",
              "      <th>V7</th>\n",
              "      <th>V8</th>\n",
              "      <th>V9</th>\n",
              "      <th>V10</th>\n",
              "      <th>V11</th>\n",
              "      <th>V12</th>\n",
              "      <th>V13</th>\n",
              "      <th>V14</th>\n",
              "      <th>V15</th>\n",
              "      <th>V16</th>\n",
              "      <th>V17</th>\n",
              "      <th>V18</th>\n",
              "      <th>V19</th>\n",
              "      <th>V20</th>\n",
              "      <th>V21</th>\n",
              "      <th>V22</th>\n",
              "      <th>V23</th>\n",
              "      <th>V24</th>\n",
              "      <th>V25</th>\n",
              "      <th>V26</th>\n",
              "      <th>V27</th>\n",
              "      <th>V28</th>\n",
              "      <th>Amount</th>\n",
              "    </tr>\n",
              "  </thead>\n",
              "  <tbody>\n",
              "    <tr>\n",
              "      <th>0</th>\n",
              "      <td>-2.244541</td>\n",
              "      <td>4.051384</td>\n",
              "      <td>-0.068870</td>\n",
              "      <td>-1.687073</td>\n",
              "      <td>0.187044</td>\n",
              "      <td>-0.342895</td>\n",
              "      <td>1.998793</td>\n",
              "      <td>-1.663278</td>\n",
              "      <td>5.102592</td>\n",
              "      <td>8.409306</td>\n",
              "      <td>2.255815</td>\n",
              "      <td>-0.924438</td>\n",
              "      <td>-1.426642</td>\n",
              "      <td>-3.300052</td>\n",
              "      <td>1.202420</td>\n",
              "      <td>-1.107798</td>\n",
              "      <td>-2.342859</td>\n",
              "      <td>-0.471230</td>\n",
              "      <td>-0.478309</td>\n",
              "      <td>6.017868</td>\n",
              "      <td>-2.419473</td>\n",
              "      <td>-1.334081</td>\n",
              "      <td>-0.238265</td>\n",
              "      <td>-0.373679</td>\n",
              "      <td>2.046678</td>\n",
              "      <td>-0.133551</td>\n",
              "      <td>3.657020</td>\n",
              "      <td>-1.123907</td>\n",
              "      <td>-0.491684</td>\n",
              "    </tr>\n",
              "    <tr>\n",
              "      <th>1</th>\n",
              "      <td>1.285025</td>\n",
              "      <td>0.262725</td>\n",
              "      <td>-0.600329</td>\n",
              "      <td>2.375475</td>\n",
              "      <td>0.205338</td>\n",
              "      <td>-0.218065</td>\n",
              "      <td>0.209224</td>\n",
              "      <td>-0.265821</td>\n",
              "      <td>-0.884660</td>\n",
              "      <td>1.356705</td>\n",
              "      <td>-1.225746</td>\n",
              "      <td>-0.555303</td>\n",
              "      <td>-0.027638</td>\n",
              "      <td>0.258387</td>\n",
              "      <td>-0.629480</td>\n",
              "      <td>0.977555</td>\n",
              "      <td>-1.006457</td>\n",
              "      <td>-0.201571</td>\n",
              "      <td>-2.165322</td>\n",
              "      <td>-0.330761</td>\n",
              "      <td>0.435610</td>\n",
              "      <td>1.254633</td>\n",
              "      <td>-0.023795</td>\n",
              "      <td>-0.009917</td>\n",
              "      <td>0.309887</td>\n",
              "      <td>0.530019</td>\n",
              "      <td>-0.118049</td>\n",
              "      <td>-0.141622</td>\n",
              "      <td>0.146121</td>\n",
              "    </tr>\n",
              "    <tr>\n",
              "      <th>2</th>\n",
              "      <td>-0.837750</td>\n",
              "      <td>0.840295</td>\n",
              "      <td>0.858475</td>\n",
              "      <td>1.018379</td>\n",
              "      <td>0.039404</td>\n",
              "      <td>-0.462529</td>\n",
              "      <td>1.654025</td>\n",
              "      <td>-0.471014</td>\n",
              "      <td>-1.482739</td>\n",
              "      <td>0.132699</td>\n",
              "      <td>-0.424135</td>\n",
              "      <td>-0.602638</td>\n",
              "      <td>-0.282398</td>\n",
              "      <td>0.264415</td>\n",
              "      <td>-0.540108</td>\n",
              "      <td>0.542849</td>\n",
              "      <td>-0.839266</td>\n",
              "      <td>-0.634698</td>\n",
              "      <td>-2.046639</td>\n",
              "      <td>-0.530072</td>\n",
              "      <td>0.069934</td>\n",
              "      <td>0.185714</td>\n",
              "      <td>-0.131078</td>\n",
              "      <td>1.246800</td>\n",
              "      <td>0.859571</td>\n",
              "      <td>-0.164791</td>\n",
              "      <td>-0.273286</td>\n",
              "      <td>0.012937</td>\n",
              "      <td>1.148748</td>\n",
              "    </tr>\n",
              "    <tr>\n",
              "      <th>3</th>\n",
              "      <td>-1.419180</td>\n",
              "      <td>-1.091305</td>\n",
              "      <td>0.994947</td>\n",
              "      <td>1.846046</td>\n",
              "      <td>0.651617</td>\n",
              "      <td>0.345261</td>\n",
              "      <td>-0.550240</td>\n",
              "      <td>1.069869</td>\n",
              "      <td>-1.366210</td>\n",
              "      <td>0.190773</td>\n",
              "      <td>1.098375</td>\n",
              "      <td>0.068987</td>\n",
              "      <td>-0.641958</td>\n",
              "      <td>1.022305</td>\n",
              "      <td>0.964275</td>\n",
              "      <td>0.382406</td>\n",
              "      <td>0.034145</td>\n",
              "      <td>0.233105</td>\n",
              "      <td>-1.096860</td>\n",
              "      <td>1.224043</td>\n",
              "      <td>0.946936</td>\n",
              "      <td>0.889259</td>\n",
              "      <td>0.672109</td>\n",
              "      <td>-0.581085</td>\n",
              "      <td>-0.779029</td>\n",
              "      <td>0.350623</td>\n",
              "      <td>0.000125</td>\n",
              "      <td>-0.871300</td>\n",
              "      <td>1.332065</td>\n",
              "    </tr>\n",
              "    <tr>\n",
              "      <th>4</th>\n",
              "      <td>-0.602273</td>\n",
              "      <td>0.530730</td>\n",
              "      <td>-0.243109</td>\n",
              "      <td>0.031855</td>\n",
              "      <td>1.528670</td>\n",
              "      <td>2.456453</td>\n",
              "      <td>-0.279608</td>\n",
              "      <td>1.538792</td>\n",
              "      <td>-0.431730</td>\n",
              "      <td>-0.552380</td>\n",
              "      <td>-0.740486</td>\n",
              "      <td>-0.060326</td>\n",
              "      <td>-0.126085</td>\n",
              "      <td>0.347487</td>\n",
              "      <td>0.075862</td>\n",
              "      <td>-0.319822</td>\n",
              "      <td>-0.200185</td>\n",
              "      <td>0.236407</td>\n",
              "      <td>1.517901</td>\n",
              "      <td>0.035717</td>\n",
              "      <td>-0.196843</td>\n",
              "      <td>-0.793972</td>\n",
              "      <td>-0.115966</td>\n",
              "      <td>1.861517</td>\n",
              "      <td>-0.044677</td>\n",
              "      <td>-1.011304</td>\n",
              "      <td>0.093630</td>\n",
              "      <td>0.225344</td>\n",
              "      <td>-0.154057</td>\n",
              "    </tr>\n",
              "  </tbody>\n",
              "</table>\n",
              "</div>"
            ],
            "text/plain": [
              "         V1        V2        V3  ...       V27       V28    Amount\n",
              "0 -2.244541  4.051384 -0.068870  ...  3.657020 -1.123907 -0.491684\n",
              "1  1.285025  0.262725 -0.600329  ... -0.118049 -0.141622  0.146121\n",
              "2 -0.837750  0.840295  0.858475  ... -0.273286  0.012937  1.148748\n",
              "3 -1.419180 -1.091305  0.994947  ...  0.000125 -0.871300  1.332065\n",
              "4 -0.602273  0.530730 -0.243109  ...  0.093630  0.225344 -0.154057\n",
              "\n",
              "[5 rows x 29 columns]"
            ]
          },
          "metadata": {
            "tags": []
          },
          "execution_count": 21
        }
      ]
    },
    {
      "cell_type": "code",
      "metadata": {
        "id": "nqtDiT1JRypC",
        "colab_type": "code",
        "outputId": "3f5442f8-c4b8-41ee-a6b8-d651ddd06826",
        "colab": {
          "base_uri": "https://localhost:8080/",
          "height": 537
        }
      },
      "source": [
        "X_test.skew(axis=0)"
      ],
      "execution_count": 22,
      "outputs": [
        {
          "output_type": "execute_result",
          "data": {
            "text/plain": [
              "V1       -0.208921\n",
              "V2        0.436865\n",
              "V3       -0.063905\n",
              "V4       -0.008041\n",
              "V5       -0.321139\n",
              "V6       -1.094736\n",
              "V7        0.004344\n",
              "V8        2.831912\n",
              "V9       -0.003008\n",
              "V10      -0.774353\n",
              "V11       0.056218\n",
              "V12       0.161425\n",
              "V13       0.008778\n",
              "V14       0.052888\n",
              "V15       0.011755\n",
              "V16      -0.021969\n",
              "V17      -0.719748\n",
              "V18      -0.051221\n",
              "V19      -0.004179\n",
              "V20      -0.496075\n",
              "V21      -1.486383\n",
              "V22       0.014873\n",
              "V23       1.513592\n",
              "V24       0.111441\n",
              "V25       0.093085\n",
              "V26      -0.027086\n",
              "V27      -0.625579\n",
              "V28       6.144530\n",
              "Amount    0.027142\n",
              "dtype: float64"
            ]
          },
          "metadata": {
            "tags": []
          },
          "execution_count": 22
        }
      ]
    },
    {
      "cell_type": "markdown",
      "metadata": {
        "id": "c83ovjjh735Z",
        "colab_type": "text"
      },
      "source": [
        "## Model Building on Plain Dataset"
      ]
    },
    {
      "cell_type": "code",
      "metadata": {
        "id": "S5Gdv9HqR1_x",
        "colab_type": "code",
        "outputId": "b2a1690a-4efd-4c3d-83e3-ed64d8fb2070",
        "colab": {
          "base_uri": "https://localhost:8080/",
          "height": 141
        }
      },
      "source": [
        "from sklearn.linear_model import LogisticRegression\n",
        "from sklearn.metrics import classification_report\n",
        "from sklearn.metrics import roc_auc_score\n",
        "from imblearn.metrics import sensitivity_specificity_support\n",
        "from sklearn.model_selection import StratifiedKFold\n",
        "from sklearn.model_selection import cross_val_score\n",
        "from sklearn.metrics import confusion_matrix\n",
        "from sklearn.model_selection import GridSearchCV"
      ],
      "execution_count": 23,
      "outputs": [
        {
          "output_type": "stream",
          "text": [
            "/usr/local/lib/python3.6/dist-packages/sklearn/externals/six.py:31: FutureWarning: The module is deprecated in version 0.21 and will be removed in version 0.23 since we've dropped support for Python 2.7. Please rely on the official version of six (https://pypi.org/project/six/).\n",
            "  \"(https://pypi.org/project/six/).\", FutureWarning)\n",
            "/usr/local/lib/python3.6/dist-packages/sklearn/utils/deprecation.py:144: FutureWarning: The sklearn.neighbors.base module is  deprecated in version 0.22 and will be removed in version 0.24. The corresponding classes / functions should instead be imported from sklearn.neighbors. Anything that cannot be imported from sklearn.neighbors is now part of the private API.\n",
            "  warnings.warn(message, FutureWarning)\n",
            "/usr/local/lib/python3.6/dist-packages/sklearn/utils/deprecation.py:144: FutureWarning: The sklearn.metrics.classification module is  deprecated in version 0.22 and will be removed in version 0.24. The corresponding classes / functions should instead be imported from sklearn.metrics. Anything that cannot be imported from sklearn.metrics is now part of the private API.\n",
            "  warnings.warn(message, FutureWarning)\n"
          ],
          "name": "stderr"
        }
      ]
    },
    {
      "cell_type": "markdown",
      "metadata": {
        "id": "Bn1S5JhZJxd9",
        "colab_type": "text"
      },
      "source": [
        "### Logistic Regression"
      ]
    },
    {
      "cell_type": "code",
      "metadata": {
        "id": "L660nHRjS9hx",
        "colab_type": "code",
        "outputId": "b0e0a95d-1f35-4d16-bb1f-215c849b9048",
        "colab": {
          "base_uri": "https://localhost:8080/",
          "height": 104
        }
      },
      "source": [
        "#fitting the linear Regression model\n",
        "lr = LogisticRegression(random_state = 42)\n",
        "lr.fit(X_train,y_train)"
      ],
      "execution_count": 24,
      "outputs": [
        {
          "output_type": "execute_result",
          "data": {
            "text/plain": [
              "LogisticRegression(C=1.0, class_weight=None, dual=False, fit_intercept=True,\n",
              "                   intercept_scaling=1, l1_ratio=None, max_iter=100,\n",
              "                   multi_class='auto', n_jobs=None, penalty='l2',\n",
              "                   random_state=42, solver='lbfgs', tol=0.0001, verbose=0,\n",
              "                   warm_start=False)"
            ]
          },
          "metadata": {
            "tags": []
          },
          "execution_count": 24
        }
      ]
    },
    {
      "cell_type": "code",
      "metadata": {
        "id": "ksZDkgW0S_Wt",
        "colab_type": "code",
        "outputId": "dced6211-85d4-48c4-9771-635887238fd6",
        "colab": {
          "base_uri": "https://localhost:8080/",
          "height": 35
        }
      },
      "source": [
        "#accuracy score of linear regression model\n",
        "lr.score(X_train,y_train)"
      ],
      "execution_count": 25,
      "outputs": [
        {
          "output_type": "execute_result",
          "data": {
            "text/plain": [
              "0.9992837246319141"
            ]
          },
          "metadata": {
            "tags": []
          },
          "execution_count": 25
        }
      ]
    },
    {
      "cell_type": "code",
      "metadata": {
        "id": "s9YkOLgxTGlB",
        "colab_type": "code",
        "outputId": "0ac90a74-7aa7-4c61-865b-cdde44ffc5f9",
        "colab": {
          "base_uri": "https://localhost:8080/",
          "height": 104
        }
      },
      "source": [
        "# predict churn on test data\n",
        "y_pred = lr.predict(X_test)\n",
        "\n",
        "# create onfusion matrix\n",
        "cm = confusion_matrix(y_test, y_pred)\n",
        "print(cm)\n",
        "\n",
        "# check sensitivity and specificity\n",
        "sensitivity, specificity, _ = sensitivity_specificity_support(y_test, y_pred, average='binary')\n",
        "print(\"Sensitivity: \\t\", round(sensitivity, 2), \"\\n\", \"Specificity: \\t\", round(specificity, 2), sep='')\n",
        "\n",
        "# check area under curve\n",
        "y_pred_prob = lr.predict_proba(X_test)[:, 1]\n",
        "print(\"AUC:    \\t\", round(roc_auc_score(y_test, y_pred_prob),2))"
      ],
      "execution_count": 26,
      "outputs": [
        {
          "output_type": "stream",
          "text": [
            "[[71063    16]\n",
            " [   42    81]]\n",
            "Sensitivity: \t0.66\n",
            "Specificity: \t1.0\n",
            "AUC:    \t 0.97\n"
          ],
          "name": "stdout"
        }
      ]
    },
    {
      "cell_type": "code",
      "metadata": {
        "id": "OuXrc0TbTSF6",
        "colab_type": "code",
        "outputId": "8bb40373-8ab9-45ef-f863-4a35145a79b5",
        "colab": {
          "base_uri": "https://localhost:8080/",
          "height": 35
        }
      },
      "source": [
        "# accuracy score on test set\n",
        "lr.score(X_test,y_test)"
      ],
      "execution_count": 27,
      "outputs": [
        {
          "output_type": "execute_result",
          "data": {
            "text/plain": [
              "0.9991854161399961"
            ]
          },
          "metadata": {
            "tags": []
          },
          "execution_count": 27
        }
      ]
    },
    {
      "cell_type": "markdown",
      "metadata": {
        "id": "YrLaIFLyKXta",
        "colab_type": "text"
      },
      "source": [
        "Tuning Hyperparameters"
      ]
    },
    {
      "cell_type": "code",
      "metadata": {
        "id": "eS6DKiBYTri_",
        "colab_type": "code",
        "colab": {}
      },
      "source": [
        "# logistic regression - the class weight is used to handle class imbalance - it adjusts the cost function\n",
        "logistic = LogisticRegression()\n",
        "\n",
        "# hyperparameter space\n",
        "params = {'C': [0.1, 0.5, 1, 2, 3, 4, 5, 10], 'penalty': ['l1', 'l2']}\n",
        "\n",
        "# create 5 folds\n",
        "folds = StratifiedKFold(n_splits = 5, shuffle = True, random_state = 4)\n",
        "\n",
        "# create gridsearch object\n",
        "model = GridSearchCV(estimator=logistic, cv=folds, param_grid=params, scoring='roc_auc', n_jobs=-1, verbose=1)"
      ],
      "execution_count": 0,
      "outputs": []
    },
    {
      "cell_type": "code",
      "metadata": {
        "id": "XDyV2IuoT54v",
        "colab_type": "code",
        "outputId": "f17839e6-758c-4bf4-9976-470e6d6d82f2",
        "colab": {
          "base_uri": "https://localhost:8080/",
          "height": 347
        }
      },
      "source": [
        "# fit model\n",
        "model.fit(X_train, y_train)"
      ],
      "execution_count": 29,
      "outputs": [
        {
          "output_type": "stream",
          "text": [
            "Fitting 5 folds for each of 16 candidates, totalling 80 fits\n"
          ],
          "name": "stdout"
        },
        {
          "output_type": "stream",
          "text": [
            "[Parallel(n_jobs=-1)]: Using backend LokyBackend with 2 concurrent workers.\n",
            "[Parallel(n_jobs=-1)]: Done  46 tasks      | elapsed:   21.6s\n",
            "[Parallel(n_jobs=-1)]: Done  80 out of  80 | elapsed:   38.7s finished\n"
          ],
          "name": "stderr"
        },
        {
          "output_type": "execute_result",
          "data": {
            "text/plain": [
              "GridSearchCV(cv=StratifiedKFold(n_splits=5, random_state=4, shuffle=True),\n",
              "             error_score=nan,\n",
              "             estimator=LogisticRegression(C=1.0, class_weight=None, dual=False,\n",
              "                                          fit_intercept=True,\n",
              "                                          intercept_scaling=1, l1_ratio=None,\n",
              "                                          max_iter=100, multi_class='auto',\n",
              "                                          n_jobs=None, penalty='l2',\n",
              "                                          random_state=None, solver='lbfgs',\n",
              "                                          tol=0.0001, verbose=0,\n",
              "                                          warm_start=False),\n",
              "             iid='deprecated', n_jobs=-1,\n",
              "             param_grid={'C': [0.1, 0.5, 1, 2, 3, 4, 5, 10],\n",
              "                         'penalty': ['l1', 'l2']},\n",
              "             pre_dispatch='2*n_jobs', refit=True, return_train_score=False,\n",
              "             scoring='roc_auc', verbose=1)"
            ]
          },
          "metadata": {
            "tags": []
          },
          "execution_count": 29
        }
      ]
    },
    {
      "cell_type": "code",
      "metadata": {
        "id": "xRNtIB0cT8zQ",
        "colab_type": "code",
        "outputId": "1002884d-9fa4-467d-9f4a-2863c42e58dc",
        "colab": {
          "base_uri": "https://localhost:8080/",
          "height": 1000
        }
      },
      "source": [
        "# cross validation results\n",
        "pd.DataFrame(model.cv_results_)"
      ],
      "execution_count": 30,
      "outputs": [
        {
          "output_type": "execute_result",
          "data": {
            "text/html": [
              "<div>\n",
              "<style scoped>\n",
              "    .dataframe tbody tr th:only-of-type {\n",
              "        vertical-align: middle;\n",
              "    }\n",
              "\n",
              "    .dataframe tbody tr th {\n",
              "        vertical-align: top;\n",
              "    }\n",
              "\n",
              "    .dataframe thead th {\n",
              "        text-align: right;\n",
              "    }\n",
              "</style>\n",
              "<table border=\"1\" class=\"dataframe\">\n",
              "  <thead>\n",
              "    <tr style=\"text-align: right;\">\n",
              "      <th></th>\n",
              "      <th>mean_fit_time</th>\n",
              "      <th>std_fit_time</th>\n",
              "      <th>mean_score_time</th>\n",
              "      <th>std_score_time</th>\n",
              "      <th>param_C</th>\n",
              "      <th>param_penalty</th>\n",
              "      <th>params</th>\n",
              "      <th>split0_test_score</th>\n",
              "      <th>split1_test_score</th>\n",
              "      <th>split2_test_score</th>\n",
              "      <th>split3_test_score</th>\n",
              "      <th>split4_test_score</th>\n",
              "      <th>mean_test_score</th>\n",
              "      <th>std_test_score</th>\n",
              "      <th>rank_test_score</th>\n",
              "    </tr>\n",
              "  </thead>\n",
              "  <tbody>\n",
              "    <tr>\n",
              "      <th>0</th>\n",
              "      <td>0.041385</td>\n",
              "      <td>0.005551</td>\n",
              "      <td>0.000000</td>\n",
              "      <td>0.000000</td>\n",
              "      <td>0.1</td>\n",
              "      <td>l1</td>\n",
              "      <td>{'C': 0.1, 'penalty': 'l1'}</td>\n",
              "      <td>NaN</td>\n",
              "      <td>NaN</td>\n",
              "      <td>NaN</td>\n",
              "      <td>NaN</td>\n",
              "      <td>NaN</td>\n",
              "      <td>NaN</td>\n",
              "      <td>NaN</td>\n",
              "      <td>9</td>\n",
              "    </tr>\n",
              "    <tr>\n",
              "      <th>1</th>\n",
              "      <td>1.597982</td>\n",
              "      <td>0.061527</td>\n",
              "      <td>0.024952</td>\n",
              "      <td>0.000417</td>\n",
              "      <td>0.1</td>\n",
              "      <td>l2</td>\n",
              "      <td>{'C': 0.1, 'penalty': 'l2'}</td>\n",
              "      <td>0.983295</td>\n",
              "      <td>0.974828</td>\n",
              "      <td>0.986602</td>\n",
              "      <td>0.985477</td>\n",
              "      <td>0.977237</td>\n",
              "      <td>0.981488</td>\n",
              "      <td>0.004642</td>\n",
              "      <td>1</td>\n",
              "    </tr>\n",
              "    <tr>\n",
              "      <th>2</th>\n",
              "      <td>0.036746</td>\n",
              "      <td>0.001004</td>\n",
              "      <td>0.000000</td>\n",
              "      <td>0.000000</td>\n",
              "      <td>0.5</td>\n",
              "      <td>l1</td>\n",
              "      <td>{'C': 0.5, 'penalty': 'l1'}</td>\n",
              "      <td>NaN</td>\n",
              "      <td>NaN</td>\n",
              "      <td>NaN</td>\n",
              "      <td>NaN</td>\n",
              "      <td>NaN</td>\n",
              "      <td>NaN</td>\n",
              "      <td>NaN</td>\n",
              "      <td>10</td>\n",
              "    </tr>\n",
              "    <tr>\n",
              "      <th>3</th>\n",
              "      <td>1.783824</td>\n",
              "      <td>0.134607</td>\n",
              "      <td>0.026129</td>\n",
              "      <td>0.002474</td>\n",
              "      <td>0.5</td>\n",
              "      <td>l2</td>\n",
              "      <td>{'C': 0.5, 'penalty': 'l2'}</td>\n",
              "      <td>0.983245</td>\n",
              "      <td>0.973899</td>\n",
              "      <td>0.986635</td>\n",
              "      <td>0.984781</td>\n",
              "      <td>0.976936</td>\n",
              "      <td>0.981099</td>\n",
              "      <td>0.004857</td>\n",
              "      <td>2</td>\n",
              "    </tr>\n",
              "    <tr>\n",
              "      <th>4</th>\n",
              "      <td>0.037516</td>\n",
              "      <td>0.000947</td>\n",
              "      <td>0.000000</td>\n",
              "      <td>0.000000</td>\n",
              "      <td>1</td>\n",
              "      <td>l1</td>\n",
              "      <td>{'C': 1, 'penalty': 'l1'}</td>\n",
              "      <td>NaN</td>\n",
              "      <td>NaN</td>\n",
              "      <td>NaN</td>\n",
              "      <td>NaN</td>\n",
              "      <td>NaN</td>\n",
              "      <td>NaN</td>\n",
              "      <td>NaN</td>\n",
              "      <td>11</td>\n",
              "    </tr>\n",
              "    <tr>\n",
              "      <th>5</th>\n",
              "      <td>1.885677</td>\n",
              "      <td>0.142623</td>\n",
              "      <td>0.025095</td>\n",
              "      <td>0.000185</td>\n",
              "      <td>1</td>\n",
              "      <td>l2</td>\n",
              "      <td>{'C': 1, 'penalty': 'l2'}</td>\n",
              "      <td>0.983233</td>\n",
              "      <td>0.973730</td>\n",
              "      <td>0.986634</td>\n",
              "      <td>0.984677</td>\n",
              "      <td>0.976880</td>\n",
              "      <td>0.981031</td>\n",
              "      <td>0.004901</td>\n",
              "      <td>3</td>\n",
              "    </tr>\n",
              "    <tr>\n",
              "      <th>6</th>\n",
              "      <td>0.037589</td>\n",
              "      <td>0.001196</td>\n",
              "      <td>0.000000</td>\n",
              "      <td>0.000000</td>\n",
              "      <td>2</td>\n",
              "      <td>l1</td>\n",
              "      <td>{'C': 2, 'penalty': 'l1'}</td>\n",
              "      <td>NaN</td>\n",
              "      <td>NaN</td>\n",
              "      <td>NaN</td>\n",
              "      <td>NaN</td>\n",
              "      <td>NaN</td>\n",
              "      <td>NaN</td>\n",
              "      <td>NaN</td>\n",
              "      <td>12</td>\n",
              "    </tr>\n",
              "    <tr>\n",
              "      <th>7</th>\n",
              "      <td>1.825759</td>\n",
              "      <td>0.085265</td>\n",
              "      <td>0.024643</td>\n",
              "      <td>0.000473</td>\n",
              "      <td>2</td>\n",
              "      <td>l2</td>\n",
              "      <td>{'C': 2, 'penalty': 'l2'}</td>\n",
              "      <td>0.983227</td>\n",
              "      <td>0.973640</td>\n",
              "      <td>0.986631</td>\n",
              "      <td>0.984627</td>\n",
              "      <td>0.976854</td>\n",
              "      <td>0.980996</td>\n",
              "      <td>0.004923</td>\n",
              "      <td>4</td>\n",
              "    </tr>\n",
              "    <tr>\n",
              "      <th>8</th>\n",
              "      <td>0.037653</td>\n",
              "      <td>0.000318</td>\n",
              "      <td>0.000000</td>\n",
              "      <td>0.000000</td>\n",
              "      <td>3</td>\n",
              "      <td>l1</td>\n",
              "      <td>{'C': 3, 'penalty': 'l1'}</td>\n",
              "      <td>NaN</td>\n",
              "      <td>NaN</td>\n",
              "      <td>NaN</td>\n",
              "      <td>NaN</td>\n",
              "      <td>NaN</td>\n",
              "      <td>NaN</td>\n",
              "      <td>NaN</td>\n",
              "      <td>13</td>\n",
              "    </tr>\n",
              "    <tr>\n",
              "      <th>9</th>\n",
              "      <td>1.776286</td>\n",
              "      <td>0.081798</td>\n",
              "      <td>0.024730</td>\n",
              "      <td>0.000330</td>\n",
              "      <td>3</td>\n",
              "      <td>l2</td>\n",
              "      <td>{'C': 3, 'penalty': 'l2'}</td>\n",
              "      <td>0.983227</td>\n",
              "      <td>0.973609</td>\n",
              "      <td>0.986634</td>\n",
              "      <td>0.984618</td>\n",
              "      <td>0.976839</td>\n",
              "      <td>0.980985</td>\n",
              "      <td>0.004934</td>\n",
              "      <td>5</td>\n",
              "    </tr>\n",
              "    <tr>\n",
              "      <th>10</th>\n",
              "      <td>0.036755</td>\n",
              "      <td>0.001020</td>\n",
              "      <td>0.000000</td>\n",
              "      <td>0.000000</td>\n",
              "      <td>4</td>\n",
              "      <td>l1</td>\n",
              "      <td>{'C': 4, 'penalty': 'l1'}</td>\n",
              "      <td>NaN</td>\n",
              "      <td>NaN</td>\n",
              "      <td>NaN</td>\n",
              "      <td>NaN</td>\n",
              "      <td>NaN</td>\n",
              "      <td>NaN</td>\n",
              "      <td>NaN</td>\n",
              "      <td>14</td>\n",
              "    </tr>\n",
              "    <tr>\n",
              "      <th>11</th>\n",
              "      <td>1.802895</td>\n",
              "      <td>0.079214</td>\n",
              "      <td>0.024820</td>\n",
              "      <td>0.000373</td>\n",
              "      <td>4</td>\n",
              "      <td>l2</td>\n",
              "      <td>{'C': 4, 'penalty': 'l2'}</td>\n",
              "      <td>0.983229</td>\n",
              "      <td>0.973592</td>\n",
              "      <td>0.986637</td>\n",
              "      <td>0.984609</td>\n",
              "      <td>0.976834</td>\n",
              "      <td>0.980980</td>\n",
              "      <td>0.004940</td>\n",
              "      <td>6</td>\n",
              "    </tr>\n",
              "    <tr>\n",
              "      <th>12</th>\n",
              "      <td>0.036944</td>\n",
              "      <td>0.000644</td>\n",
              "      <td>0.000000</td>\n",
              "      <td>0.000000</td>\n",
              "      <td>5</td>\n",
              "      <td>l1</td>\n",
              "      <td>{'C': 5, 'penalty': 'l1'}</td>\n",
              "      <td>NaN</td>\n",
              "      <td>NaN</td>\n",
              "      <td>NaN</td>\n",
              "      <td>NaN</td>\n",
              "      <td>NaN</td>\n",
              "      <td>NaN</td>\n",
              "      <td>NaN</td>\n",
              "      <td>15</td>\n",
              "    </tr>\n",
              "    <tr>\n",
              "      <th>13</th>\n",
              "      <td>1.777924</td>\n",
              "      <td>0.066415</td>\n",
              "      <td>0.025129</td>\n",
              "      <td>0.000768</td>\n",
              "      <td>5</td>\n",
              "      <td>l2</td>\n",
              "      <td>{'C': 5, 'penalty': 'l2'}</td>\n",
              "      <td>0.983228</td>\n",
              "      <td>0.973584</td>\n",
              "      <td>0.986639</td>\n",
              "      <td>0.984605</td>\n",
              "      <td>0.976829</td>\n",
              "      <td>0.980977</td>\n",
              "      <td>0.004943</td>\n",
              "      <td>7</td>\n",
              "    </tr>\n",
              "    <tr>\n",
              "      <th>14</th>\n",
              "      <td>0.036540</td>\n",
              "      <td>0.000797</td>\n",
              "      <td>0.000000</td>\n",
              "      <td>0.000000</td>\n",
              "      <td>10</td>\n",
              "      <td>l1</td>\n",
              "      <td>{'C': 10, 'penalty': 'l1'}</td>\n",
              "      <td>NaN</td>\n",
              "      <td>NaN</td>\n",
              "      <td>NaN</td>\n",
              "      <td>NaN</td>\n",
              "      <td>NaN</td>\n",
              "      <td>NaN</td>\n",
              "      <td>NaN</td>\n",
              "      <td>16</td>\n",
              "    </tr>\n",
              "    <tr>\n",
              "      <th>15</th>\n",
              "      <td>1.757955</td>\n",
              "      <td>0.106194</td>\n",
              "      <td>0.023576</td>\n",
              "      <td>0.003496</td>\n",
              "      <td>10</td>\n",
              "      <td>l2</td>\n",
              "      <td>{'C': 10, 'penalty': 'l2'}</td>\n",
              "      <td>0.983224</td>\n",
              "      <td>0.973566</td>\n",
              "      <td>0.986636</td>\n",
              "      <td>0.984590</td>\n",
              "      <td>0.976827</td>\n",
              "      <td>0.980969</td>\n",
              "      <td>0.004945</td>\n",
              "      <td>8</td>\n",
              "    </tr>\n",
              "  </tbody>\n",
              "</table>\n",
              "</div>"
            ],
            "text/plain": [
              "    mean_fit_time  std_fit_time  ...  std_test_score  rank_test_score\n",
              "0        0.041385      0.005551  ...             NaN                9\n",
              "1        1.597982      0.061527  ...        0.004642                1\n",
              "2        0.036746      0.001004  ...             NaN               10\n",
              "3        1.783824      0.134607  ...        0.004857                2\n",
              "4        0.037516      0.000947  ...             NaN               11\n",
              "5        1.885677      0.142623  ...        0.004901                3\n",
              "6        0.037589      0.001196  ...             NaN               12\n",
              "7        1.825759      0.085265  ...        0.004923                4\n",
              "8        0.037653      0.000318  ...             NaN               13\n",
              "9        1.776286      0.081798  ...        0.004934                5\n",
              "10       0.036755      0.001020  ...             NaN               14\n",
              "11       1.802895      0.079214  ...        0.004940                6\n",
              "12       0.036944      0.000644  ...             NaN               15\n",
              "13       1.777924      0.066415  ...        0.004943                7\n",
              "14       0.036540      0.000797  ...             NaN               16\n",
              "15       1.757955      0.106194  ...        0.004945                8\n",
              "\n",
              "[16 rows x 15 columns]"
            ]
          },
          "metadata": {
            "tags": []
          },
          "execution_count": 30
        }
      ]
    },
    {
      "cell_type": "code",
      "metadata": {
        "id": "G2hKCnRjUVnc",
        "colab_type": "code",
        "outputId": "41020744-3c1c-4d4b-fd15-8ca14aa26431",
        "colab": {
          "base_uri": "https://localhost:8080/",
          "height": 52
        }
      },
      "source": [
        "# print best hyperparameters\n",
        "print(\"Best AUC: \", model.best_score_)\n",
        "print(\"Best hyperparameters: \", model.best_params_)"
      ],
      "execution_count": 31,
      "outputs": [
        {
          "output_type": "stream",
          "text": [
            "Best AUC:  0.9814878647286072\n",
            "Best hyperparameters:  {'C': 0.1, 'penalty': 'l2'}\n"
          ],
          "name": "stdout"
        }
      ]
    },
    {
      "cell_type": "code",
      "metadata": {
        "id": "gZDAcYY-UeEL",
        "colab_type": "code",
        "outputId": "2c5a44d8-d37b-493e-a1f6-e26122f78e32",
        "colab": {
          "base_uri": "https://localhost:8080/",
          "height": 104
        }
      },
      "source": [
        "# predict churn on test data\n",
        "y_pred = model.predict(X_test)\n",
        "\n",
        "# create onfusion matrix\n",
        "cm = confusion_matrix(y_test, y_pred)\n",
        "print(cm)\n",
        "\n",
        "# check sensitivity and specificity\n",
        "sensitivity, specificity, _ = sensitivity_specificity_support(y_test, y_pred, average='binary')\n",
        "print(\"Sensitivity: \\t\", round(sensitivity, 2), \"\\n\", \"Specificity: \\t\", round(specificity, 2), sep='')\n",
        "\n",
        "# check area under curve\n",
        "y_pred_prob = model.predict_proba(X_test)[:, 1]\n",
        "print(\"AUC:    \\t\", round(roc_auc_score(y_test, y_pred_prob),2))"
      ],
      "execution_count": 32,
      "outputs": [
        {
          "output_type": "stream",
          "text": [
            "[[71064    15]\n",
            " [   42    81]]\n",
            "Sensitivity: \t0.66\n",
            "Specificity: \t1.0\n",
            "AUC:    \t 0.97\n"
          ],
          "name": "stdout"
        }
      ]
    },
    {
      "cell_type": "markdown",
      "metadata": {
        "id": "WQOOKzdHKRNd",
        "colab_type": "text"
      },
      "source": [
        "### Random Forest"
      ]
    },
    {
      "cell_type": "code",
      "metadata": {
        "id": "0Ty4dwwPUnoo",
        "colab_type": "code",
        "colab": {}
      },
      "source": [
        "from sklearn.ensemble import RandomForestClassifier\n",
        "\n",
        "# random forest\n",
        "forest = RandomForestClassifier(n_jobs = -1)\n",
        "\n",
        "# hyperparameter space\n",
        "params = {\"criterion\": ['gini', 'entropy'], \"max_features\": ['auto', 'sqrt']}\n",
        "\n",
        "# create 5 folds\n",
        "folds = StratifiedKFold(n_splits = 5, shuffle = True, random_state = 4)\n",
        "\n",
        "# create gridsearch object\n",
        "rf_model = GridSearchCV(estimator=forest, cv=folds, param_grid=params, scoring='roc_auc', n_jobs=-1, verbose=1)"
      ],
      "execution_count": 0,
      "outputs": []
    },
    {
      "cell_type": "code",
      "metadata": {
        "id": "k0mUKgh5VNf9",
        "colab_type": "code",
        "outputId": "cc7801d8-d34d-459b-e715-86e2f1077d4c",
        "colab": {
          "base_uri": "https://localhost:8080/",
          "height": 451
        }
      },
      "source": [
        "# fit model\n",
        "rf_model.fit(X_train, y_train)"
      ],
      "execution_count": 34,
      "outputs": [
        {
          "output_type": "stream",
          "text": [
            "Fitting 5 folds for each of 4 candidates, totalling 20 fits\n"
          ],
          "name": "stdout"
        },
        {
          "output_type": "stream",
          "text": [
            "[Parallel(n_jobs=-1)]: Using backend LokyBackend with 2 concurrent workers.\n",
            "[Parallel(n_jobs=-1)]: Done  20 out of  20 | elapsed: 35.8min finished\n"
          ],
          "name": "stderr"
        },
        {
          "output_type": "execute_result",
          "data": {
            "text/plain": [
              "GridSearchCV(cv=StratifiedKFold(n_splits=5, random_state=4, shuffle=True),\n",
              "             error_score=nan,\n",
              "             estimator=RandomForestClassifier(bootstrap=True, ccp_alpha=0.0,\n",
              "                                              class_weight=None,\n",
              "                                              criterion='gini', max_depth=None,\n",
              "                                              max_features='auto',\n",
              "                                              max_leaf_nodes=None,\n",
              "                                              max_samples=None,\n",
              "                                              min_impurity_decrease=0.0,\n",
              "                                              min_impurity_split=None,\n",
              "                                              min_samples_leaf=1,\n",
              "                                              min_samples_split=2,\n",
              "                                              min_weight_fraction_leaf=0.0,\n",
              "                                              n_estimators=100, n_jobs=-1,\n",
              "                                              oob_score=False,\n",
              "                                              random_state=None, verbose=0,\n",
              "                                              warm_start=False),\n",
              "             iid='deprecated', n_jobs=-1,\n",
              "             param_grid={'criterion': ['gini', 'entropy'],\n",
              "                         'max_features': ['auto', 'sqrt']},\n",
              "             pre_dispatch='2*n_jobs', refit=True, return_train_score=False,\n",
              "             scoring='roc_auc', verbose=1)"
            ]
          },
          "metadata": {
            "tags": []
          },
          "execution_count": 34
        }
      ]
    },
    {
      "cell_type": "code",
      "metadata": {
        "id": "sQt-tuiQVVWf",
        "colab_type": "code",
        "outputId": "33ec513a-d8c1-4c33-e230-a0ee1500b7d4",
        "colab": {
          "base_uri": "https://localhost:8080/",
          "height": 52
        }
      },
      "source": [
        "# print best hyperparameters\n",
        "print(\"Best AUC: \", rf_model.best_score_)\n",
        "print(\"Best hyperparameters: \", rf_model.best_params_)"
      ],
      "execution_count": 35,
      "outputs": [
        {
          "output_type": "stream",
          "text": [
            "Best AUC:  0.9496560995177663\n",
            "Best hyperparameters:  {'criterion': 'gini', 'max_features': 'auto'}\n"
          ],
          "name": "stdout"
        }
      ]
    },
    {
      "cell_type": "code",
      "metadata": {
        "id": "FPbfrPQLeHZR",
        "colab_type": "code",
        "outputId": "17174cb4-2e54-429f-ed3d-f3834591408d",
        "colab": {
          "base_uri": "https://localhost:8080/",
          "height": 35
        }
      },
      "source": [
        "rf_model.score(X_train,y_train)"
      ],
      "execution_count": 36,
      "outputs": [
        {
          "output_type": "execute_result",
          "data": {
            "text/plain": [
              "1.0"
            ]
          },
          "metadata": {
            "tags": []
          },
          "execution_count": 36
        }
      ]
    },
    {
      "cell_type": "code",
      "metadata": {
        "id": "dOVOR8HGeINm",
        "colab_type": "code",
        "outputId": "aeae9c7f-f44e-4d7e-c637-c16649371617",
        "colab": {
          "base_uri": "https://localhost:8080/",
          "height": 104
        }
      },
      "source": [
        "# predict churn on test data\n",
        "y_test_pred = rf_model.predict(X_test)\n",
        "\n",
        "# create onfusion matrix\n",
        "cm = confusion_matrix(y_test, y_test_pred)\n",
        "print(cm)\n",
        "\n",
        "# check sensitivity and specificity\n",
        "sensitivity, specificity, _ = sensitivity_specificity_support(y_test, y_test_pred, average='binary')\n",
        "print(\"Sensitivity: \\t\", round(sensitivity, 2), \"\\n\", \"Specificity: \\t\", round(specificity, 2), sep='')\n",
        "\n",
        "# check area under curve\n",
        "y_pred_prob = rf_model.predict_proba(X_test)[:, 1]\n",
        "print(\"AUC:    \\t\", round(roc_auc_score(y_test, y_pred_prob),2))"
      ],
      "execution_count": 37,
      "outputs": [
        {
          "output_type": "stream",
          "text": [
            "[[71074     5]\n",
            " [   27    96]]\n",
            "Sensitivity: \t0.78\n",
            "Specificity: \t1.0\n",
            "AUC:    \t 0.94\n"
          ],
          "name": "stdout"
        }
      ]
    },
    {
      "cell_type": "code",
      "metadata": {
        "id": "GoEL1nS2eS2A",
        "colab_type": "code",
        "outputId": "e33c5370-c1fd-4172-9262-ba32940b0021",
        "colab": {
          "base_uri": "https://localhost:8080/",
          "height": 191
        }
      },
      "source": [
        "rf_model = RandomForestClassifier(n_estimators=100, max_features='auto', criterion='entropy', oob_score=True, random_state=4, verbose=1)\n",
        "rf_model.fit(X_train, y_train)"
      ],
      "execution_count": 38,
      "outputs": [
        {
          "output_type": "stream",
          "text": [
            "[Parallel(n_jobs=1)]: Using backend SequentialBackend with 1 concurrent workers.\n",
            "[Parallel(n_jobs=1)]: Done 100 out of 100 | elapsed:  2.7min finished\n"
          ],
          "name": "stderr"
        },
        {
          "output_type": "execute_result",
          "data": {
            "text/plain": [
              "RandomForestClassifier(bootstrap=True, ccp_alpha=0.0, class_weight=None,\n",
              "                       criterion='entropy', max_depth=None, max_features='auto',\n",
              "                       max_leaf_nodes=None, max_samples=None,\n",
              "                       min_impurity_decrease=0.0, min_impurity_split=None,\n",
              "                       min_samples_leaf=1, min_samples_split=2,\n",
              "                       min_weight_fraction_leaf=0.0, n_estimators=100,\n",
              "                       n_jobs=None, oob_score=True, random_state=4, verbose=1,\n",
              "                       warm_start=False)"
            ]
          },
          "metadata": {
            "tags": []
          },
          "execution_count": 38
        }
      ]
    },
    {
      "cell_type": "code",
      "metadata": {
        "id": "qV5-S_9weqfC",
        "colab_type": "code",
        "outputId": "2ede8d6e-e90a-49f6-dd9e-4aa1072917a1",
        "colab": {
          "base_uri": "https://localhost:8080/",
          "height": 173
        }
      },
      "source": [
        "# predict churn on test data\n",
        "y_test_pred = rf_model.predict(X_test)\n",
        "\n",
        "# create onfusion matrix\n",
        "cm = confusion_matrix(y_test, y_test_pred)\n",
        "print(cm)\n",
        "\n",
        "# check sensitivity and specificity\n",
        "sensitivity, specificity, _ = sensitivity_specificity_support(y_test, y_test_pred, average='binary')\n",
        "print(\"Sensitivity: \\t\", round(sensitivity, 2), \"\\n\", \"Specificity: \\t\", round(specificity, 2), sep='')\n",
        "\n",
        "# check area under curve\n",
        "y_pred_prob = rf_model.predict_proba(X_test)[:, 1]\n",
        "print(\"AUC:    \\t\", round(roc_auc_score(y_test, y_pred_prob),2))"
      ],
      "execution_count": 39,
      "outputs": [
        {
          "output_type": "stream",
          "text": [
            "[Parallel(n_jobs=1)]: Using backend SequentialBackend with 1 concurrent workers.\n",
            "[Parallel(n_jobs=1)]: Done 100 out of 100 | elapsed:    0.6s finished\n",
            "[Parallel(n_jobs=1)]: Using backend SequentialBackend with 1 concurrent workers.\n"
          ],
          "name": "stderr"
        },
        {
          "output_type": "stream",
          "text": [
            "[[71076     3]\n",
            " [   26    97]]\n",
            "Sensitivity: \t0.79\n",
            "Specificity: \t1.0\n",
            "AUC:    \t 0.95\n"
          ],
          "name": "stdout"
        },
        {
          "output_type": "stream",
          "text": [
            "[Parallel(n_jobs=1)]: Done 100 out of 100 | elapsed:    0.6s finished\n"
          ],
          "name": "stderr"
        }
      ]
    },
    {
      "cell_type": "markdown",
      "metadata": {
        "id": "MDi-KH_DK09_",
        "colab_type": "text"
      },
      "source": [
        "### XGBoost"
      ]
    },
    {
      "cell_type": "code",
      "metadata": {
        "id": "L25XdE25fRTZ",
        "colab_type": "code",
        "outputId": "4562de88-2134-43a9-9069-6c585d759b6c",
        "colab": {
          "base_uri": "https://localhost:8080/",
          "height": 297
        }
      },
      "source": [
        "from xgboost import XGBClassifier\n",
        "\n",
        "tree_range = range(80, 120, 10)\n",
        "score1=[]\n",
        "score2=[]\n",
        "for tree in tree_range:\n",
        "    xgb=XGBClassifier(n_estimators=tree)\n",
        "    xgb.fit(X_train,y_train)\n",
        "    y_pred_prob = xgb.predict_proba(X_train)[:, 1]\n",
        "    score1.append(roc_auc_score(y_train, y_pred_prob))\n",
        "    y_pred_prob1 = xgb.predict_proba(X_test)[:, 1]\n",
        "    score2.append(roc_auc_score(y_test, y_pred_prob1))\n",
        "    \n",
        "%matplotlib inline\n",
        "plt.plot(tree_range,score1,label= 'AUC Scroe on training set')\n",
        "plt.plot(tree_range,score2,label= 'AUC Score on testing set')\n",
        "plt.xlabel('Value of number of trees in XGboost')\n",
        "plt.ylabel('AUC Score')\n",
        "plt.legend()"
      ],
      "execution_count": 40,
      "outputs": [
        {
          "output_type": "execute_result",
          "data": {
            "text/plain": [
              "<matplotlib.legend.Legend at 0x7f7dea0a4128>"
            ]
          },
          "metadata": {
            "tags": []
          },
          "execution_count": 40
        },
        {
          "output_type": "display_data",
          "data": {
            "image/png": "[encoded data removed]",
            "text/plain": [
              "<Figure size 432x288 with 1 Axes>"
            ]
          },
          "metadata": {
            "tags": [],
            "needs_background": "light"
          }
        }
      ]
    },
    {
      "cell_type": "markdown",
      "metadata": {
        "id": "Zz7XW6-MK_Gz",
        "colab_type": "text"
      },
      "source": [
        "Curve Flattens around 100 hence selecting trees as 100"
      ]
    },
    {
      "cell_type": "code",
      "metadata": {
        "id": "pqHI0Vovnzjd",
        "colab_type": "code",
        "outputId": "7f75c268-d36e-4ede-f9b2-4ac0300843f6",
        "colab": {
          "base_uri": "https://localhost:8080/",
          "height": 104
        }
      },
      "source": [
        "xgb = XGBClassifier(n_estimators=100)\n",
        "xgb.fit(X_train, y_train)\n",
        "# predict churn on test data\n",
        "y_test_pred = xgb.predict(X_test)\n",
        "\n",
        "# create onfusion matrix\n",
        "cm = confusion_matrix(y_test, y_test_pred)\n",
        "print(cm)\n",
        "\n",
        "# check sensitivity and specificity\n",
        "sensitivity, specificity, _ = sensitivity_specificity_support(y_test, y_test_pred, average='binary')\n",
        "print(\"Sensitivity: \\t\", round(sensitivity, 2), \"\\n\", \"Specificity: \\t\", round(specificity, 2), sep='')\n",
        "\n",
        "# check area under curve\n",
        "y_pred_prob = xgb.predict_proba(X_test)[:, 1]\n",
        "print(\"AUC:    \\t\", round(roc_auc_score(y_test, y_pred_prob),2))"
      ],
      "execution_count": 41,
      "outputs": [
        {
          "output_type": "stream",
          "text": [
            "[[71071     8]\n",
            " [   28    95]]\n",
            "Sensitivity: \t0.77\n",
            "Specificity: \t1.0\n",
            "AUC:    \t 0.97\n"
          ],
          "name": "stdout"
        }
      ]
    },
    {
      "cell_type": "markdown",
      "metadata": {
        "id": "3zN-iAIvLgEd",
        "colab_type": "text"
      },
      "source": [
        "**Best Model**\n",
        "Random forest with 0.79 Sensitivity and 0.97 AUC Score"
      ]
    },
    {
      "cell_type": "markdown",
      "metadata": {
        "id": "AVlVG_K4LHsI",
        "colab_type": "text"
      },
      "source": [
        "## SMOTE Oversampling"
      ]
    },
    {
      "cell_type": "code",
      "metadata": {
        "id": "4LWNReiWZKyj",
        "colab_type": "code",
        "outputId": "7d71c518-4c04-4531-8125-39598e0b1fab",
        "colab": {
          "base_uri": "https://localhost:8080/",
          "height": 1000
        }
      },
      "source": [
        "from imblearn import over_sampling\n",
        "\n",
        "import warnings\n",
        "warnings.filterwarnings(\"ignore\")\n",
        "\n",
        "\n",
        "sm = over_sampling.SMOTE(random_state=0)\n",
        "X_train_smote, y_train_smote = sm.fit_resample(X_train, y_train)\n",
        "# Artificial minority samples and corresponding minority labels from SMOTE are appended\n",
        "# below X_train and y_train respectively\n",
        "# So to exclusively get the artificial minority samples from SMOTE, we do\n",
        "X_train_smote_1 = X_train_smote[X_train.shape[0]:]\n",
        "\n",
        "X_train_1 = X_train.to_numpy()[np.where(y_train==1.0)]\n",
        "X_train_0 = X_train.to_numpy()[np.where(y_train==0.0)]\n",
        "\n",
        "\n",
        "plt.rcParams['figure.figsize'] = [20, 20]\n",
        "fig = plt.figure()\n",
        "\n",
        "plt.subplot(3, 1, 1)\n",
        "plt.scatter(X_train_1[:, 0], X_train_1[:, 1], label='Actual Class-1 Examples')\n",
        "plt.legend()\n",
        "\n",
        "plt.subplot(3, 1, 2)\n",
        "plt.scatter(X_train_1[:, 0], X_train_1[:, 1], label='Actual Class-1 Examples')\n",
        "plt.scatter(X_train_smote_1[:X_train_1.shape[0], 0], X_train_smote_1[:X_train_1.shape[0], 1],\n",
        "            label='Artificial SMOTE Class-1 Examples')\n",
        "plt.legend()\n",
        "\n",
        "plt.subplot(3, 1, 3)\n",
        "plt.scatter(X_train_1[:, 0], X_train_1[:, 1], label='Actual Class-1 Examples')\n",
        "plt.scatter(X_train_0[:X_train_1.shape[0], 0], X_train_0[:X_train_1.shape[0], 1], label='Actual Class-0 Examples')\n",
        "plt.legend()"
      ],
      "execution_count": 42,
      "outputs": [
        {
          "output_type": "execute_result",
          "data": {
            "text/plain": [
              "<matplotlib.legend.Legend at 0x7f7de9f45438>"
            ]
          },
          "metadata": {
            "tags": []
          },
          "execution_count": 42
        },
        {
          "output_type": "display_data",
          "data": {
            "image/png": "[encoded data removed]",
            "text/plain": [
              "<Figure size 1440x1440 with 3 Axes>"
            ]
          },
          "metadata": {
            "tags": [],
            "needs_background": "light"
          }
        }
      ]
    },
    {
      "cell_type": "code",
      "metadata": {
        "id": "EiFAzTIUZjRs",
        "colab_type": "code",
        "outputId": "cd5840b1-5e7a-4da8-98a7-b053e4021f39",
        "colab": {
          "base_uri": "https://localhost:8080/",
          "height": 243
        }
      },
      "source": [
        "X_train_smote"
      ],
      "execution_count": 43,
      "outputs": [
        {
          "output_type": "execute_result",
          "data": {
            "text/plain": [
              "array([[-0.68770154, -0.41090603,  1.34085347, ...,  0.17137007,\n",
              "         0.58379908,  0.94720907],\n",
              "       [-1.68922228, -0.6015524 , -0.45119294, ..., -2.09091114,\n",
              "         0.51003094,  1.07758528],\n",
              "       [-1.14935149,  1.08167516, -0.50605628, ...,  1.36981164,\n",
              "         0.58253138,  1.04490854],\n",
              "       ...,\n",
              "       [-0.9330235 ,  1.40402109, -1.55118066, ...,  0.96394291,\n",
              "         0.62928731,  1.35252867],\n",
              "       [-1.41312066,  1.03505805, -1.75746032, ...,  3.83532094,\n",
              "        -0.88608536,  2.10351161],\n",
              "       [-0.97843741,  1.21675307, -0.73504096, ...,  1.32253864,\n",
              "         0.72620181,  1.11810729]])"
            ]
          },
          "metadata": {
            "tags": []
          },
          "execution_count": 43
        }
      ]
    },
    {
      "cell_type": "code",
      "metadata": {
        "id": "caCnHx4TZ7Jf",
        "colab_type": "code",
        "outputId": "df0265fb-b649-4825-be6e-182086bbcb52",
        "colab": {
          "base_uri": "https://localhost:8080/",
          "height": 222
        }
      },
      "source": [
        "X_train_smote = pd.DataFrame(data=X_train_smote,columns=cols)\n",
        "X_train_smote.head()"
      ],
      "execution_count": 44,
      "outputs": [
        {
          "output_type": "execute_result",
          "data": {
            "text/html": [
              "<div>\n",
              "<style scoped>\n",
              "    .dataframe tbody tr th:only-of-type {\n",
              "        vertical-align: middle;\n",
              "    }\n",
              "\n",
              "    .dataframe tbody tr th {\n",
              "        vertical-align: top;\n",
              "    }\n",
              "\n",
              "    .dataframe thead th {\n",
              "        text-align: right;\n",
              "    }\n",
              "</style>\n",
              "<table border=\"1\" class=\"dataframe\">\n",
              "  <thead>\n",
              "    <tr style=\"text-align: right;\">\n",
              "      <th></th>\n",
              "      <th>V1</th>\n",
              "      <th>V2</th>\n",
              "      <th>V3</th>\n",
              "      <th>V4</th>\n",
              "      <th>V5</th>\n",
              "      <th>V6</th>\n",
              "      <th>V7</th>\n",
              "      <th>V8</th>\n",
              "      <th>V9</th>\n",
              "      <th>V10</th>\n",
              "      <th>V11</th>\n",
              "      <th>V12</th>\n",
              "      <th>V13</th>\n",
              "      <th>V14</th>\n",
              "      <th>V15</th>\n",
              "      <th>V16</th>\n",
              "      <th>V17</th>\n",
              "      <th>V18</th>\n",
              "      <th>V19</th>\n",
              "      <th>V20</th>\n",
              "      <th>V21</th>\n",
              "      <th>V22</th>\n",
              "      <th>V23</th>\n",
              "      <th>V24</th>\n",
              "      <th>V25</th>\n",
              "      <th>V26</th>\n",
              "      <th>V27</th>\n",
              "      <th>V28</th>\n",
              "      <th>Amount</th>\n",
              "    </tr>\n",
              "  </thead>\n",
              "  <tbody>\n",
              "    <tr>\n",
              "      <th>0</th>\n",
              "      <td>-0.687702</td>\n",
              "      <td>-0.410906</td>\n",
              "      <td>1.340853</td>\n",
              "      <td>-0.535376</td>\n",
              "      <td>-0.158568</td>\n",
              "      <td>0.047998</td>\n",
              "      <td>0.046655</td>\n",
              "      <td>0.194627</td>\n",
              "      <td>0.519610</td>\n",
              "      <td>-0.844992</td>\n",
              "      <td>0.365821</td>\n",
              "      <td>1.253679</td>\n",
              "      <td>0.093466</td>\n",
              "      <td>-0.605382</td>\n",
              "      <td>-1.798904</td>\n",
              "      <td>0.328792</td>\n",
              "      <td>-0.677411</td>\n",
              "      <td>0.091354</td>\n",
              "      <td>0.302364</td>\n",
              "      <td>0.307821</td>\n",
              "      <td>0.084485</td>\n",
              "      <td>-0.003745</td>\n",
              "      <td>0.566883</td>\n",
              "      <td>0.007716</td>\n",
              "      <td>-1.615275</td>\n",
              "      <td>1.317653</td>\n",
              "      <td>0.171370</td>\n",
              "      <td>0.583799</td>\n",
              "      <td>0.947209</td>\n",
              "    </tr>\n",
              "    <tr>\n",
              "      <th>1</th>\n",
              "      <td>-1.689222</td>\n",
              "      <td>-0.601552</td>\n",
              "      <td>-0.451193</td>\n",
              "      <td>-1.909394</td>\n",
              "      <td>-0.305639</td>\n",
              "      <td>0.023485</td>\n",
              "      <td>0.100674</td>\n",
              "      <td>0.514401</td>\n",
              "      <td>0.889301</td>\n",
              "      <td>-1.047354</td>\n",
              "      <td>0.025000</td>\n",
              "      <td>0.452034</td>\n",
              "      <td>-0.349679</td>\n",
              "      <td>0.286859</td>\n",
              "      <td>-0.256908</td>\n",
              "      <td>1.823284</td>\n",
              "      <td>-1.448387</td>\n",
              "      <td>1.037600</td>\n",
              "      <td>-0.550023</td>\n",
              "      <td>-2.009915</td>\n",
              "      <td>0.054733</td>\n",
              "      <td>0.857166</td>\n",
              "      <td>-0.078661</td>\n",
              "      <td>0.440860</td>\n",
              "      <td>0.277125</td>\n",
              "      <td>0.824740</td>\n",
              "      <td>-2.090911</td>\n",
              "      <td>0.510031</td>\n",
              "      <td>1.077585</td>\n",
              "    </tr>\n",
              "    <tr>\n",
              "      <th>2</th>\n",
              "      <td>-1.149351</td>\n",
              "      <td>1.081675</td>\n",
              "      <td>-0.506056</td>\n",
              "      <td>-1.148611</td>\n",
              "      <td>1.444199</td>\n",
              "      <td>-0.217205</td>\n",
              "      <td>-0.888387</td>\n",
              "      <td>-3.091323</td>\n",
              "      <td>0.685837</td>\n",
              "      <td>-1.409289</td>\n",
              "      <td>-1.656431</td>\n",
              "      <td>0.340880</td>\n",
              "      <td>0.330040</td>\n",
              "      <td>-1.578367</td>\n",
              "      <td>-1.255450</td>\n",
              "      <td>0.745791</td>\n",
              "      <td>0.686069</td>\n",
              "      <td>0.132242</td>\n",
              "      <td>-1.152599</td>\n",
              "      <td>-1.729068</td>\n",
              "      <td>4.437504</td>\n",
              "      <td>-2.826511</td>\n",
              "      <td>-3.449780</td>\n",
              "      <td>-1.665558</td>\n",
              "      <td>-0.479489</td>\n",
              "      <td>-0.436747</td>\n",
              "      <td>1.369812</td>\n",
              "      <td>0.582531</td>\n",
              "      <td>1.044909</td>\n",
              "    </tr>\n",
              "    <tr>\n",
              "      <th>3</th>\n",
              "      <td>0.791358</td>\n",
              "      <td>-0.358179</td>\n",
              "      <td>0.342831</td>\n",
              "      <td>-0.099205</td>\n",
              "      <td>-0.731132</td>\n",
              "      <td>-0.550441</td>\n",
              "      <td>-0.482563</td>\n",
              "      <td>-0.339151</td>\n",
              "      <td>0.733062</td>\n",
              "      <td>0.136986</td>\n",
              "      <td>0.455729</td>\n",
              "      <td>-2.117097</td>\n",
              "      <td>2.096262</td>\n",
              "      <td>0.970812</td>\n",
              "      <td>-1.349902</td>\n",
              "      <td>0.579259</td>\n",
              "      <td>1.763422</td>\n",
              "      <td>-1.796201</td>\n",
              "      <td>0.900026</td>\n",
              "      <td>0.062924</td>\n",
              "      <td>-0.207341</td>\n",
              "      <td>-0.192957</td>\n",
              "      <td>-0.070985</td>\n",
              "      <td>0.548574</td>\n",
              "      <td>1.063177</td>\n",
              "      <td>-0.548631</td>\n",
              "      <td>-0.040711</td>\n",
              "      <td>0.038545</td>\n",
              "      <td>-0.029545</td>\n",
              "    </tr>\n",
              "    <tr>\n",
              "      <th>4</th>\n",
              "      <td>-0.461845</td>\n",
              "      <td>0.686866</td>\n",
              "      <td>0.862753</td>\n",
              "      <td>0.664698</td>\n",
              "      <td>0.090544</td>\n",
              "      <td>-0.621574</td>\n",
              "      <td>0.602844</td>\n",
              "      <td>-0.175412</td>\n",
              "      <td>-0.415029</td>\n",
              "      <td>0.033079</td>\n",
              "      <td>-0.526362</td>\n",
              "      <td>-0.456287</td>\n",
              "      <td>-0.247631</td>\n",
              "      <td>0.338916</td>\n",
              "      <td>1.184020</td>\n",
              "      <td>-0.438487</td>\n",
              "      <td>-0.247423</td>\n",
              "      <td>0.148182</td>\n",
              "      <td>0.502918</td>\n",
              "      <td>0.182442</td>\n",
              "      <td>0.172998</td>\n",
              "      <td>0.625350</td>\n",
              "      <td>-0.237534</td>\n",
              "      <td>0.602729</td>\n",
              "      <td>-0.415921</td>\n",
              "      <td>-0.623910</td>\n",
              "      <td>1.031131</td>\n",
              "      <td>0.706450</td>\n",
              "      <td>-0.482898</td>\n",
              "    </tr>\n",
              "  </tbody>\n",
              "</table>\n",
              "</div>"
            ],
            "text/plain": [
              "         V1        V2        V3  ...       V27       V28    Amount\n",
              "0 -0.687702 -0.410906  1.340853  ...  0.171370  0.583799  0.947209\n",
              "1 -1.689222 -0.601552 -0.451193  ... -2.090911  0.510031  1.077585\n",
              "2 -1.149351  1.081675 -0.506056  ...  1.369812  0.582531  1.044909\n",
              "3  0.791358 -0.358179  0.342831  ... -0.040711  0.038545 -0.029545\n",
              "4 -0.461845  0.686866  0.862753  ...  1.031131  0.706450 -0.482898\n",
              "\n",
              "[5 rows x 29 columns]"
            ]
          },
          "metadata": {
            "tags": []
          },
          "execution_count": 44
        }
      ]
    },
    {
      "cell_type": "code",
      "metadata": {
        "id": "EQJVmK2saRCE",
        "colab_type": "code",
        "outputId": "ff199fe6-4270-4367-9782-ce41560ca893",
        "colab": {
          "base_uri": "https://localhost:8080/",
          "height": 202
        }
      },
      "source": [
        "y_train_smote = pd.DataFrame(data=y_train_smote,columns=['Class'])\n",
        "y_train_smote.head()"
      ],
      "execution_count": 45,
      "outputs": [
        {
          "output_type": "execute_result",
          "data": {
            "text/html": [
              "<div>\n",
              "<style scoped>\n",
              "    .dataframe tbody tr th:only-of-type {\n",
              "        vertical-align: middle;\n",
              "    }\n",
              "\n",
              "    .dataframe tbody tr th {\n",
              "        vertical-align: top;\n",
              "    }\n",
              "\n",
              "    .dataframe thead th {\n",
              "        text-align: right;\n",
              "    }\n",
              "</style>\n",
              "<table border=\"1\" class=\"dataframe\">\n",
              "  <thead>\n",
              "    <tr style=\"text-align: right;\">\n",
              "      <th></th>\n",
              "      <th>Class</th>\n",
              "    </tr>\n",
              "  </thead>\n",
              "  <tbody>\n",
              "    <tr>\n",
              "      <th>0</th>\n",
              "      <td>0</td>\n",
              "    </tr>\n",
              "    <tr>\n",
              "      <th>1</th>\n",
              "      <td>0</td>\n",
              "    </tr>\n",
              "    <tr>\n",
              "      <th>2</th>\n",
              "      <td>0</td>\n",
              "    </tr>\n",
              "    <tr>\n",
              "      <th>3</th>\n",
              "      <td>0</td>\n",
              "    </tr>\n",
              "    <tr>\n",
              "      <th>4</th>\n",
              "      <td>0</td>\n",
              "    </tr>\n",
              "  </tbody>\n",
              "</table>\n",
              "</div>"
            ],
            "text/plain": [
              "   Class\n",
              "0      0\n",
              "1      0\n",
              "2      0\n",
              "3      0\n",
              "4      0"
            ]
          },
          "metadata": {
            "tags": []
          },
          "execution_count": 45
        }
      ]
    },
    {
      "cell_type": "code",
      "metadata": {
        "id": "q3WviEqzacqB",
        "colab_type": "code",
        "outputId": "9b1dc504-c8f8-446a-81c7-c4bb702f101d",
        "colab": {
          "base_uri": "https://localhost:8080/",
          "height": 69
        }
      },
      "source": [
        "y_train_smote.Class.value_counts()"
      ],
      "execution_count": 46,
      "outputs": [
        {
          "output_type": "execute_result",
          "data": {
            "text/plain": [
              "1    213236\n",
              "0    213236\n",
              "Name: Class, dtype: int64"
            ]
          },
          "metadata": {
            "tags": []
          },
          "execution_count": 46
        }
      ]
    },
    {
      "cell_type": "markdown",
      "metadata": {
        "id": "jXa7tpnCLXOQ",
        "colab_type": "text"
      },
      "source": [
        "SMOTE Oversampled data near every actual class 1 datapoint"
      ]
    },
    {
      "cell_type": "markdown",
      "metadata": {
        "id": "9DD70M4XLNfJ",
        "colab_type": "text"
      },
      "source": [
        "## Model Building on SMOTE Oversampled Data"
      ]
    },
    {
      "cell_type": "markdown",
      "metadata": {
        "id": "1FNSsbqyMPLw",
        "colab_type": "text"
      },
      "source": [
        "### Logistic Regression"
      ]
    },
    {
      "cell_type": "code",
      "metadata": {
        "id": "cfOAeCGeahr8",
        "colab_type": "code",
        "outputId": "0bcdd16a-f323-4570-df6e-f37fe075555f",
        "colab": {
          "base_uri": "https://localhost:8080/",
          "height": 104
        }
      },
      "source": [
        "#fitting the linear Regression model\n",
        "lr_smote = LogisticRegression(random_state = 42)\n",
        "lr_smote.fit(X_train_smote,y_train_smote)"
      ],
      "execution_count": 47,
      "outputs": [
        {
          "output_type": "execute_result",
          "data": {
            "text/plain": [
              "LogisticRegression(C=1.0, class_weight=None, dual=False, fit_intercept=True,\n",
              "                   intercept_scaling=1, l1_ratio=None, max_iter=100,\n",
              "                   multi_class='auto', n_jobs=None, penalty='l2',\n",
              "                   random_state=42, solver='lbfgs', tol=0.0001, verbose=0,\n",
              "                   warm_start=False)"
            ]
          },
          "metadata": {
            "tags": []
          },
          "execution_count": 47
        }
      ]
    },
    {
      "cell_type": "code",
      "metadata": {
        "id": "KIzo-47rauMf",
        "colab_type": "code",
        "outputId": "49739aea-9692-4d3e-e1d8-ed3508fd3335",
        "colab": {
          "base_uri": "https://localhost:8080/",
          "height": 35
        }
      },
      "source": [
        "#accuracy score of linear regression model\n",
        "lr_smote.score(X_train_smote,y_train_smote)"
      ],
      "execution_count": 48,
      "outputs": [
        {
          "output_type": "execute_result",
          "data": {
            "text/plain": [
              "0.9526416740137688"
            ]
          },
          "metadata": {
            "tags": []
          },
          "execution_count": 48
        }
      ]
    },
    {
      "cell_type": "code",
      "metadata": {
        "id": "VhbhF-ALbAzw",
        "colab_type": "code",
        "outputId": "5c199a71-619d-4841-da7a-5f8bcaf8a718",
        "colab": {
          "base_uri": "https://localhost:8080/",
          "height": 104
        }
      },
      "source": [
        "# predict churn on test data\n",
        "y_pred = lr_smote.predict(X_test)\n",
        "\n",
        "# create onfusion matrix\n",
        "cm = confusion_matrix(y_test, y_pred)\n",
        "print(cm)\n",
        "\n",
        "# check sensitivity and specificity\n",
        "sensitivity, specificity, _ = sensitivity_specificity_support(y_test, y_pred, average='binary')\n",
        "print(\"Sensitivity: \\t\", round(sensitivity, 2), \"\\n\", \"Specificity: \\t\", round(specificity, 2), sep='')\n",
        "\n",
        "# check area under curve\n",
        "y_pred_prob = lr_smote.predict_proba(X_test)[:, 1]\n",
        "print(\"AUC:    \\t\", round(roc_auc_score(y_test, y_pred_prob),2))"
      ],
      "execution_count": 49,
      "outputs": [
        {
          "output_type": "stream",
          "text": [
            "[[69148  1931]\n",
            " [   14   109]]\n",
            "Sensitivity: \t0.89\n",
            "Specificity: \t0.97\n",
            "AUC:    \t 0.97\n"
          ],
          "name": "stdout"
        }
      ]
    },
    {
      "cell_type": "code",
      "metadata": {
        "id": "VZ8ml4HDbTs6",
        "colab_type": "code",
        "colab": {}
      },
      "source": [
        "# logistic regression - the class weight is used to handle class imbalance - it adjusts the cost function\n",
        "logistic = LogisticRegression()\n",
        "\n",
        "# hyperparameter space\n",
        "params = {'C': [0.1, 0.5, 1, 2, 3, 4, 5, 10], 'penalty': ['l1', 'l2']}\n",
        "\n",
        "# create 5 folds\n",
        "folds = StratifiedKFold(n_splits = 5, shuffle = True, random_state = 4)\n",
        "\n",
        "# create gridsearch object\n",
        "model_smote = GridSearchCV(estimator=logistic, cv=folds, param_grid=params, scoring='roc_auc', n_jobs=-1, verbose=1)"
      ],
      "execution_count": 0,
      "outputs": []
    },
    {
      "cell_type": "code",
      "metadata": {
        "id": "AQGZE6adbo5l",
        "colab_type": "code",
        "outputId": "6cd27fec-b1d6-4155-888f-b2c8b4481f6a",
        "colab": {
          "base_uri": "https://localhost:8080/",
          "height": 347
        }
      },
      "source": [
        "# fit model\n",
        "model_smote.fit(X_train_smote, y_train_smote)"
      ],
      "execution_count": 51,
      "outputs": [
        {
          "output_type": "stream",
          "text": [
            "Fitting 5 folds for each of 16 candidates, totalling 80 fits\n"
          ],
          "name": "stdout"
        },
        {
          "output_type": "stream",
          "text": [
            "[Parallel(n_jobs=-1)]: Using backend LokyBackend with 2 concurrent workers.\n",
            "[Parallel(n_jobs=-1)]: Done  46 tasks      | elapsed:   42.0s\n",
            "[Parallel(n_jobs=-1)]: Done  80 out of  80 | elapsed:  1.2min finished\n"
          ],
          "name": "stderr"
        },
        {
          "output_type": "execute_result",
          "data": {
            "text/plain": [
              "GridSearchCV(cv=StratifiedKFold(n_splits=5, random_state=4, shuffle=True),\n",
              "             error_score=nan,\n",
              "             estimator=LogisticRegression(C=1.0, class_weight=None, dual=False,\n",
              "                                          fit_intercept=True,\n",
              "                                          intercept_scaling=1, l1_ratio=None,\n",
              "                                          max_iter=100, multi_class='auto',\n",
              "                                          n_jobs=None, penalty='l2',\n",
              "                                          random_state=None, solver='lbfgs',\n",
              "                                          tol=0.0001, verbose=0,\n",
              "                                          warm_start=False),\n",
              "             iid='deprecated', n_jobs=-1,\n",
              "             param_grid={'C': [0.1, 0.5, 1, 2, 3, 4, 5, 10],\n",
              "                         'penalty': ['l1', 'l2']},\n",
              "             pre_dispatch='2*n_jobs', refit=True, return_train_score=False,\n",
              "             scoring='roc_auc', verbose=1)"
            ]
          },
          "metadata": {
            "tags": []
          },
          "execution_count": 51
        }
      ]
    },
    {
      "cell_type": "code",
      "metadata": {
        "id": "gF9vY1YobvBU",
        "colab_type": "code",
        "outputId": "01fecbfd-b190-4bbe-aace-10090529996e",
        "colab": {
          "base_uri": "https://localhost:8080/",
          "height": 1000
        }
      },
      "source": [
        "# cross validation results\n",
        "pd.DataFrame(model_smote.cv_results_)"
      ],
      "execution_count": 52,
      "outputs": [
        {
          "output_type": "execute_result",
          "data": {
            "text/html": [
              "<div>\n",
              "<style scoped>\n",
              "    .dataframe tbody tr th:only-of-type {\n",
              "        vertical-align: middle;\n",
              "    }\n",
              "\n",
              "    .dataframe tbody tr th {\n",
              "        vertical-align: top;\n",
              "    }\n",
              "\n",
              "    .dataframe thead th {\n",
              "        text-align: right;\n",
              "    }\n",
              "</style>\n",
              "<table border=\"1\" class=\"dataframe\">\n",
              "  <thead>\n",
              "    <tr style=\"text-align: right;\">\n",
              "      <th></th>\n",
              "      <th>mean_fit_time</th>\n",
              "      <th>std_fit_time</th>\n",
              "      <th>mean_score_time</th>\n",
              "      <th>std_score_time</th>\n",
              "      <th>param_C</th>\n",
              "      <th>param_penalty</th>\n",
              "      <th>params</th>\n",
              "      <th>split0_test_score</th>\n",
              "      <th>split1_test_score</th>\n",
              "      <th>split2_test_score</th>\n",
              "      <th>split3_test_score</th>\n",
              "      <th>split4_test_score</th>\n",
              "      <th>mean_test_score</th>\n",
              "      <th>std_test_score</th>\n",
              "      <th>rank_test_score</th>\n",
              "    </tr>\n",
              "  </thead>\n",
              "  <tbody>\n",
              "    <tr>\n",
              "      <th>0</th>\n",
              "      <td>0.092776</td>\n",
              "      <td>0.037800</td>\n",
              "      <td>0.000000</td>\n",
              "      <td>0.000000</td>\n",
              "      <td>0.1</td>\n",
              "      <td>l1</td>\n",
              "      <td>{'C': 0.1, 'penalty': 'l1'}</td>\n",
              "      <td>NaN</td>\n",
              "      <td>NaN</td>\n",
              "      <td>NaN</td>\n",
              "      <td>NaN</td>\n",
              "      <td>NaN</td>\n",
              "      <td>NaN</td>\n",
              "      <td>NaN</td>\n",
              "      <td>9</td>\n",
              "    </tr>\n",
              "    <tr>\n",
              "      <th>1</th>\n",
              "      <td>3.584842</td>\n",
              "      <td>0.178232</td>\n",
              "      <td>0.053719</td>\n",
              "      <td>0.004763</td>\n",
              "      <td>0.1</td>\n",
              "      <td>l2</td>\n",
              "      <td>{'C': 0.1, 'penalty': 'l2'}</td>\n",
              "      <td>0.990813</td>\n",
              "      <td>0.991250</td>\n",
              "      <td>0.991257</td>\n",
              "      <td>0.990929</td>\n",
              "      <td>0.991056</td>\n",
              "      <td>0.991061</td>\n",
              "      <td>0.000175</td>\n",
              "      <td>8</td>\n",
              "    </tr>\n",
              "    <tr>\n",
              "      <th>2</th>\n",
              "      <td>0.057379</td>\n",
              "      <td>0.004929</td>\n",
              "      <td>0.000000</td>\n",
              "      <td>0.000000</td>\n",
              "      <td>0.5</td>\n",
              "      <td>l1</td>\n",
              "      <td>{'C': 0.5, 'penalty': 'l1'}</td>\n",
              "      <td>NaN</td>\n",
              "      <td>NaN</td>\n",
              "      <td>NaN</td>\n",
              "      <td>NaN</td>\n",
              "      <td>NaN</td>\n",
              "      <td>NaN</td>\n",
              "      <td>NaN</td>\n",
              "      <td>10</td>\n",
              "    </tr>\n",
              "    <tr>\n",
              "      <th>3</th>\n",
              "      <td>3.616212</td>\n",
              "      <td>0.168542</td>\n",
              "      <td>0.051120</td>\n",
              "      <td>0.001126</td>\n",
              "      <td>0.5</td>\n",
              "      <td>l2</td>\n",
              "      <td>{'C': 0.5, 'penalty': 'l2'}</td>\n",
              "      <td>0.990824</td>\n",
              "      <td>0.991261</td>\n",
              "      <td>0.991268</td>\n",
              "      <td>0.990937</td>\n",
              "      <td>0.991068</td>\n",
              "      <td>0.991072</td>\n",
              "      <td>0.000175</td>\n",
              "      <td>7</td>\n",
              "    </tr>\n",
              "    <tr>\n",
              "      <th>4</th>\n",
              "      <td>0.055649</td>\n",
              "      <td>0.001004</td>\n",
              "      <td>0.000000</td>\n",
              "      <td>0.000000</td>\n",
              "      <td>1</td>\n",
              "      <td>l1</td>\n",
              "      <td>{'C': 1, 'penalty': 'l1'}</td>\n",
              "      <td>NaN</td>\n",
              "      <td>NaN</td>\n",
              "      <td>NaN</td>\n",
              "      <td>NaN</td>\n",
              "      <td>NaN</td>\n",
              "      <td>NaN</td>\n",
              "      <td>NaN</td>\n",
              "      <td>11</td>\n",
              "    </tr>\n",
              "    <tr>\n",
              "      <th>5</th>\n",
              "      <td>3.454767</td>\n",
              "      <td>0.214203</td>\n",
              "      <td>0.050907</td>\n",
              "      <td>0.002215</td>\n",
              "      <td>1</td>\n",
              "      <td>l2</td>\n",
              "      <td>{'C': 1, 'penalty': 'l2'}</td>\n",
              "      <td>0.990825</td>\n",
              "      <td>0.991262</td>\n",
              "      <td>0.991269</td>\n",
              "      <td>0.990938</td>\n",
              "      <td>0.991070</td>\n",
              "      <td>0.991073</td>\n",
              "      <td>0.000175</td>\n",
              "      <td>6</td>\n",
              "    </tr>\n",
              "    <tr>\n",
              "      <th>6</th>\n",
              "      <td>0.059537</td>\n",
              "      <td>0.006061</td>\n",
              "      <td>0.000000</td>\n",
              "      <td>0.000000</td>\n",
              "      <td>2</td>\n",
              "      <td>l1</td>\n",
              "      <td>{'C': 2, 'penalty': 'l1'}</td>\n",
              "      <td>NaN</td>\n",
              "      <td>NaN</td>\n",
              "      <td>NaN</td>\n",
              "      <td>NaN</td>\n",
              "      <td>NaN</td>\n",
              "      <td>NaN</td>\n",
              "      <td>NaN</td>\n",
              "      <td>12</td>\n",
              "    </tr>\n",
              "    <tr>\n",
              "      <th>7</th>\n",
              "      <td>3.563242</td>\n",
              "      <td>0.091084</td>\n",
              "      <td>0.052392</td>\n",
              "      <td>0.003276</td>\n",
              "      <td>2</td>\n",
              "      <td>l2</td>\n",
              "      <td>{'C': 2, 'penalty': 'l2'}</td>\n",
              "      <td>0.990826</td>\n",
              "      <td>0.991263</td>\n",
              "      <td>0.991270</td>\n",
              "      <td>0.990938</td>\n",
              "      <td>0.991071</td>\n",
              "      <td>0.991074</td>\n",
              "      <td>0.000175</td>\n",
              "      <td>5</td>\n",
              "    </tr>\n",
              "    <tr>\n",
              "      <th>8</th>\n",
              "      <td>0.065266</td>\n",
              "      <td>0.002501</td>\n",
              "      <td>0.000000</td>\n",
              "      <td>0.000000</td>\n",
              "      <td>3</td>\n",
              "      <td>l1</td>\n",
              "      <td>{'C': 3, 'penalty': 'l1'}</td>\n",
              "      <td>NaN</td>\n",
              "      <td>NaN</td>\n",
              "      <td>NaN</td>\n",
              "      <td>NaN</td>\n",
              "      <td>NaN</td>\n",
              "      <td>NaN</td>\n",
              "      <td>NaN</td>\n",
              "      <td>13</td>\n",
              "    </tr>\n",
              "    <tr>\n",
              "      <th>9</th>\n",
              "      <td>3.506620</td>\n",
              "      <td>0.086127</td>\n",
              "      <td>0.051141</td>\n",
              "      <td>0.001005</td>\n",
              "      <td>3</td>\n",
              "      <td>l2</td>\n",
              "      <td>{'C': 3, 'penalty': 'l2'}</td>\n",
              "      <td>0.990826</td>\n",
              "      <td>0.991263</td>\n",
              "      <td>0.991270</td>\n",
              "      <td>0.990939</td>\n",
              "      <td>0.991071</td>\n",
              "      <td>0.991074</td>\n",
              "      <td>0.000175</td>\n",
              "      <td>4</td>\n",
              "    </tr>\n",
              "    <tr>\n",
              "      <th>10</th>\n",
              "      <td>0.056622</td>\n",
              "      <td>0.002792</td>\n",
              "      <td>0.000000</td>\n",
              "      <td>0.000000</td>\n",
              "      <td>4</td>\n",
              "      <td>l1</td>\n",
              "      <td>{'C': 4, 'penalty': 'l1'}</td>\n",
              "      <td>NaN</td>\n",
              "      <td>NaN</td>\n",
              "      <td>NaN</td>\n",
              "      <td>NaN</td>\n",
              "      <td>NaN</td>\n",
              "      <td>NaN</td>\n",
              "      <td>NaN</td>\n",
              "      <td>14</td>\n",
              "    </tr>\n",
              "    <tr>\n",
              "      <th>11</th>\n",
              "      <td>3.524068</td>\n",
              "      <td>0.124237</td>\n",
              "      <td>0.053546</td>\n",
              "      <td>0.005789</td>\n",
              "      <td>4</td>\n",
              "      <td>l2</td>\n",
              "      <td>{'C': 4, 'penalty': 'l2'}</td>\n",
              "      <td>0.990827</td>\n",
              "      <td>0.991263</td>\n",
              "      <td>0.991270</td>\n",
              "      <td>0.990939</td>\n",
              "      <td>0.991071</td>\n",
              "      <td>0.991074</td>\n",
              "      <td>0.000175</td>\n",
              "      <td>3</td>\n",
              "    </tr>\n",
              "    <tr>\n",
              "      <th>12</th>\n",
              "      <td>0.060476</td>\n",
              "      <td>0.005560</td>\n",
              "      <td>0.000000</td>\n",
              "      <td>0.000000</td>\n",
              "      <td>5</td>\n",
              "      <td>l1</td>\n",
              "      <td>{'C': 5, 'penalty': 'l1'}</td>\n",
              "      <td>NaN</td>\n",
              "      <td>NaN</td>\n",
              "      <td>NaN</td>\n",
              "      <td>NaN</td>\n",
              "      <td>NaN</td>\n",
              "      <td>NaN</td>\n",
              "      <td>NaN</td>\n",
              "      <td>15</td>\n",
              "    </tr>\n",
              "    <tr>\n",
              "      <th>13</th>\n",
              "      <td>3.477659</td>\n",
              "      <td>0.198296</td>\n",
              "      <td>0.049446</td>\n",
              "      <td>0.000830</td>\n",
              "      <td>5</td>\n",
              "      <td>l2</td>\n",
              "      <td>{'C': 5, 'penalty': 'l2'}</td>\n",
              "      <td>0.990827</td>\n",
              "      <td>0.991264</td>\n",
              "      <td>0.991270</td>\n",
              "      <td>0.990939</td>\n",
              "      <td>0.991071</td>\n",
              "      <td>0.991074</td>\n",
              "      <td>0.000176</td>\n",
              "      <td>2</td>\n",
              "    </tr>\n",
              "    <tr>\n",
              "      <th>14</th>\n",
              "      <td>0.058094</td>\n",
              "      <td>0.004217</td>\n",
              "      <td>0.000000</td>\n",
              "      <td>0.000000</td>\n",
              "      <td>10</td>\n",
              "      <td>l1</td>\n",
              "      <td>{'C': 10, 'penalty': 'l1'}</td>\n",
              "      <td>NaN</td>\n",
              "      <td>NaN</td>\n",
              "      <td>NaN</td>\n",
              "      <td>NaN</td>\n",
              "      <td>NaN</td>\n",
              "      <td>NaN</td>\n",
              "      <td>NaN</td>\n",
              "      <td>16</td>\n",
              "    </tr>\n",
              "    <tr>\n",
              "      <th>15</th>\n",
              "      <td>3.421934</td>\n",
              "      <td>0.232968</td>\n",
              "      <td>0.046296</td>\n",
              "      <td>0.006509</td>\n",
              "      <td>10</td>\n",
              "      <td>l2</td>\n",
              "      <td>{'C': 10, 'penalty': 'l2'}</td>\n",
              "      <td>0.990827</td>\n",
              "      <td>0.991264</td>\n",
              "      <td>0.991270</td>\n",
              "      <td>0.990939</td>\n",
              "      <td>0.991071</td>\n",
              "      <td>0.991074</td>\n",
              "      <td>0.000176</td>\n",
              "      <td>1</td>\n",
              "    </tr>\n",
              "  </tbody>\n",
              "</table>\n",
              "</div>"
            ],
            "text/plain": [
              "    mean_fit_time  std_fit_time  ...  std_test_score  rank_test_score\n",
              "0        0.092776      0.037800  ...             NaN                9\n",
              "1        3.584842      0.178232  ...        0.000175                8\n",
              "2        0.057379      0.004929  ...             NaN               10\n",
              "3        3.616212      0.168542  ...        0.000175                7\n",
              "4        0.055649      0.001004  ...             NaN               11\n",
              "5        3.454767      0.214203  ...        0.000175                6\n",
              "6        0.059537      0.006061  ...             NaN               12\n",
              "7        3.563242      0.091084  ...        0.000175                5\n",
              "8        0.065266      0.002501  ...             NaN               13\n",
              "9        3.506620      0.086127  ...        0.000175                4\n",
              "10       0.056622      0.002792  ...             NaN               14\n",
              "11       3.524068      0.124237  ...        0.000175                3\n",
              "12       0.060476      0.005560  ...             NaN               15\n",
              "13       3.477659      0.198296  ...        0.000176                2\n",
              "14       0.058094      0.004217  ...             NaN               16\n",
              "15       3.421934      0.232968  ...        0.000176                1\n",
              "\n",
              "[16 rows x 15 columns]"
            ]
          },
          "metadata": {
            "tags": []
          },
          "execution_count": 52
        }
      ]
    },
    {
      "cell_type": "code",
      "metadata": {
        "id": "JazEC9TGcGad",
        "colab_type": "code",
        "outputId": "ef3f430c-bc65-4373-ad5d-f72f3ad3f2cd",
        "colab": {
          "base_uri": "https://localhost:8080/",
          "height": 52
        }
      },
      "source": [
        "# print best hyperparameters\n",
        "print(\"Best AUC: \", model_smote.best_score_)\n",
        "print(\"Best hyperparameters: \", model_smote.best_params_)"
      ],
      "execution_count": 53,
      "outputs": [
        {
          "output_type": "stream",
          "text": [
            "Best AUC:  0.9910742107525289\n",
            "Best hyperparameters:  {'C': 10, 'penalty': 'l2'}\n"
          ],
          "name": "stdout"
        }
      ]
    },
    {
      "cell_type": "code",
      "metadata": {
        "id": "eIv1-QawcOi_",
        "colab_type": "code",
        "outputId": "f5234fc9-b17b-47bf-8aa6-ed7b527c2a9f",
        "colab": {
          "base_uri": "https://localhost:8080/",
          "height": 104
        }
      },
      "source": [
        "# predict churn on test data\n",
        "y_pred = model_smote.predict(X_test)\n",
        "\n",
        "# create onfusion matrix\n",
        "cm = confusion_matrix(y_test, y_pred)\n",
        "print(cm)\n",
        "\n",
        "# check sensitivity and specificity\n",
        "sensitivity, specificity, _ = sensitivity_specificity_support(y_test, y_pred, average='binary')\n",
        "print(\"Sensitivity: \\t\", round(sensitivity, 2), \"\\n\", \"Specificity: \\t\", round(specificity, 2), sep='')\n",
        "\n",
        "# check area under curve\n",
        "y_pred_prob = model_smote.predict_proba(X_test)[:, 1]\n",
        "print(\"AUC:    \\t\", round(roc_auc_score(y_test, y_pred_prob),2))"
      ],
      "execution_count": 54,
      "outputs": [
        {
          "output_type": "stream",
          "text": [
            "[[69149  1930]\n",
            " [   14   109]]\n",
            "Sensitivity: \t0.89\n",
            "Specificity: \t0.97\n",
            "AUC:    \t 0.97\n"
          ],
          "name": "stdout"
        }
      ]
    },
    {
      "cell_type": "markdown",
      "metadata": {
        "id": "E_jgRJ6_MX2N",
        "colab_type": "text"
      },
      "source": [
        "### Random Forest"
      ]
    },
    {
      "cell_type": "code",
      "metadata": {
        "id": "he-MU5FYcWOz",
        "colab_type": "code",
        "colab": {}
      },
      "source": [
        "# random forest\n",
        "forest = RandomForestClassifier(n_jobs = -1)\n",
        "\n",
        "# hyperparameter space\n",
        "params = {\"criterion\": ['gini', 'entropy'], \"max_features\": ['auto', 'sqrt']}\n",
        "\n",
        "# create 5 folds\n",
        "folds = StratifiedKFold(n_splits = 5, shuffle = True, random_state = 4)\n",
        "\n",
        "# create gridsearch object\n",
        "rf_model_smote = GridSearchCV(estimator=forest, cv=folds, param_grid=params, scoring='roc_auc', n_jobs=-1, verbose=1)"
      ],
      "execution_count": 0,
      "outputs": []
    },
    {
      "cell_type": "code",
      "metadata": {
        "id": "X6-2o-lJdXav",
        "colab_type": "code",
        "outputId": "cc143579-f3c8-40e3-eda1-746433f3ff05",
        "colab": {
          "base_uri": "https://localhost:8080/",
          "height": 451
        }
      },
      "source": [
        "# fit model\n",
        "rf_model_smote.fit(X_train_smote, y_train_smote)"
      ],
      "execution_count": 56,
      "outputs": [
        {
          "output_type": "stream",
          "text": [
            "Fitting 5 folds for each of 4 candidates, totalling 20 fits\n"
          ],
          "name": "stdout"
        },
        {
          "output_type": "stream",
          "text": [
            "[Parallel(n_jobs=-1)]: Using backend LokyBackend with 2 concurrent workers.\n",
            "[Parallel(n_jobs=-1)]: Done  20 out of  20 | elapsed: 77.7min finished\n"
          ],
          "name": "stderr"
        },
        {
          "output_type": "execute_result",
          "data": {
            "text/plain": [
              "GridSearchCV(cv=StratifiedKFold(n_splits=5, random_state=4, shuffle=True),\n",
              "             error_score=nan,\n",
              "             estimator=RandomForestClassifier(bootstrap=True, ccp_alpha=0.0,\n",
              "                                              class_weight=None,\n",
              "                                              criterion='gini', max_depth=None,\n",
              "                                              max_features='auto',\n",
              "                                              max_leaf_nodes=None,\n",
              "                                              max_samples=None,\n",
              "                                              min_impurity_decrease=0.0,\n",
              "                                              min_impurity_split=None,\n",
              "                                              min_samples_leaf=1,\n",
              "                                              min_samples_split=2,\n",
              "                                              min_weight_fraction_leaf=0.0,\n",
              "                                              n_estimators=100, n_jobs=-1,\n",
              "                                              oob_score=False,\n",
              "                                              random_state=None, verbose=0,\n",
              "                                              warm_start=False),\n",
              "             iid='deprecated', n_jobs=-1,\n",
              "             param_grid={'criterion': ['gini', 'entropy'],\n",
              "                         'max_features': ['auto', 'sqrt']},\n",
              "             pre_dispatch='2*n_jobs', refit=True, return_train_score=False,\n",
              "             scoring='roc_auc', verbose=1)"
            ]
          },
          "metadata": {
            "tags": []
          },
          "execution_count": 56
        }
      ]
    },
    {
      "cell_type": "code",
      "metadata": {
        "id": "Yt1fsYrBdgph",
        "colab_type": "code",
        "outputId": "daa65e3c-99e6-4afe-821e-400a01cc6dc2",
        "colab": {
          "base_uri": "https://localhost:8080/",
          "height": 52
        }
      },
      "source": [
        "# print best hyperparameters\n",
        "print(\"Best AUC: \", rf_model_smote.best_score_)\n",
        "print(\"Best hyperparameters: \", rf_model_smote.best_params_)"
      ],
      "execution_count": 57,
      "outputs": [
        {
          "output_type": "stream",
          "text": [
            "Best AUC:  0.9999993050829781\n",
            "Best hyperparameters:  {'criterion': 'entropy', 'max_features': 'sqrt'}\n"
          ],
          "name": "stdout"
        }
      ]
    },
    {
      "cell_type": "code",
      "metadata": {
        "id": "lg4y66sBdslF",
        "colab_type": "code",
        "outputId": "117a8fad-0d5f-4f50-a0de-133198c63bc9",
        "colab": {
          "base_uri": "https://localhost:8080/",
          "height": 35
        }
      },
      "source": [
        "rf_model_smote.score(X_train_smote,y_train_smote)"
      ],
      "execution_count": 58,
      "outputs": [
        {
          "output_type": "execute_result",
          "data": {
            "text/plain": [
              "1.0"
            ]
          },
          "metadata": {
            "tags": []
          },
          "execution_count": 58
        }
      ]
    },
    {
      "cell_type": "code",
      "metadata": {
        "id": "Usi9bhRkd3o3",
        "colab_type": "code",
        "outputId": "14ea4321-ed87-4d58-fcee-282d169dc85f",
        "colab": {
          "base_uri": "https://localhost:8080/",
          "height": 104
        }
      },
      "source": [
        "# predict churn on test data\n",
        "y_test_pred = rf_model_smote.predict(X_test)\n",
        "\n",
        "# create onfusion matrix\n",
        "cm = confusion_matrix(y_test, y_test_pred)\n",
        "print(cm)\n",
        "\n",
        "# check sensitivity and specificity\n",
        "sensitivity, specificity, _ = sensitivity_specificity_support(y_test, y_test_pred, average='binary')\n",
        "print(\"Sensitivity: \\t\", round(sensitivity, 2), \"\\n\", \"Specificity: \\t\", round(specificity, 2), sep='')\n",
        "\n",
        "# check area under curve\n",
        "y_pred_prob = rf_model_smote.predict_proba(X_test)[:, 1]\n",
        "print(\"AUC:    \\t\", round(roc_auc_score(y_test, y_pred_prob),2))"
      ],
      "execution_count": 59,
      "outputs": [
        {
          "output_type": "stream",
          "text": [
            "[[71065    14]\n",
            " [   22   101]]\n",
            "Sensitivity: \t0.82\n",
            "Specificity: \t1.0\n",
            "AUC:    \t 0.98\n"
          ],
          "name": "stdout"
        }
      ]
    },
    {
      "cell_type": "markdown",
      "metadata": {
        "id": "tUq8dS1zMiKS",
        "colab_type": "text"
      },
      "source": [
        "### XGBoost"
      ]
    },
    {
      "cell_type": "code",
      "metadata": {
        "id": "7nxuLyT3vmpc",
        "colab_type": "code",
        "outputId": "9a38d0df-c229-440b-8fa8-9c6a12da0889",
        "colab": {
          "base_uri": "https://localhost:8080/",
          "height": 299
        }
      },
      "source": [
        "tree_range = range(80, 120, 10)\n",
        "score1=[]\n",
        "score2=[]\n",
        "for tree in tree_range:\n",
        "    xgb=XGBClassifier(n_estimators=tree)\n",
        "    xgb.fit(X_train_smote,y_train_smote)\n",
        "    y_pred_prob = xgb.predict_proba(X_train_smote)[:, 1]\n",
        "    score1.append(roc_auc_score(y_train_smote, y_pred_prob))\n",
        "    y_pred_prob1 = xgb.predict_proba(X_test)[:, 1]\n",
        "    score2.append(roc_auc_score(y_test, y_pred_prob1))\n",
        "    \n",
        "%matplotlib inline\n",
        "plt.plot(tree_range,score1,label= 'AUC Scroe on training set')\n",
        "plt.plot(tree_range,score2,label= 'AUC Score on testing set')\n",
        "plt.xlabel('Value of number of trees in XGboost')\n",
        "plt.ylabel('AUC Score')\n",
        "plt.legend()"
      ],
      "execution_count": 60,
      "outputs": [
        {
          "output_type": "execute_result",
          "data": {
            "text/plain": [
              "<matplotlib.legend.Legend at 0x7f7df0634320>"
            ]
          },
          "metadata": {
            "tags": []
          },
          "execution_count": 60
        },
        {
          "output_type": "display_data",
          "data": {
            "image/png": "[encoded data removed]",
            "text/plain": [
              "<Figure size 432x288 with 1 Axes>"
            ]
          },
          "metadata": {
            "tags": [],
            "needs_background": "light"
          }
        }
      ]
    },
    {
      "cell_type": "code",
      "metadata": {
        "id": "qxUT7FCxwHLt",
        "colab_type": "code",
        "outputId": "bab5e7ec-fcc2-48ba-f0e6-a3d3799fa36b",
        "colab": {
          "base_uri": "https://localhost:8080/",
          "height": 104
        }
      },
      "source": [
        "xgb = XGBClassifier(n_estimators=100,random_state=4,)\n",
        "xgb.fit(X_train_smote, y_train_smote)\n",
        "# predict churn on test data\n",
        "y_test_pred = xgb.predict(X_test)\n",
        "\n",
        "# create onfusion matrix\n",
        "cm = confusion_matrix(y_test, y_test_pred)\n",
        "print(cm)\n",
        "\n",
        "# check sensitivity and specificity\n",
        "sensitivity, specificity, _ = sensitivity_specificity_support(y_test, y_test_pred, average='binary')\n",
        "print(\"Sensitivity: \\t\", round(sensitivity, 2), \"\\n\", \"Specificity: \\t\", round(specificity, 2), sep='')\n",
        "\n",
        "# check area under curve\n",
        "y_pred_prob = xgb.predict_proba(X_test)[:, 1]\n",
        "print(\"AUC:    \\t\", round(roc_auc_score(y_test, y_pred_prob),2))"
      ],
      "execution_count": 61,
      "outputs": [
        {
          "output_type": "stream",
          "text": [
            "[[70234   845]\n",
            " [   15   108]]\n",
            "Sensitivity: \t0.88\n",
            "Specificity: \t0.99\n",
            "AUC:    \t 0.98\n"
          ],
          "name": "stdout"
        }
      ]
    },
    {
      "cell_type": "markdown",
      "metadata": {
        "id": "aJ5-aOejMtb3",
        "colab_type": "text"
      },
      "source": [
        "XGBoost and Logistic regression have Sensitivity of 0.88 and 0.89 respectively but XGBoost might perform better due to slightly high AUC Score and higher Specificity"
      ]
    },
    {
      "cell_type": "markdown",
      "metadata": {
        "id": "s9WhqxpuMoF_",
        "colab_type": "text"
      },
      "source": [
        "## Adasyn Oversampling"
      ]
    },
    {
      "cell_type": "code",
      "metadata": {
        "id": "PGP8Prqd1Q3T",
        "colab_type": "code",
        "outputId": "885a103b-7f50-40c0-f547-e95abb69fef6",
        "colab": {
          "base_uri": "https://localhost:8080/",
          "height": 1000
        }
      },
      "source": [
        "ada = over_sampling.ADASYN(random_state=0)\n",
        "X_train_adasyn, y_train_adasyn = ada.fit_resample(X_train, y_train)\n",
        "# Artificial minority samples and corresponding minority labels from ADASYN are appended\n",
        "# below X_train and y_train respectively\n",
        "# So to exclusively get the artificial minority samples from ADASYN, we do\n",
        "X_train_adasyn_1 = X_train_adasyn[X_train.shape[0]:]\n",
        "\n",
        "X_train_1 = X_train.to_numpy()[np.where(y_train==1.0)]\n",
        "X_train_0 = X_train.to_numpy()[np.where(y_train==0.0)]\n",
        "\n",
        "\n",
        "\n",
        "import matplotlib.pyplot as plt\n",
        "%matplotlib inline\n",
        "plt.rcParams['figure.figsize'] = [20, 20]\n",
        "fig = plt.figure()\n",
        "\n",
        "plt.subplot(3, 1, 1)\n",
        "plt.scatter(X_train_1[:, 0], X_train_1[:, 1], label='Actual Class-1 Examples')\n",
        "plt.legend()\n",
        "\n",
        "plt.subplot(3, 1, 2)\n",
        "plt.scatter(X_train_1[:, 0], X_train_1[:, 1], label='Actual Class-1 Examples')\n",
        "plt.scatter(X_train_adasyn_1[:X_train_1.shape[0], 0], X_train_adasyn_1[:X_train_1.shape[0], 1],\n",
        "            label='Artificial ADASYN Class-1 Examples')\n",
        "plt.legend()\n",
        "\n",
        "plt.subplot(3, 1, 3)\n",
        "plt.scatter(X_train_1[:, 0], X_train_1[:, 1], label='Actual Class-1 Examples')\n",
        "plt.scatter(X_train_0[:X_train_1.shape[0], 0], X_train_0[:X_train_1.shape[0], 1], label='Actual Class-0 Examples')\n",
        "plt.legend()"
      ],
      "execution_count": 62,
      "outputs": [
        {
          "output_type": "execute_result",
          "data": {
            "text/plain": [
              "<matplotlib.legend.Legend at 0x7f7dddb17b00>"
            ]
          },
          "metadata": {
            "tags": []
          },
          "execution_count": 62
        },
        {
          "output_type": "display_data",
          "data": {
            "image/png": "[encoded data removed]",
            "text/plain": [
              "<Figure size 1440x1440 with 3 Axes>"
            ]
          },
          "metadata": {
            "tags": [],
            "needs_background": "light"
          }
        }
      ]
    },
    {
      "cell_type": "code",
      "metadata": {
        "id": "vAlfYsuv2gm2",
        "colab_type": "code",
        "outputId": "7b9d681c-561a-4f90-fb94-093064b3887a",
        "colab": {
          "base_uri": "https://localhost:8080/",
          "height": 222
        }
      },
      "source": [
        "X_train_adasyn = pd.DataFrame(data=X_train_adasyn,columns=cols)\n",
        "X_train_adasyn.head()"
      ],
      "execution_count": 63,
      "outputs": [
        {
          "output_type": "execute_result",
          "data": {
            "text/html": [
              "<div>\n",
              "<style scoped>\n",
              "    .dataframe tbody tr th:only-of-type {\n",
              "        vertical-align: middle;\n",
              "    }\n",
              "\n",
              "    .dataframe tbody tr th {\n",
              "        vertical-align: top;\n",
              "    }\n",
              "\n",
              "    .dataframe thead th {\n",
              "        text-align: right;\n",
              "    }\n",
              "</style>\n",
              "<table border=\"1\" class=\"dataframe\">\n",
              "  <thead>\n",
              "    <tr style=\"text-align: right;\">\n",
              "      <th></th>\n",
              "      <th>V1</th>\n",
              "      <th>V2</th>\n",
              "      <th>V3</th>\n",
              "      <th>V4</th>\n",
              "      <th>V5</th>\n",
              "      <th>V6</th>\n",
              "      <th>V7</th>\n",
              "      <th>V8</th>\n",
              "      <th>V9</th>\n",
              "      <th>V10</th>\n",
              "      <th>V11</th>\n",
              "      <th>V12</th>\n",
              "      <th>V13</th>\n",
              "      <th>V14</th>\n",
              "      <th>V15</th>\n",
              "      <th>V16</th>\n",
              "      <th>V17</th>\n",
              "      <th>V18</th>\n",
              "      <th>V19</th>\n",
              "      <th>V20</th>\n",
              "      <th>V21</th>\n",
              "      <th>V22</th>\n",
              "      <th>V23</th>\n",
              "      <th>V24</th>\n",
              "      <th>V25</th>\n",
              "      <th>V26</th>\n",
              "      <th>V27</th>\n",
              "      <th>V28</th>\n",
              "      <th>Amount</th>\n",
              "    </tr>\n",
              "  </thead>\n",
              "  <tbody>\n",
              "    <tr>\n",
              "      <th>0</th>\n",
              "      <td>-0.687702</td>\n",
              "      <td>-0.410906</td>\n",
              "      <td>1.340853</td>\n",
              "      <td>-0.535376</td>\n",
              "      <td>-0.158568</td>\n",
              "      <td>0.047998</td>\n",
              "      <td>0.046655</td>\n",
              "      <td>0.194627</td>\n",
              "      <td>0.519610</td>\n",
              "      <td>-0.844992</td>\n",
              "      <td>0.365821</td>\n",
              "      <td>1.253679</td>\n",
              "      <td>0.093466</td>\n",
              "      <td>-0.605382</td>\n",
              "      <td>-1.798904</td>\n",
              "      <td>0.328792</td>\n",
              "      <td>-0.677411</td>\n",
              "      <td>0.091354</td>\n",
              "      <td>0.302364</td>\n",
              "      <td>0.307821</td>\n",
              "      <td>0.084485</td>\n",
              "      <td>-0.003745</td>\n",
              "      <td>0.566883</td>\n",
              "      <td>0.007716</td>\n",
              "      <td>-1.615275</td>\n",
              "      <td>1.317653</td>\n",
              "      <td>0.171370</td>\n",
              "      <td>0.583799</td>\n",
              "      <td>0.947209</td>\n",
              "    </tr>\n",
              "    <tr>\n",
              "      <th>1</th>\n",
              "      <td>-1.689222</td>\n",
              "      <td>-0.601552</td>\n",
              "      <td>-0.451193</td>\n",
              "      <td>-1.909394</td>\n",
              "      <td>-0.305639</td>\n",
              "      <td>0.023485</td>\n",
              "      <td>0.100674</td>\n",
              "      <td>0.514401</td>\n",
              "      <td>0.889301</td>\n",
              "      <td>-1.047354</td>\n",
              "      <td>0.025000</td>\n",
              "      <td>0.452034</td>\n",
              "      <td>-0.349679</td>\n",
              "      <td>0.286859</td>\n",
              "      <td>-0.256908</td>\n",
              "      <td>1.823284</td>\n",
              "      <td>-1.448387</td>\n",
              "      <td>1.037600</td>\n",
              "      <td>-0.550023</td>\n",
              "      <td>-2.009915</td>\n",
              "      <td>0.054733</td>\n",
              "      <td>0.857166</td>\n",
              "      <td>-0.078661</td>\n",
              "      <td>0.440860</td>\n",
              "      <td>0.277125</td>\n",
              "      <td>0.824740</td>\n",
              "      <td>-2.090911</td>\n",
              "      <td>0.510031</td>\n",
              "      <td>1.077585</td>\n",
              "    </tr>\n",
              "    <tr>\n",
              "      <th>2</th>\n",
              "      <td>-1.149351</td>\n",
              "      <td>1.081675</td>\n",
              "      <td>-0.506056</td>\n",
              "      <td>-1.148611</td>\n",
              "      <td>1.444199</td>\n",
              "      <td>-0.217205</td>\n",
              "      <td>-0.888387</td>\n",
              "      <td>-3.091323</td>\n",
              "      <td>0.685837</td>\n",
              "      <td>-1.409289</td>\n",
              "      <td>-1.656431</td>\n",
              "      <td>0.340880</td>\n",
              "      <td>0.330040</td>\n",
              "      <td>-1.578367</td>\n",
              "      <td>-1.255450</td>\n",
              "      <td>0.745791</td>\n",
              "      <td>0.686069</td>\n",
              "      <td>0.132242</td>\n",
              "      <td>-1.152599</td>\n",
              "      <td>-1.729068</td>\n",
              "      <td>4.437504</td>\n",
              "      <td>-2.826511</td>\n",
              "      <td>-3.449780</td>\n",
              "      <td>-1.665558</td>\n",
              "      <td>-0.479489</td>\n",
              "      <td>-0.436747</td>\n",
              "      <td>1.369812</td>\n",
              "      <td>0.582531</td>\n",
              "      <td>1.044909</td>\n",
              "    </tr>\n",
              "    <tr>\n",
              "      <th>3</th>\n",
              "      <td>0.791358</td>\n",
              "      <td>-0.358179</td>\n",
              "      <td>0.342831</td>\n",
              "      <td>-0.099205</td>\n",
              "      <td>-0.731132</td>\n",
              "      <td>-0.550441</td>\n",
              "      <td>-0.482563</td>\n",
              "      <td>-0.339151</td>\n",
              "      <td>0.733062</td>\n",
              "      <td>0.136986</td>\n",
              "      <td>0.455729</td>\n",
              "      <td>-2.117097</td>\n",
              "      <td>2.096262</td>\n",
              "      <td>0.970812</td>\n",
              "      <td>-1.349902</td>\n",
              "      <td>0.579259</td>\n",
              "      <td>1.763422</td>\n",
              "      <td>-1.796201</td>\n",
              "      <td>0.900026</td>\n",
              "      <td>0.062924</td>\n",
              "      <td>-0.207341</td>\n",
              "      <td>-0.192957</td>\n",
              "      <td>-0.070985</td>\n",
              "      <td>0.548574</td>\n",
              "      <td>1.063177</td>\n",
              "      <td>-0.548631</td>\n",
              "      <td>-0.040711</td>\n",
              "      <td>0.038545</td>\n",
              "      <td>-0.029545</td>\n",
              "    </tr>\n",
              "    <tr>\n",
              "      <th>4</th>\n",
              "      <td>-0.461845</td>\n",
              "      <td>0.686866</td>\n",
              "      <td>0.862753</td>\n",
              "      <td>0.664698</td>\n",
              "      <td>0.090544</td>\n",
              "      <td>-0.621574</td>\n",
              "      <td>0.602844</td>\n",
              "      <td>-0.175412</td>\n",
              "      <td>-0.415029</td>\n",
              "      <td>0.033079</td>\n",
              "      <td>-0.526362</td>\n",
              "      <td>-0.456287</td>\n",
              "      <td>-0.247631</td>\n",
              "      <td>0.338916</td>\n",
              "      <td>1.184020</td>\n",
              "      <td>-0.438487</td>\n",
              "      <td>-0.247423</td>\n",
              "      <td>0.148182</td>\n",
              "      <td>0.502918</td>\n",
              "      <td>0.182442</td>\n",
              "      <td>0.172998</td>\n",
              "      <td>0.625350</td>\n",
              "      <td>-0.237534</td>\n",
              "      <td>0.602729</td>\n",
              "      <td>-0.415921</td>\n",
              "      <td>-0.623910</td>\n",
              "      <td>1.031131</td>\n",
              "      <td>0.706450</td>\n",
              "      <td>-0.482898</td>\n",
              "    </tr>\n",
              "  </tbody>\n",
              "</table>\n",
              "</div>"
            ],
            "text/plain": [
              "         V1        V2        V3  ...       V27       V28    Amount\n",
              "0 -0.687702 -0.410906  1.340853  ...  0.171370  0.583799  0.947209\n",
              "1 -1.689222 -0.601552 -0.451193  ... -2.090911  0.510031  1.077585\n",
              "2 -1.149351  1.081675 -0.506056  ...  1.369812  0.582531  1.044909\n",
              "3  0.791358 -0.358179  0.342831  ... -0.040711  0.038545 -0.029545\n",
              "4 -0.461845  0.686866  0.862753  ...  1.031131  0.706450 -0.482898\n",
              "\n",
              "[5 rows x 29 columns]"
            ]
          },
          "metadata": {
            "tags": []
          },
          "execution_count": 63
        }
      ]
    },
    {
      "cell_type": "code",
      "metadata": {
        "id": "NM-F6RQr3H6r",
        "colab_type": "code",
        "colab": {
          "base_uri": "https://localhost:8080/",
          "height": 202
        },
        "outputId": "607af612-606b-4179-d3e9-5ea25e6faeba"
      },
      "source": [
        "y_train_adasyn = pd.DataFrame(data=y_train_adasyn,columns=['Class'])\n",
        "y_train_adasyn.head()"
      ],
      "execution_count": 64,
      "outputs": [
        {
          "output_type": "execute_result",
          "data": {
            "text/html": [
              "<div>\n",
              "<style scoped>\n",
              "    .dataframe tbody tr th:only-of-type {\n",
              "        vertical-align: middle;\n",
              "    }\n",
              "\n",
              "    .dataframe tbody tr th {\n",
              "        vertical-align: top;\n",
              "    }\n",
              "\n",
              "    .dataframe thead th {\n",
              "        text-align: right;\n",
              "    }\n",
              "</style>\n",
              "<table border=\"1\" class=\"dataframe\">\n",
              "  <thead>\n",
              "    <tr style=\"text-align: right;\">\n",
              "      <th></th>\n",
              "      <th>Class</th>\n",
              "    </tr>\n",
              "  </thead>\n",
              "  <tbody>\n",
              "    <tr>\n",
              "      <th>0</th>\n",
              "      <td>0</td>\n",
              "    </tr>\n",
              "    <tr>\n",
              "      <th>1</th>\n",
              "      <td>0</td>\n",
              "    </tr>\n",
              "    <tr>\n",
              "      <th>2</th>\n",
              "      <td>0</td>\n",
              "    </tr>\n",
              "    <tr>\n",
              "      <th>3</th>\n",
              "      <td>0</td>\n",
              "    </tr>\n",
              "    <tr>\n",
              "      <th>4</th>\n",
              "      <td>0</td>\n",
              "    </tr>\n",
              "  </tbody>\n",
              "</table>\n",
              "</div>"
            ],
            "text/plain": [
              "   Class\n",
              "0      0\n",
              "1      0\n",
              "2      0\n",
              "3      0\n",
              "4      0"
            ]
          },
          "metadata": {
            "tags": []
          },
          "execution_count": 64
        }
      ]
    },
    {
      "cell_type": "code",
      "metadata": {
        "id": "w9Tx1fEB2_zx",
        "colab_type": "code",
        "colab": {
          "base_uri": "https://localhost:8080/",
          "height": 69
        },
        "outputId": "bc23daf6-70f4-4290-fa31-62ea68192f70"
      },
      "source": [
        "y_train_adasyn.Class.value_counts()"
      ],
      "execution_count": 65,
      "outputs": [
        {
          "output_type": "execute_result",
          "data": {
            "text/plain": [
              "1    213245\n",
              "0    213236\n",
              "Name: Class, dtype: int64"
            ]
          },
          "metadata": {
            "tags": []
          },
          "execution_count": 65
        }
      ]
    },
    {
      "cell_type": "markdown",
      "metadata": {
        "id": "HdORrZcvNYs3",
        "colab_type": "text"
      },
      "source": [
        "ADASYN oversampled data around a specific region where there was low density of class 1"
      ]
    },
    {
      "cell_type": "markdown",
      "metadata": {
        "id": "o5CINWMBNNuE",
        "colab_type": "text"
      },
      "source": [
        "## Model Building on ADASYN oversampled Data"
      ]
    },
    {
      "cell_type": "markdown",
      "metadata": {
        "id": "-8JoR0VJNsmC",
        "colab_type": "text"
      },
      "source": [
        "### Logistic Regression"
      ]
    },
    {
      "cell_type": "code",
      "metadata": {
        "id": "lGEftVDg4W_2",
        "colab_type": "code",
        "colab": {
          "base_uri": "https://localhost:8080/",
          "height": 104
        },
        "outputId": "4c59f04b-67a5-4199-e85c-a87de21fa967"
      },
      "source": [
        "#fitting the linear Regression model\n",
        "lr_adasyn = LogisticRegression(random_state = 42)\n",
        "lr_adasyn.fit(X_train_adasyn,y_train_adasyn)"
      ],
      "execution_count": 66,
      "outputs": [
        {
          "output_type": "execute_result",
          "data": {
            "text/plain": [
              "LogisticRegression(C=1.0, class_weight=None, dual=False, fit_intercept=True,\n",
              "                   intercept_scaling=1, l1_ratio=None, max_iter=100,\n",
              "                   multi_class='auto', n_jobs=None, penalty='l2',\n",
              "                   random_state=42, solver='lbfgs', tol=0.0001, verbose=0,\n",
              "                   warm_start=False)"
            ]
          },
          "metadata": {
            "tags": []
          },
          "execution_count": 66
        }
      ]
    },
    {
      "cell_type": "code",
      "metadata": {
        "id": "gUSMfALn43qR",
        "colab_type": "code",
        "colab": {
          "base_uri": "https://localhost:8080/",
          "height": 35
        },
        "outputId": "4a84fba1-1ed9-499b-8406-8c62b7fd78ac"
      },
      "source": [
        "#accuracy score of linear regression model\n",
        "lr_adasyn.score(X_train_adasyn,y_train_adasyn)"
      ],
      "execution_count": 67,
      "outputs": [
        {
          "output_type": "execute_result",
          "data": {
            "text/plain": [
              "0.9051329367545096"
            ]
          },
          "metadata": {
            "tags": []
          },
          "execution_count": 67
        }
      ]
    },
    {
      "cell_type": "code",
      "metadata": {
        "id": "pTeCSYXw47f1",
        "colab_type": "code",
        "colab": {
          "base_uri": "https://localhost:8080/",
          "height": 104
        },
        "outputId": "a923980a-74b4-435b-a01d-71a5b9759d69"
      },
      "source": [
        "# predict churn on test data\n",
        "y_pred = lr_adasyn.predict(X_test)\n",
        "\n",
        "# create onfusion matrix\n",
        "cm = confusion_matrix(y_test, y_pred)\n",
        "print(cm)\n",
        "\n",
        "# check sensitivity and specificity\n",
        "sensitivity, specificity, _ = sensitivity_specificity_support(y_test, y_pred, average='binary')\n",
        "print(\"Sensitivity: \\t\", round(sensitivity, 2), \"\\n\", \"Specificity: \\t\", round(specificity, 2), sep='')\n",
        "\n",
        "# check area under curve\n",
        "y_pred_prob = lr_adasyn.predict_proba(X_test)[:, 1]\n",
        "print(\"AUC:    \\t\", round(roc_auc_score(y_test, y_pred_prob),2))"
      ],
      "execution_count": 68,
      "outputs": [
        {
          "output_type": "stream",
          "text": [
            "[[65153  5926]\n",
            " [   11   112]]\n",
            "Sensitivity: \t0.91\n",
            "Specificity: \t0.92\n",
            "AUC:    \t 0.97\n"
          ],
          "name": "stdout"
        }
      ]
    },
    {
      "cell_type": "code",
      "metadata": {
        "id": "4RDANXEX5YMt",
        "colab_type": "code",
        "colab": {}
      },
      "source": [
        "# logistic regression - the class weight is used to handle class imbalance - it adjusts the cost function\n",
        "logistic = LogisticRegression()\n",
        "\n",
        "# hyperparameter space\n",
        "params = {'C': [0.1, 0.5, 1, 2, 3, 4, 5, 10], 'penalty': ['l1', 'l2']}\n",
        "\n",
        "# create 5 folds\n",
        "folds = StratifiedKFold(n_splits = 5, shuffle = True, random_state = 42)\n",
        "\n",
        "# create gridsearch object\n",
        "model_adasyn = GridSearchCV(estimator=logistic, cv=folds, param_grid=params, scoring='roc_auc', n_jobs=-1, verbose=1)"
      ],
      "execution_count": 0,
      "outputs": []
    },
    {
      "cell_type": "code",
      "metadata": {
        "id": "cVE-MM4H5e1L",
        "colab_type": "code",
        "colab": {
          "base_uri": "https://localhost:8080/",
          "height": 347
        },
        "outputId": "fcaa9735-69cb-4339-bcf0-fcc591fab11b"
      },
      "source": [
        "# fit model\n",
        "model_adasyn.fit(X_train_adasyn, y_train_adasyn)"
      ],
      "execution_count": 70,
      "outputs": [
        {
          "output_type": "stream",
          "text": [
            "Fitting 5 folds for each of 16 candidates, totalling 80 fits\n"
          ],
          "name": "stdout"
        },
        {
          "output_type": "stream",
          "text": [
            "[Parallel(n_jobs=-1)]: Using backend LokyBackend with 2 concurrent workers.\n",
            "[Parallel(n_jobs=-1)]: Done  46 tasks      | elapsed:   41.2s\n",
            "[Parallel(n_jobs=-1)]: Done  80 out of  80 | elapsed:  1.2min finished\n"
          ],
          "name": "stderr"
        },
        {
          "output_type": "execute_result",
          "data": {
            "text/plain": [
              "GridSearchCV(cv=StratifiedKFold(n_splits=5, random_state=42, shuffle=True),\n",
              "             error_score=nan,\n",
              "             estimator=LogisticRegression(C=1.0, class_weight=None, dual=False,\n",
              "                                          fit_intercept=True,\n",
              "                                          intercept_scaling=1, l1_ratio=None,\n",
              "                                          max_iter=100, multi_class='auto',\n",
              "                                          n_jobs=None, penalty='l2',\n",
              "                                          random_state=None, solver='lbfgs',\n",
              "                                          tol=0.0001, verbose=0,\n",
              "                                          warm_start=False),\n",
              "             iid='deprecated', n_jobs=-1,\n",
              "             param_grid={'C': [0.1, 0.5, 1, 2, 3, 4, 5, 10],\n",
              "                         'penalty': ['l1', 'l2']},\n",
              "             pre_dispatch='2*n_jobs', refit=True, return_train_score=False,\n",
              "             scoring='roc_auc', verbose=1)"
            ]
          },
          "metadata": {
            "tags": []
          },
          "execution_count": 70
        }
      ]
    },
    {
      "cell_type": "code",
      "metadata": {
        "id": "gmtRq5115mj3",
        "colab_type": "code",
        "colab": {
          "base_uri": "https://localhost:8080/",
          "height": 1000
        },
        "outputId": "c7efed34-500b-43f9-9697-f1cdc7bf5a2b"
      },
      "source": [
        "# cross validation results\n",
        "pd.DataFrame(model_adasyn.cv_results_)"
      ],
      "execution_count": 71,
      "outputs": [
        {
          "output_type": "execute_result",
          "data": {
            "text/html": [
              "<div>\n",
              "<style scoped>\n",
              "    .dataframe tbody tr th:only-of-type {\n",
              "        vertical-align: middle;\n",
              "    }\n",
              "\n",
              "    .dataframe tbody tr th {\n",
              "        vertical-align: top;\n",
              "    }\n",
              "\n",
              "    .dataframe thead th {\n",
              "        text-align: right;\n",
              "    }\n",
              "</style>\n",
              "<table border=\"1\" class=\"dataframe\">\n",
              "  <thead>\n",
              "    <tr style=\"text-align: right;\">\n",
              "      <th></th>\n",
              "      <th>mean_fit_time</th>\n",
              "      <th>std_fit_time</th>\n",
              "      <th>mean_score_time</th>\n",
              "      <th>std_score_time</th>\n",
              "      <th>param_C</th>\n",
              "      <th>param_penalty</th>\n",
              "      <th>params</th>\n",
              "      <th>split0_test_score</th>\n",
              "      <th>split1_test_score</th>\n",
              "      <th>split2_test_score</th>\n",
              "      <th>split3_test_score</th>\n",
              "      <th>split4_test_score</th>\n",
              "      <th>mean_test_score</th>\n",
              "      <th>std_test_score</th>\n",
              "      <th>rank_test_score</th>\n",
              "    </tr>\n",
              "  </thead>\n",
              "  <tbody>\n",
              "    <tr>\n",
              "      <th>0</th>\n",
              "      <td>0.086138</td>\n",
              "      <td>0.029157</td>\n",
              "      <td>0.000000</td>\n",
              "      <td>0.000000</td>\n",
              "      <td>0.1</td>\n",
              "      <td>l1</td>\n",
              "      <td>{'C': 0.1, 'penalty': 'l1'}</td>\n",
              "      <td>NaN</td>\n",
              "      <td>NaN</td>\n",
              "      <td>NaN</td>\n",
              "      <td>NaN</td>\n",
              "      <td>NaN</td>\n",
              "      <td>NaN</td>\n",
              "      <td>NaN</td>\n",
              "      <td>9</td>\n",
              "    </tr>\n",
              "    <tr>\n",
              "      <th>1</th>\n",
              "      <td>3.432916</td>\n",
              "      <td>0.246567</td>\n",
              "      <td>0.050836</td>\n",
              "      <td>0.001012</td>\n",
              "      <td>0.1</td>\n",
              "      <td>l2</td>\n",
              "      <td>{'C': 0.1, 'penalty': 'l2'}</td>\n",
              "      <td>0.968795</td>\n",
              "      <td>0.968235</td>\n",
              "      <td>0.968597</td>\n",
              "      <td>0.969306</td>\n",
              "      <td>0.968084</td>\n",
              "      <td>0.968603</td>\n",
              "      <td>0.000433</td>\n",
              "      <td>8</td>\n",
              "    </tr>\n",
              "    <tr>\n",
              "      <th>2</th>\n",
              "      <td>0.056348</td>\n",
              "      <td>0.004646</td>\n",
              "      <td>0.000000</td>\n",
              "      <td>0.000000</td>\n",
              "      <td>0.5</td>\n",
              "      <td>l1</td>\n",
              "      <td>{'C': 0.5, 'penalty': 'l1'}</td>\n",
              "      <td>NaN</td>\n",
              "      <td>NaN</td>\n",
              "      <td>NaN</td>\n",
              "      <td>NaN</td>\n",
              "      <td>NaN</td>\n",
              "      <td>NaN</td>\n",
              "      <td>NaN</td>\n",
              "      <td>10</td>\n",
              "    </tr>\n",
              "    <tr>\n",
              "      <th>3</th>\n",
              "      <td>3.466463</td>\n",
              "      <td>0.159100</td>\n",
              "      <td>0.049985</td>\n",
              "      <td>0.001504</td>\n",
              "      <td>0.5</td>\n",
              "      <td>l2</td>\n",
              "      <td>{'C': 0.5, 'penalty': 'l2'}</td>\n",
              "      <td>0.968807</td>\n",
              "      <td>0.968251</td>\n",
              "      <td>0.968615</td>\n",
              "      <td>0.969319</td>\n",
              "      <td>0.968095</td>\n",
              "      <td>0.968618</td>\n",
              "      <td>0.000432</td>\n",
              "      <td>7</td>\n",
              "    </tr>\n",
              "    <tr>\n",
              "      <th>4</th>\n",
              "      <td>0.061500</td>\n",
              "      <td>0.002907</td>\n",
              "      <td>0.000000</td>\n",
              "      <td>0.000000</td>\n",
              "      <td>1</td>\n",
              "      <td>l1</td>\n",
              "      <td>{'C': 1, 'penalty': 'l1'}</td>\n",
              "      <td>NaN</td>\n",
              "      <td>NaN</td>\n",
              "      <td>NaN</td>\n",
              "      <td>NaN</td>\n",
              "      <td>NaN</td>\n",
              "      <td>NaN</td>\n",
              "      <td>NaN</td>\n",
              "      <td>11</td>\n",
              "    </tr>\n",
              "    <tr>\n",
              "      <th>5</th>\n",
              "      <td>3.542349</td>\n",
              "      <td>0.067572</td>\n",
              "      <td>0.050560</td>\n",
              "      <td>0.001217</td>\n",
              "      <td>1</td>\n",
              "      <td>l2</td>\n",
              "      <td>{'C': 1, 'penalty': 'l2'}</td>\n",
              "      <td>0.968809</td>\n",
              "      <td>0.968253</td>\n",
              "      <td>0.968618</td>\n",
              "      <td>0.969321</td>\n",
              "      <td>0.968096</td>\n",
              "      <td>0.968619</td>\n",
              "      <td>0.000433</td>\n",
              "      <td>6</td>\n",
              "    </tr>\n",
              "    <tr>\n",
              "      <th>6</th>\n",
              "      <td>0.060415</td>\n",
              "      <td>0.006047</td>\n",
              "      <td>0.000000</td>\n",
              "      <td>0.000000</td>\n",
              "      <td>2</td>\n",
              "      <td>l1</td>\n",
              "      <td>{'C': 2, 'penalty': 'l1'}</td>\n",
              "      <td>NaN</td>\n",
              "      <td>NaN</td>\n",
              "      <td>NaN</td>\n",
              "      <td>NaN</td>\n",
              "      <td>NaN</td>\n",
              "      <td>NaN</td>\n",
              "      <td>NaN</td>\n",
              "      <td>12</td>\n",
              "    </tr>\n",
              "    <tr>\n",
              "      <th>7</th>\n",
              "      <td>3.484901</td>\n",
              "      <td>0.109378</td>\n",
              "      <td>0.050611</td>\n",
              "      <td>0.000651</td>\n",
              "      <td>2</td>\n",
              "      <td>l2</td>\n",
              "      <td>{'C': 2, 'penalty': 'l2'}</td>\n",
              "      <td>0.968810</td>\n",
              "      <td>0.968254</td>\n",
              "      <td>0.968619</td>\n",
              "      <td>0.969322</td>\n",
              "      <td>0.968097</td>\n",
              "      <td>0.968620</td>\n",
              "      <td>0.000433</td>\n",
              "      <td>5</td>\n",
              "    </tr>\n",
              "    <tr>\n",
              "      <th>8</th>\n",
              "      <td>0.057422</td>\n",
              "      <td>0.002595</td>\n",
              "      <td>0.000000</td>\n",
              "      <td>0.000000</td>\n",
              "      <td>3</td>\n",
              "      <td>l1</td>\n",
              "      <td>{'C': 3, 'penalty': 'l1'}</td>\n",
              "      <td>NaN</td>\n",
              "      <td>NaN</td>\n",
              "      <td>NaN</td>\n",
              "      <td>NaN</td>\n",
              "      <td>NaN</td>\n",
              "      <td>NaN</td>\n",
              "      <td>NaN</td>\n",
              "      <td>13</td>\n",
              "    </tr>\n",
              "    <tr>\n",
              "      <th>9</th>\n",
              "      <td>3.470574</td>\n",
              "      <td>0.121279</td>\n",
              "      <td>0.049579</td>\n",
              "      <td>0.000792</td>\n",
              "      <td>3</td>\n",
              "      <td>l2</td>\n",
              "      <td>{'C': 3, 'penalty': 'l2'}</td>\n",
              "      <td>0.968810</td>\n",
              "      <td>0.968254</td>\n",
              "      <td>0.968620</td>\n",
              "      <td>0.969322</td>\n",
              "      <td>0.968097</td>\n",
              "      <td>0.968620</td>\n",
              "      <td>0.000433</td>\n",
              "      <td>4</td>\n",
              "    </tr>\n",
              "    <tr>\n",
              "      <th>10</th>\n",
              "      <td>0.060201</td>\n",
              "      <td>0.001940</td>\n",
              "      <td>0.000000</td>\n",
              "      <td>0.000000</td>\n",
              "      <td>4</td>\n",
              "      <td>l1</td>\n",
              "      <td>{'C': 4, 'penalty': 'l1'}</td>\n",
              "      <td>NaN</td>\n",
              "      <td>NaN</td>\n",
              "      <td>NaN</td>\n",
              "      <td>NaN</td>\n",
              "      <td>NaN</td>\n",
              "      <td>NaN</td>\n",
              "      <td>NaN</td>\n",
              "      <td>14</td>\n",
              "    </tr>\n",
              "    <tr>\n",
              "      <th>11</th>\n",
              "      <td>3.606564</td>\n",
              "      <td>0.141989</td>\n",
              "      <td>0.050308</td>\n",
              "      <td>0.001240</td>\n",
              "      <td>4</td>\n",
              "      <td>l2</td>\n",
              "      <td>{'C': 4, 'penalty': 'l2'}</td>\n",
              "      <td>0.968810</td>\n",
              "      <td>0.968254</td>\n",
              "      <td>0.968620</td>\n",
              "      <td>0.969322</td>\n",
              "      <td>0.968097</td>\n",
              "      <td>0.968621</td>\n",
              "      <td>0.000433</td>\n",
              "      <td>3</td>\n",
              "    </tr>\n",
              "    <tr>\n",
              "      <th>12</th>\n",
              "      <td>0.057341</td>\n",
              "      <td>0.003949</td>\n",
              "      <td>0.000000</td>\n",
              "      <td>0.000000</td>\n",
              "      <td>5</td>\n",
              "      <td>l1</td>\n",
              "      <td>{'C': 5, 'penalty': 'l1'}</td>\n",
              "      <td>NaN</td>\n",
              "      <td>NaN</td>\n",
              "      <td>NaN</td>\n",
              "      <td>NaN</td>\n",
              "      <td>NaN</td>\n",
              "      <td>NaN</td>\n",
              "      <td>NaN</td>\n",
              "      <td>15</td>\n",
              "    </tr>\n",
              "    <tr>\n",
              "      <th>13</th>\n",
              "      <td>3.523062</td>\n",
              "      <td>0.063924</td>\n",
              "      <td>0.049862</td>\n",
              "      <td>0.001241</td>\n",
              "      <td>5</td>\n",
              "      <td>l2</td>\n",
              "      <td>{'C': 5, 'penalty': 'l2'}</td>\n",
              "      <td>0.968810</td>\n",
              "      <td>0.968254</td>\n",
              "      <td>0.968620</td>\n",
              "      <td>0.969322</td>\n",
              "      <td>0.968097</td>\n",
              "      <td>0.968621</td>\n",
              "      <td>0.000433</td>\n",
              "      <td>2</td>\n",
              "    </tr>\n",
              "    <tr>\n",
              "      <th>14</th>\n",
              "      <td>0.058902</td>\n",
              "      <td>0.004119</td>\n",
              "      <td>0.000000</td>\n",
              "      <td>0.000000</td>\n",
              "      <td>10</td>\n",
              "      <td>l1</td>\n",
              "      <td>{'C': 10, 'penalty': 'l1'}</td>\n",
              "      <td>NaN</td>\n",
              "      <td>NaN</td>\n",
              "      <td>NaN</td>\n",
              "      <td>NaN</td>\n",
              "      <td>NaN</td>\n",
              "      <td>NaN</td>\n",
              "      <td>NaN</td>\n",
              "      <td>16</td>\n",
              "    </tr>\n",
              "    <tr>\n",
              "      <th>15</th>\n",
              "      <td>3.411014</td>\n",
              "      <td>0.165681</td>\n",
              "      <td>0.047148</td>\n",
              "      <td>0.007046</td>\n",
              "      <td>10</td>\n",
              "      <td>l2</td>\n",
              "      <td>{'C': 10, 'penalty': 'l2'}</td>\n",
              "      <td>0.968810</td>\n",
              "      <td>0.968254</td>\n",
              "      <td>0.968620</td>\n",
              "      <td>0.969322</td>\n",
              "      <td>0.968098</td>\n",
              "      <td>0.968621</td>\n",
              "      <td>0.000433</td>\n",
              "      <td>1</td>\n",
              "    </tr>\n",
              "  </tbody>\n",
              "</table>\n",
              "</div>"
            ],
            "text/plain": [
              "    mean_fit_time  std_fit_time  ...  std_test_score  rank_test_score\n",
              "0        0.086138      0.029157  ...             NaN                9\n",
              "1        3.432916      0.246567  ...        0.000433                8\n",
              "2        0.056348      0.004646  ...             NaN               10\n",
              "3        3.466463      0.159100  ...        0.000432                7\n",
              "4        0.061500      0.002907  ...             NaN               11\n",
              "5        3.542349      0.067572  ...        0.000433                6\n",
              "6        0.060415      0.006047  ...             NaN               12\n",
              "7        3.484901      0.109378  ...        0.000433                5\n",
              "8        0.057422      0.002595  ...             NaN               13\n",
              "9        3.470574      0.121279  ...        0.000433                4\n",
              "10       0.060201      0.001940  ...             NaN               14\n",
              "11       3.606564      0.141989  ...        0.000433                3\n",
              "12       0.057341      0.003949  ...             NaN               15\n",
              "13       3.523062      0.063924  ...        0.000433                2\n",
              "14       0.058902      0.004119  ...             NaN               16\n",
              "15       3.411014      0.165681  ...        0.000433                1\n",
              "\n",
              "[16 rows x 15 columns]"
            ]
          },
          "metadata": {
            "tags": []
          },
          "execution_count": 71
        }
      ]
    },
    {
      "cell_type": "code",
      "metadata": {
        "id": "RK7QzRyS5r7Q",
        "colab_type": "code",
        "colab": {
          "base_uri": "https://localhost:8080/",
          "height": 52
        },
        "outputId": "49e6d2a9-13dc-4258-e681-22a35d65bbbf"
      },
      "source": [
        "# print best hyperparameters\n",
        "print(\"Best AUC: \", model_adasyn.best_score_)\n",
        "print(\"Best hyperparameters: \", model_adasyn.best_params_)"
      ],
      "execution_count": 72,
      "outputs": [
        {
          "output_type": "stream",
          "text": [
            "Best AUC:  0.9686209081330508\n",
            "Best hyperparameters:  {'C': 10, 'penalty': 'l2'}\n"
          ],
          "name": "stdout"
        }
      ]
    },
    {
      "cell_type": "code",
      "metadata": {
        "id": "T4iHOmeD5ut5",
        "colab_type": "code",
        "colab": {
          "base_uri": "https://localhost:8080/",
          "height": 104
        },
        "outputId": "4972114b-8b6e-4df2-d6b7-91a4f8e6bd47"
      },
      "source": [
        "# predict churn on test data\n",
        "y_pred = model_adasyn.predict(X_test)\n",
        "\n",
        "# create onfusion matrix\n",
        "cm = confusion_matrix(y_test, y_pred)\n",
        "print(cm)\n",
        "\n",
        "# check sensitivity and specificity\n",
        "sensitivity, specificity, _ = sensitivity_specificity_support(y_test, y_pred, average='binary')\n",
        "print(\"Sensitivity: \\t\", round(sensitivity, 2), \"\\n\", \"Specificity: \\t\", round(specificity, 2), sep='')\n",
        "\n",
        "# check area under curve\n",
        "y_pred_prob = model_adasyn.predict_proba(X_test)[:, 1]\n",
        "print(\"AUC:    \\t\", round(roc_auc_score(y_test, y_pred_prob),2))"
      ],
      "execution_count": 73,
      "outputs": [
        {
          "output_type": "stream",
          "text": [
            "[[65154  5925]\n",
            " [   11   112]]\n",
            "Sensitivity: \t0.91\n",
            "Specificity: \t0.92\n",
            "AUC:    \t 0.97\n"
          ],
          "name": "stdout"
        }
      ]
    },
    {
      "cell_type": "code",
      "metadata": {
        "id": "hwG1xaEF55gQ",
        "colab_type": "code",
        "colab": {
          "base_uri": "https://localhost:8080/",
          "height": 35
        },
        "outputId": "0eb3a565-6525-4b89-e877-8863d81ae37d"
      },
      "source": [
        "# accuracy score with turen parameters\n",
        "model_adasyn.score(X_test,y_test)"
      ],
      "execution_count": 74,
      "outputs": [
        {
          "output_type": "execute_result",
          "data": {
            "text/plain": [
              "0.9748275049964445"
            ]
          },
          "metadata": {
            "tags": []
          },
          "execution_count": 74
        }
      ]
    },
    {
      "cell_type": "markdown",
      "metadata": {
        "id": "rUVmI3TXN2i3",
        "colab_type": "text"
      },
      "source": [
        "### Random Forest"
      ]
    },
    {
      "cell_type": "code",
      "metadata": {
        "id": "DXSH-cFu6Fzd",
        "colab_type": "code",
        "colab": {}
      },
      "source": [
        "# random forest\n",
        "forest = RandomForestClassifier(n_jobs = -1)\n",
        "\n",
        "# hyperparameter space\n",
        "params = {\"criterion\": ['gini', 'entropy'], \"max_features\": ['auto', 'sqrt']}\n",
        "\n",
        "# create 5 folds\n",
        "folds = StratifiedKFold(n_splits = 5, shuffle = True, random_state = 4)\n",
        "\n",
        "# create gridsearch object\n",
        "rf_model_adasyn = GridSearchCV(estimator=forest, cv=folds, param_grid=params, scoring='roc_auc', n_jobs=-1, verbose=1)"
      ],
      "execution_count": 0,
      "outputs": []
    },
    {
      "cell_type": "code",
      "metadata": {
        "id": "0S0ivC2z6SGB",
        "colab_type": "code",
        "colab": {
          "base_uri": "https://localhost:8080/",
          "height": 451
        },
        "outputId": "248b64e8-be04-43a6-fbaf-a6552628fd31"
      },
      "source": [
        "# fit model\n",
        "rf_model_adasyn.fit(X_train_adasyn, y_train_adasyn)"
      ],
      "execution_count": 76,
      "outputs": [
        {
          "output_type": "stream",
          "text": [
            "Fitting 5 folds for each of 4 candidates, totalling 20 fits\n"
          ],
          "name": "stdout"
        },
        {
          "output_type": "stream",
          "text": [
            "[Parallel(n_jobs=-1)]: Using backend LokyBackend with 2 concurrent workers.\n",
            "[Parallel(n_jobs=-1)]: Done  20 out of  20 | elapsed: 86.1min finished\n"
          ],
          "name": "stderr"
        },
        {
          "output_type": "execute_result",
          "data": {
            "text/plain": [
              "GridSearchCV(cv=StratifiedKFold(n_splits=5, random_state=4, shuffle=True),\n",
              "             error_score=nan,\n",
              "             estimator=RandomForestClassifier(bootstrap=True, ccp_alpha=0.0,\n",
              "                                              class_weight=None,\n",
              "                                              criterion='gini', max_depth=None,\n",
              "                                              max_features='auto',\n",
              "                                              max_leaf_nodes=None,\n",
              "                                              max_samples=None,\n",
              "                                              min_impurity_decrease=0.0,\n",
              "                                              min_impurity_split=None,\n",
              "                                              min_samples_leaf=1,\n",
              "                                              min_samples_split=2,\n",
              "                                              min_weight_fraction_leaf=0.0,\n",
              "                                              n_estimators=100, n_jobs=-1,\n",
              "                                              oob_score=False,\n",
              "                                              random_state=None, verbose=0,\n",
              "                                              warm_start=False),\n",
              "             iid='deprecated', n_jobs=-1,\n",
              "             param_grid={'criterion': ['gini', 'entropy'],\n",
              "                         'max_features': ['auto', 'sqrt']},\n",
              "             pre_dispatch='2*n_jobs', refit=True, return_train_score=False,\n",
              "             scoring='roc_auc', verbose=1)"
            ]
          },
          "metadata": {
            "tags": []
          },
          "execution_count": 76
        }
      ]
    },
    {
      "cell_type": "code",
      "metadata": {
        "id": "dDMH4r9A6cl5",
        "colab_type": "code",
        "colab": {
          "base_uri": "https://localhost:8080/",
          "height": 52
        },
        "outputId": "5a5ab4a3-50e8-40ce-dc7b-c5cf93f1fe8d"
      },
      "source": [
        "# print best hyperparameters\n",
        "print(\"Best AUC: \", rf_model_adasyn.best_score_)\n",
        "print(\"Best hyperparameters: \", rf_model_adasyn.best_params_)"
      ],
      "execution_count": 77,
      "outputs": [
        {
          "output_type": "stream",
          "text": [
            "Best AUC:  0.9999998386345649\n",
            "Best hyperparameters:  {'criterion': 'entropy', 'max_features': 'sqrt'}\n"
          ],
          "name": "stdout"
        }
      ]
    },
    {
      "cell_type": "code",
      "metadata": {
        "id": "mUGR-IMd6sMk",
        "colab_type": "code",
        "colab": {
          "base_uri": "https://localhost:8080/",
          "height": 35
        },
        "outputId": "7c3ba2de-52de-413d-9b52-d6e98daf79af"
      },
      "source": [
        "# accuracy score with turen parameters\n",
        "rf_model_adasyn.score(X_test,y_test)"
      ],
      "execution_count": 78,
      "outputs": [
        {
          "output_type": "execute_result",
          "data": {
            "text/plain": [
              "0.9784047682202226"
            ]
          },
          "metadata": {
            "tags": []
          },
          "execution_count": 78
        }
      ]
    },
    {
      "cell_type": "code",
      "metadata": {
        "id": "ACeP_TFzRWGx",
        "colab_type": "code",
        "colab": {}
      },
      "source": [
        "rf_model_adasyn = RandomForestClassifier(n_jobs = -1, criterion='entropy', max_features='auto')"
      ],
      "execution_count": 0,
      "outputs": []
    },
    {
      "cell_type": "code",
      "metadata": {
        "id": "ojpnyDy2Ttao",
        "colab_type": "code",
        "colab": {
          "base_uri": "https://localhost:8080/",
          "height": 156
        },
        "outputId": "3ab8535a-b325-46f9-98d0-8bd2af4e7788"
      },
      "source": [
        "rf_model_adasyn.fit(X_train_adasyn, y_train_adasyn)"
      ],
      "execution_count": 80,
      "outputs": [
        {
          "output_type": "execute_result",
          "data": {
            "text/plain": [
              "RandomForestClassifier(bootstrap=True, ccp_alpha=0.0, class_weight=None,\n",
              "                       criterion='entropy', max_depth=None, max_features='auto',\n",
              "                       max_leaf_nodes=None, max_samples=None,\n",
              "                       min_impurity_decrease=0.0, min_impurity_split=None,\n",
              "                       min_samples_leaf=1, min_samples_split=2,\n",
              "                       min_weight_fraction_leaf=0.0, n_estimators=100,\n",
              "                       n_jobs=-1, oob_score=False, random_state=None, verbose=0,\n",
              "                       warm_start=False)"
            ]
          },
          "metadata": {
            "tags": []
          },
          "execution_count": 80
        }
      ]
    },
    {
      "cell_type": "code",
      "metadata": {
        "id": "yy-oKbGl6q-G",
        "colab_type": "code",
        "colab": {
          "base_uri": "https://localhost:8080/",
          "height": 104
        },
        "outputId": "7fedef32-91b2-4682-e3fe-6deba201a00d"
      },
      "source": [
        "# predict churn on test data\n",
        "y_test_pred = rf_model_adasyn.predict(X_test)\n",
        "\n",
        "# create onfusion matrix\n",
        "cm = confusion_matrix(y_test, y_test_pred)\n",
        "print(cm)\n",
        "\n",
        "# check sensitivity and specificity\n",
        "sensitivity, specificity, _ = sensitivity_specificity_support(y_test, y_test_pred, average='binary')\n",
        "print(\"Sensitivity: \\t\", round(sensitivity, 2), \"\\n\", \"Specificity: \\t\", round(specificity, 2), sep='')\n",
        "\n",
        "# check area under curve\n",
        "y_pred_prob = rf_model_adasyn.predict_proba(X_test)[:, 1]\n",
        "print(\"AUC:    \\t\", round(roc_auc_score(y_test, y_pred_prob),2))"
      ],
      "execution_count": 81,
      "outputs": [
        {
          "output_type": "stream",
          "text": [
            "[[71068    11]\n",
            " [   26    97]]\n",
            "Sensitivity: \t0.79\n",
            "Specificity: \t1.0\n",
            "AUC:    \t 0.97\n"
          ],
          "name": "stdout"
        }
      ]
    },
    {
      "cell_type": "markdown",
      "metadata": {
        "id": "RZnVUQK2OOA6",
        "colab_type": "text"
      },
      "source": [
        "### XGBoost"
      ]
    },
    {
      "cell_type": "code",
      "metadata": {
        "id": "9Lk9g8hp629Y",
        "colab_type": "code",
        "colab": {
          "base_uri": "https://localhost:8080/",
          "height": 297
        },
        "outputId": "80e6351e-9b4d-4415-c096-b8c611ad3bc7"
      },
      "source": [
        "tree_range = range(80, 120, 10)\n",
        "score1=[]\n",
        "score2=[]\n",
        "for tree in tree_range:\n",
        "    xgb=XGBClassifier(n_estimators=tree)\n",
        "    xgb.fit(X_train_adasyn,y_train_adasyn)\n",
        "    y_pred_prob = xgb.predict_proba(X_train_adasyn)[:, 1]\n",
        "    score1.append(roc_auc_score(y_train_adasyn, y_pred_prob))\n",
        "    y_pred_prob1 = xgb.predict_proba(X_test)[:, 1]\n",
        "    score2.append(roc_auc_score(y_test, y_pred_prob1))\n",
        "    \n",
        "%matplotlib inline\n",
        "plt.plot(tree_range,score1,label= 'AUC Scroe on training set')\n",
        "plt.plot(tree_range,score2,label= 'AUC Score on testing set')\n",
        "plt.xlabel('Value of number of trees in XGboost')\n",
        "plt.ylabel('AUC Score')\n",
        "plt.legend()"
      ],
      "execution_count": 82,
      "outputs": [
        {
          "output_type": "execute_result",
          "data": {
            "text/plain": [
              "<matplotlib.legend.Legend at 0x7f7de9d87eb8>"
            ]
          },
          "metadata": {
            "tags": []
          },
          "execution_count": 82
        },
        {
          "output_type": "display_data",
          "data": {
            "image/png": "[encoded data removed]",
            "text/plain": [
              "<Figure size 432x288 with 1 Axes>"
            ]
          },
          "metadata": {
            "tags": [],
            "needs_background": "light"
          }
        }
      ]
    },
    {
      "cell_type": "code",
      "metadata": {
        "id": "QmNFP3fQPfX2",
        "colab_type": "code",
        "colab": {
          "base_uri": "https://localhost:8080/",
          "height": 104
        },
        "outputId": "1e1ed4e3-b878-4309-ee42-f42920929390"
      },
      "source": [
        "xgb = XGBClassifier(n_estimators=100,random_state=4)\n",
        "xgb.fit(X_train_adasyn, y_train_adasyn)\n",
        "# predict churn on test data\n",
        "y_test_pred = xgb.predict(X_test)\n",
        "\n",
        "# create onfusion matrix\n",
        "cm = confusion_matrix(y_test, y_test_pred)\n",
        "print(cm)\n",
        "\n",
        "# check sensitivity and specificity\n",
        "sensitivity, specificity, _ = sensitivity_specificity_support(y_test, y_test_pred, average='binary')\n",
        "print(\"Sensitivity: \\t\", round(sensitivity, 2), \"\\n\", \"Specificity: \\t\", round(specificity, 2), sep='')\n",
        "\n",
        "# check area under curve\n",
        "y_pred_prob = xgb.predict_proba(X_test)[:, 1]\n",
        "print(\"AUC:    \\t\", round(roc_auc_score(y_test, y_pred_prob),2))"
      ],
      "execution_count": 83,
      "outputs": [
        {
          "output_type": "stream",
          "text": [
            "[[68670  2409]\n",
            " [   12   111]]\n",
            "Sensitivity: \t0.9\n",
            "Specificity: \t0.97\n",
            "AUC:    \t 0.98\n"
          ],
          "name": "stdout"
        }
      ]
    },
    {
      "cell_type": "markdown",
      "metadata": {
        "id": "ow6cUGuxOVHq",
        "colab_type": "text"
      },
      "source": [
        "XGBoost and Logistic Regression have sensitivity of 0.9 and 0.91 resectively but XGBoost is reffered since it has a better performance in terms of specificity and AUC Score."
      ]
    },
    {
      "cell_type": "markdown",
      "metadata": {
        "id": "_I5KXxpsOtBT",
        "colab_type": "text"
      },
      "source": [
        "## Feature Interpretation (not valid for this data as data consists of principal components)"
      ]
    },
    {
      "cell_type": "code",
      "metadata": {
        "id": "k1meqG6gRRr7",
        "colab_type": "code",
        "colab": {
          "base_uri": "https://localhost:8080/",
          "height": 1000
        },
        "outputId": "2918ec1c-9456-480c-fba0-a0a4464a2fe2"
      },
      "source": [
        "var_imp = []\n",
        "for i in xgb.feature_importances_:\n",
        "    var_imp.append(i)\n",
        "print('Top var =', var_imp.index(np.sort(xgb.feature_importances_)[-1])+1)\n",
        "print('2nd Top var =', var_imp.index(np.sort(xgb.feature_importances_)[-2])+1)\n",
        "print('3rd Top var =', var_imp.index(np.sort(xgb.feature_importances_)[-3])+1)\n",
        "\n",
        "# Variable on Index-13 and Index-9 seems to be the top 2 variables\n",
        "top_var_index = var_imp.index(np.sort(xgb.feature_importances_)[-1])\n",
        "second_top_var_index = var_imp.index(np.sort(xgb.feature_importances_)[-2])\n",
        "\n",
        "X_train_1 = X_train.to_numpy()[np.where(y_train==1.0)]\n",
        "X_train_0 = X_train.to_numpy()[np.where(y_train==0.0)]\n",
        "\n",
        "np.random.shuffle(X_train_0)\n",
        "\n",
        "import matplotlib.pyplot as plt\n",
        "%matplotlib inline\n",
        "plt.rcParams['figure.figsize'] = [20, 20]\n",
        "\n",
        "plt.scatter(X_train_1[:, top_var_index], X_train_1[:, second_top_var_index], label='Actual Class-1 Examples')\n",
        "plt.scatter(X_train_0[:X_train_1.shape[0], top_var_index], X_train_0[:X_train_1.shape[0], second_top_var_index],\n",
        "            label='Actual Class-0 Examples')\n",
        "plt.legend()"
      ],
      "execution_count": 84,
      "outputs": [
        {
          "output_type": "stream",
          "text": [
            "Top var = 14\n",
            "2nd Top var = 4\n",
            "3rd Top var = 8\n"
          ],
          "name": "stdout"
        },
        {
          "output_type": "execute_result",
          "data": {
            "text/plain": [
              "<matplotlib.legend.Legend at 0x7f7de9d08898>"
            ]
          },
          "metadata": {
            "tags": []
          },
          "execution_count": 84
        },
        {
          "output_type": "display_data",
          "data": {
            "image/png": "[encoded data removed]",
            "text/plain": [
              "<Figure size 1440x1440 with 1 Axes>"
            ]
          },
          "metadata": {
            "tags": [],
            "needs_background": "light"
          }
        }
      ]
    },
    {
      "cell_type": "markdown",
      "metadata": {
        "id": "0cTjt-D6PO66",
        "colab_type": "text"
      },
      "source": [
        "## Best Model"
      ]
    },
    {
      "cell_type": "code",
      "metadata": {
        "id": "0Pv6-G-7V4nY",
        "colab_type": "code",
        "colab": {
          "base_uri": "https://localhost:8080/",
          "height": 69
        },
        "outputId": "ed8a0100-1767-4a6a-8a01-4e0c7f4ceaa3"
      },
      "source": [
        "from sklearn import metrics\n",
        "print('Train auc =', metrics.roc_auc_score(y_train_adasyn, xgb.predict_proba(X_train_adasyn)[:, 1]))\n",
        "print('Test auc =', metrics.roc_auc_score(y_test, xgb.predict_proba(X_test)[:, 1]))\n",
        "fpr, tpr, thresholds = metrics.roc_curve(y_test, xgb.predict_proba(X_test)[:, 1])\n",
        "threshold = thresholds[np.argmax(tpr-fpr)]\n",
        "print('Best Threshold = ',threshold)"
      ],
      "execution_count": 85,
      "outputs": [
        {
          "output_type": "stream",
          "text": [
            "Train auc = 0.9966881841666505\n",
            "Test auc = 0.9797571510092342\n",
            "Best Threshold =  0.6038552\n"
          ],
          "name": "stdout"
        }
      ]
    },
    {
      "cell_type": "markdown",
      "metadata": {
        "id": "qFWqLudgPXwE",
        "colab_type": "text"
      },
      "source": [
        "## **Conclusion**\n",
        "XGBoost on the ADASYN oversampled data gives the best model in terms of predicting the fraud transactions with a minimum error."
      ]
    }
  ]
}